{
  "nbformat": 4,
  "nbformat_minor": 0,
  "metadata": {
    "colab": {
      "name": "FurtherReading.ipynb",
      "provenance": [],
      "authorship_tag": "ABX9TyPaI5pIztvK3v5V22BCRk0s",
      "include_colab_link": true
    },
    "kernelspec": {
      "name": "python3",
      "display_name": "Python 3"
    },
    "language_info": {
      "name": "python"
    }
  },
  "cells": [
    {
      "cell_type": "markdown",
      "metadata": {
        "id": "view-in-github",
        "colab_type": "text"
      },
      "source": [
        "<a href=\"https://colab.research.google.com/github/jjcrofts77/TMB-MATH34041/blob/main/content/notebooks/Chapter3/FurtherReading.ipynb\" target=\"_parent\"><img src=\"https://colab.research.google.com/assets/colab-badge.svg\" alt=\"Open In Colab\"/></a>"
      ]
    },
    {
      "cell_type": "markdown",
      "metadata": {
        "id": "J3p0JPDJIWyA"
      },
      "source": [
        "# 3.3 Further Reading\n",
        "\n",
        "Determining important network nodes and substructures is one the most important tasks in understanding complex networks, particularly in biology were the resulting structures are a result of evolutionary processes and are likely closely related to organism (dis)function/behaviour. Again, many important topics are missing in this short primer; some of these gaps can be filled by reading the following papers/texts and references therein.\n",
        "\n",
        "1. Perra and S. Fortunato, [Spectral centrality measures in complex networks](https://journals.aps.org/pre/abstract/10.1103/PhysRevE.78.036107), *Physical Review E*, **78**:036107 (2008).\n",
        "2. J. J. Crofts and D. J. Higham, [A weighted communicability measure applied to complex brain networks](https://royalsocietypublishing.org/doi/full/10.1098/rsif.2008.0484), *Journal of the Royal Society Interface*, **6**(33): 411-414 (2009)\n",
        "3. C Winter *et al.*, [Google goes cancer: improving outcome prediction for cancer patients by network-based ranking of marker genes](https://journals.plos.org/ploscompbiol/article?id=10.1371/journal.pcbi.1002511), *PLoS Computational Biology*, **8**(5): e1002511 (2012).\n",
        "4. A. N. Langville and C. D. Meyer, [*Google's PageRank and Beyond: The Science of Search Engine Rankings*](https://www.degruyter.com/document/doi/10.1515/9781400830329/html), Princeton University Press, 2006.\n",
        "5. M. E. J. Newman, [Modularity and community structure in networks](https://www.pnas.org/doi/abs/10.1073/pnas.0601602103), *PNAS*, **103**(23): 8677-8582 (2006).\n"
      ]
    }
  ]
}