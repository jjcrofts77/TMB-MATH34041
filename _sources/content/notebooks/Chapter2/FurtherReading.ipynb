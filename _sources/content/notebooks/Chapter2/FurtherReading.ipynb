{
  "nbformat": 4,
  "nbformat_minor": 0,
  "metadata": {
    "colab": {
      "name": "FurtherReading.ipynb",
      "provenance": [],
      "authorship_tag": "ABX9TyNw5pW0eDEWMN555A7H0nTz",
      "include_colab_link": true
    },
    "kernelspec": {
      "name": "python3",
      "display_name": "Python 3"
    },
    "language_info": {
      "name": "python"
    }
  },
  "cells": [
    {
      "cell_type": "markdown",
      "metadata": {
        "id": "view-in-github",
        "colab_type": "text"
      },
      "source": [
        "<a href=\"https://colab.research.google.com/github/jjcrofts77/TMB-MATH34041/blob/main/content/notebooks/Chapter2/FurtherReading.ipynb\" target=\"_parent\"><img src=\"https://colab.research.google.com/assets/colab-badge.svg\" alt=\"Open In Colab\"/></a>"
      ]
    },
    {
      "cell_type": "markdown",
      "metadata": {
        "id": "bv6bmRBpHI6u"
      },
      "source": [
        "# 2.4 Further Reading\n",
        "\n",
        "Some of the material introduced in this chapter sparked off the very first studies in network science and helped shaped it into its current form. The list below contains a few of the early stand out publications.\n",
        "\n",
        "\n",
        "1. P. Erdos and A. Renyi, [On random graphs i.](https://snap.stanford.edu/class/cs224w-readings/erdos59random.pdf), *Publ. Math. Debrecen*, **6**:290-297 (1959).\n",
        "2. S. Milgram, [The small world problem](http://snap.stanford.edu/class/cs224w-readings/milgram67smallworld.pdf), *Psychology Today* **2**(1):60-67 (1967).\n",
        "3. D.J. Watts and S. Strogatz, [Collective dynamics of `small-world' networks](https://idp.nature.com/authorize/casa?redirect_uri=https://www.nature.com/articles/30918.&casa_token=wSkBPURXI4gAAAAA:IP5PvSLGWo2QOsgnjMKDiFMc94XKECCW8YKj0aHdI4TU666iSXwzNa_hpqxpuKhFkG-IK11bIvSbFdxiro4), *Nature*, **393**:440-442 (1998).\n",
        "4. A. L. Barab\\'asi and R. Albert, [Emergence of scaling in random networks](https://www.science.org/doi/abs/10.1126/science.286.5439.509), *Science*, **286**(5439):509-512 (1999).\n",
        "\n"
      ]
    }
  ]
}