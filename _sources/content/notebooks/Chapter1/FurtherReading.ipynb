{
  "nbformat": 4,
  "nbformat_minor": 0,
  "metadata": {
    "colab": {
      "name": "FurtherReading.ipynb",
      "provenance": [],
      "authorship_tag": "ABX9TyO572vr2/zbdikgy035hb44",
      "include_colab_link": true
    },
    "kernelspec": {
      "name": "python3",
      "display_name": "Python 3"
    },
    "language_info": {
      "name": "python"
    }
  },
  "cells": [
    {
      "cell_type": "markdown",
      "metadata": {
        "id": "view-in-github",
        "colab_type": "text"
      },
      "source": [
        "<a href=\"https://colab.research.google.com/github/jjcrofts77/TMB-MATH34041/blob/main/content/notebooks/Chapter1/FurtherReading.ipynb\" target=\"_parent\"><img src=\"https://colab.research.google.com/assets/colab-badge.svg\" alt=\"Open In Colab\"/></a>"
      ]
    },
    {
      "cell_type": "markdown",
      "metadata": {
        "id": "wCT1AFT6Bp_u"
      },
      "source": [
        "# 1.4 Further Reading\n",
        "\n",
        "After reading this section the reader will have a basic understanding of some of the mathematical prerequisites (i.e. graph theory) necessary to start studying the complex networks that arise in biology. However, due to time constraints many details have been omitted, for example, how does one go about computing the aforementioned metrics on the typically very large networks that result from biology? Clearly we can't perform matrix multiplications on a network with a million nodes! For this reason I have highlighted a number of books, papers and software packages below, that allows the interested reader (all of you!) to further explore this fascinating topic.\n",
        "\n",
        "\n",
        "**Books and review articles:**\n",
        "\n",
        "1. E. Estrada, [The Structure of Complex Networks](https://academic.oup.com/book/12738), Oxford University Press, 2011.\n",
        "\n",
        "2. M. E. J. Newman, [Networks: an introduction](https://academic.oup.com/book/27303), Oxford University Press, 2010.\n",
        "\n",
        "3. L. da F. Costa *et al.*, [Characterisation of complex networks: a survey of measurements](https://www.tandfonline.com/doi/abs/10.1080/00018730601170527). *Advances in Physics* **56**(1):167--242 (2007).\n",
        "\n",
        "4. M. Buchanan *et al.*, [Networks in Cell Biology](https://www.cambridge.org/core/books/networks-in-cell-biology/30BDF60A4D3B80677B0B031CDB7B1E36),\n",
        "\n",
        "5. A. L. Barab\\'asi and Z. N. Oltvai, [Network biology: understanding the cells functional organisation](https://www.nature.com/articles/nrg1272), *Nature Review Genetics*, **5**(2):101--113 (2004).\n",
        "\n",
        "6. O. Sporns, [Networks of the Brain](https://mitpress.mit.edu/9780262528986/networks-of-the-brain/), MIT Press, 2010.\n",
        "\n",
        "7. M. Kaiser, [A tutorial in connectome analysis: topological and spatial features of brain networks](https://www.sciencedirect.com/science/article/abs/pii/S1053811911005131). *NeuroImage* **57**:982--907 (2011).\n",
        "\n",
        "\n",
        "**Popular Books:**\n",
        "\n",
        "1. D. J. Watts, [Six Degrees: The Science of a Connected Age](https://www.amazon.co.uk/Six-Degrees-Science-Connected-Age/dp/0393325423), W. W. Norton and Company, 2003.\n",
        "\n",
        "2. A. L. Bar\\'abasi, [Linked: The New Science of Networks](https://www.amazon.co.uk/Linked-Science-Networks-Albert-Laszlo-Barabasi/dp/0738206679), Perseus, Cambridge, MA, 2002.\n",
        "\n",
        "\n",
        "**Open source network analysis and visualisation software:**\n",
        "\n",
        "1. [Brain Connectivity Toolbox (BCT)](https://sites.google.com/site/bctnet/): is a MATLAB toolbox for complex-network analysis of structural and functional brain-connectivity data sets.\n",
        "\n",
        "2. [MatlabBGL](https://www.cs.purdue.edu/homes/dgleich/packages/matlab_bgl/): a Matlab package for working with networks/graphs. It uses the Boost Graph Library to efficiently implement the graph algorithms.  MatlabBGL is designed to work with large sparse graphs with hundreds of thousands of nodes.\n",
        "\n",
        "3. [Gephi](https://gephi.org/): is a visualization and exploration software for all kinds of graphs and networks.\n",
        "\n",
        "4. [NodeXL](https://nodexl.com/): is a free, open-source template for Microsoft Excel 2007, 2010, 2013 and 2016 that makes it easy to explore network graphs.\n"
      ]
    }
  ]
}