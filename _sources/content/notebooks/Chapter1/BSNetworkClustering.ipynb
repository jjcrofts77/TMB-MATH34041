{
  "nbformat": 4,
  "nbformat_minor": 0,
  "metadata": {
    "colab": {
      "name": "BSNetworkClustering.ipynb",
      "provenance": [],
      "authorship_tag": "ABX9TyMBDuxpqUPBVIdwgrpNiQ13",
      "include_colab_link": true
    },
    "kernelspec": {
      "name": "python3",
      "display_name": "Python 3"
    },
    "language_info": {
      "name": "python"
    }
  },
  "cells": [
    {
      "cell_type": "markdown",
      "metadata": {
        "id": "view-in-github",
        "colab_type": "text"
      },
      "source": [
        "<a href=\"https://colab.research.google.com/github/jjcrofts77/TMB-MATH34041/blob/main/content/notebooks/Chapter1/BSNetworkClustering.ipynb\" target=\"_parent\"><img src=\"https://colab.research.google.com/assets/colab-badge.svg\" alt=\"Open In Colab\"/></a>"
      ]
    },
    {
      "cell_type": "markdown",
      "source": [
        "# 1.2 Basic Statistics (Ctd)\n",
        "\n",
        "## 1.2.3 Network clustering\n",
        "\n",
        "Alongside the characteristic path-length perhaps the most important network metric is that of clustering, which measures the extent to which a nodes neighbours are connected. A feature of highly clustered networks is the presence of a large number of triangles. For instance, in a friendship network it is highly likely that if Bob and Phil are both friends of Joe then they will eventually meet each other via their relation with Joe, thus forming a triangle. Mathematically, a highly clustered network, i.e. one in which  $i\\sim j$ and $i\\sim k$ implies a high probability that $j\\sim k$ is said to be \\emph{highly transitive}. \n",
        "\n",
        "\\begin{figure}[t]\n",
        "\\centering\n",
        " \\includegraphics[scale=0.6]{Figures/Clustering}\n",
        " \\caption{Simple illustration of the Watts-Strogatz clustering coefficient: (LHS) $C(i) = \\{0,0,0,0\\}$ and $\\langle C\\rangle = 0$; (Middle) $C(i) = \\{1,1,1,1\\}$ and $\\langle C\\rangle = 1$; and (RHS) $C(i) = \\{1,\\frac{1}{3},0,1\\}$ and $\\langle C\\rangle = \\frac{7}{12}$.}\\label{fig4:ClusteringExample}\n",
        "\\end{figure}\n",
        "\n",
        "\\bigskip\n",
        "\n",
        "\\noindent\\textbf{Watts-Strogatz clustering}\\\\\n",
        "The first proposal for a \\emph{clustering coefficient} was given by Watts and Strogatz in their seminal paper on `small-world' networks in 1998. Given a node, $i$ say, the local clustering coefficient measures the proportion of triangles amongst its neighbours:\n",
        "\\[\n",
        " C(i) = \\frac{\\text{number of triangles centred on node $i$}}{\\text{total number of possible triangles centred on node $i$}}.\n",
        "\\]\n",
        "Mathematically, we can write the above equation as\n",
        "\\begin{equation}\\label{eqn:WSClusteringCoeficient}\n",
        " C(i) = \\frac{t_i}{k_i(k_i-1)/2} = \\frac{2t_i}{k_i(k_i-1)}, \n",
        "\\end{equation}\n",
        "where $k_i$ gives the degree of the $i$th node and we define $t_i$ to be the total number of triangles centred on node $i$. Given Equation (\\ref{eqn:WSClusteringCoeficient}) it is straightforward to construct a global clustering coefficient by averaging the local clustering coefficient over all network nodes:\n",
        "\\begin{equation}\n",
        " \\langle C\\rangle = \\frac{1}{n}\\sum_i C(i).\n",
        "\\end{equation}\n",
        "Figure \\ref{fig4:ClusteringExample} illustrates the above ideas for 3 toy networks models.\n",
        "\n",
        "\\bigskip\n",
        "\\noindent\\textbf{Exercise:} Compute the WS clustering coefficient (both local and global) for the three toy models in Figure \\ref{fig:WSexamples}.\n",
        "\n",
        "\\bigskip\n",
        "\\noindent\\textbf{Exercise:} Compute $t_i$ from Equation (\\ref{eqn:WSClusteringCoeficient}) in terms of the network adjacency matrix.\n",
        "\n",
        "\\bigskip\n",
        "\n",
        "\\noindent\\textbf{Transitivity index}\\\\\n",
        "Another way of quantifying global clustering within a network is by means of the so-called \\emph{transitivity index}. Let $|C_3|$ denote the total number of triangles present within the network, and $|P_2|$ the total number of paths of length 2 in the network - note that a path of length two represents a potential triangle. Then we define the transitivity index as \n",
        "\\begin{equation}\\label{eqn:GlobalClusteringCoefficient}\n",
        " T = \\frac{3|C_3|}{|P_2|}.\n",
        "\\end{equation}\n",
        "The factor of 3 is due to the fact that each triangle contributes 3 2-paths, i.e. paths of length 2.\n",
        "\n",
        "\\begin{figure}[t]\n",
        "\\centering\n",
        " \\includegraphics[scale=0.4]{Figures/NetworkExample}\n",
        " \\caption{Simple network on 8 nodes.}\\label{fig:SimpleNetworkExample}\n",
        "\\end{figure}\n",
        "\n",
        "Let us consider the simple network given in Figure \\ref{fig:SimpleNetworkExample} whose adjacency matrix is shown below.\n",
        "\\begin{align*}\n",
        "A &= \\left(\n",
        "      \\begin{tabular}{cccccccc}\n",
        "      0 & 1 & 1 &1 & 1 & 1& 0 & 0\\\\\n",
        "      1 & 0 & 1 &0 & 0 & 1& 0 & 0\\\\\n",
        "      1 & 1 & 0 &1 & 0 & 0& 1 & 0\\\\\n",
        "      1 & 0 & 1 &0 & 0 & 0& 0 & 1\\\\\n",
        "      1 & 0 & 0 &0 & 0 & 0& 0 & 0\\\\\n",
        "      0 & 1 & 0 &0 & 0 & 0& 0 & 0\\\\\n",
        "      0 & 0 & 1 &0 & 0 & 0& 0 & 0\\\\\n",
        "      0 & 0 & 0 &1 & 0 & 0& 0 & 0\n",
        "      \\end{tabular}\n",
        "      \\right)\n",
        "\\end{align*}\n",
        "We can compute the number of triangles in this network by considering the above matrix. In fact, recalling Theorem \\ref{Theorem:Walks} we see that\n",
        "\\[\n",
        "|C_3| = \\frac{1}{6}\\Tr\\left(A^3\\right) = 2.\n",
        "\\]\n",
        "The number of paths of length two in the network can be obtained using the following formula (which you are asked to justify in the problem sheets)\n",
        "\\[\n",
        "|P_2| = \\sum_{i=1}^n{k_i\\choose 2} = \\sum_{i=1}^n\\frac{k_i(k_i-1)}{2} = 18.\n",
        "\\]\n",
        "Thus, \n",
        "\\[\n",
        "T = \\frac{3\\times 2}{18} = \\frac{1}{3}.\n",
        "\\]\n",
        "\n",
        "\\bigskip\n",
        "\\noindent\\textbf{Exercise:} Use Figure \\ref{fig:SimpleNetworkExample} to confirm the above calculations. (Hint: the amount of work is greatly reduced by noting that several of the nodes in this network are `equivalent'.)"
      ],
      "metadata": {
        "id": "2XJjFWeERQJi"
      }
    }
  ]
}