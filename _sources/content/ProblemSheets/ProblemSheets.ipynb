{
  "nbformat": 4,
  "nbformat_minor": 0,
  "metadata": {
    "colab": {
      "provenance": [],
      "authorship_tag": "ABX9TyMUEzn/9j2zqkmT68d844sV",
      "include_colab_link": true
    },
    "kernelspec": {
      "name": "python3",
      "display_name": "Python 3"
    },
    "language_info": {
      "name": "python"
    }
  },
  "cells": [
    {
      "cell_type": "markdown",
      "metadata": {
        "id": "view-in-github",
        "colab_type": "text"
      },
      "source": [
        "<a href=\"https://colab.research.google.com/github/jjcrofts77/TMB-MATH34041/blob/main/content/ProblemSheets/ProblemSheets.ipynb\" target=\"_parent\"><img src=\"https://colab.research.google.com/assets/colab-badge.svg\" alt=\"Open In Colab\"/></a>"
      ]
    },
    {
      "cell_type": "markdown",
      "source": [
        "# Problem Sheets\n",
        "\n",
        "The following problem sheets are a mixture of theory and applications using Python.\n",
        "\n",
        "The coding questions can be answered by clicking on the 'Open in Colab' button, which opens up an interactive Python Notebook that can be saved on your own Google Drive or downloaded onto your PC.\n",
        "\n",
        "This procedure us similar to how the coursework will work since you need to hand in a saved Python Notebook containing your coursework answers to the Dropbox.\n",
        "\n",
        "\n",
        "----"
      ],
      "metadata": {
        "id": "WcDVjvsMRetQ"
      }
    }
  ]
}