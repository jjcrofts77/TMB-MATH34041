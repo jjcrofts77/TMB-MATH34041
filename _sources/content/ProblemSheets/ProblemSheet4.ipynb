{
  "nbformat": 4,
  "nbformat_minor": 0,
  "metadata": {
    "colab": {
      "provenance": [],
      "include_colab_link": true
    },
    "kernelspec": {
      "name": "python3",
      "display_name": "Python 3"
    },
    "language_info": {
      "name": "python"
    }
  },
  "cells": [
    {
      "cell_type": "markdown",
      "metadata": {
        "id": "view-in-github",
        "colab_type": "text"
      },
      "source": [
        "<a href=\"https://colab.research.google.com/github/jjcrofts77/TMB-MATH34041/blob/main/content/ProblemSheets/ProblemSheet4.ipynb\" target=\"_parent\"><img src=\"https://colab.research.google.com/assets/colab-badge.svg\" alt=\"Open In Colab\"/></a>"
      ]
    },
    {
      "cell_type": "markdown",
      "source": [
        "# Problem Sheet 4: Network models\n",
        "\n",
        "1.  A random graph ensemble $G(n,p)$ with $p = \\frac{\\langle k \\rangle}{n-1}$ has a binomial degree distribution\n",
        "\n",
        "  $$\n",
        "  P_\\mathrm{B}(k) = {{n-1}\\choose{k}}p^k(1-p)^{n-1-k},\n",
        "  $$(eqn1)\n",
        "\n",
        "  that in the limit of large $n$ can be approximated by a Poisson distribution\n",
        "\n",
        "  $$\n",
        "  P_\\mathrm{P}(k) = \\frac{1}{k!}\\langle k\\rangle^ke^{-\\langle k\\rangle}.\n",
        "  $$(eqn2)\n",
        "\n",
        "  (a) Write the generating function (a.k.a. the z-transform)\n",
        "\n",
        "  $$\\displaystyle g_B(x) = \\sum_{k=0}^{\\infty}P_\\mathrm{B}(k)x^k$$\n",
        "\n",
        "  for the binomial degree distribution $P_\\mathrm{B}(k)$ given by Equation {eq}`eqn1`.\n",
        "\n",
        "  (b) Repeat the above, but for the Poisson degree distribution $P_\\mathrm{P}(k)$ given by Equation {eq}`eqn2`.\n",
        "\n",
        "  (c) Using the following properties of generating functions:\n",
        "\n",
        "  $$\n",
        "    \\langle k\\rangle = g'(1) \\quad \\text{and}\\quad \\langle (k-\\langle k\\rangle)^2\\rangle = g''(1) + g'(1)(1-g'(1))\n",
        "  $$\n",
        "\n",
        "  evaluate the mean and variance of the degree distribution for both the exact binomial and approximate Poisson distributions.\n",
        "\n",
        "  (d) Hence show that the mean and variance of the binomial distribution, $P_\\mathrm{B}(k)$, are the same as those derived for the Poisson distribution, $P_\\mathrm{P}(k)$, in the large $n$ limit, providing that $p=\\langle k\\rangle/(n-1)$ with $\\langle k\\rangle$ constant.\n",
        "\n",
        "  (e) In the code box below, write a Python script that plots the degree distribution for an ER random graph on $n=1000$ nodes with $p=0.05$. On the same graph plot the Poisson distribution with parameter $\\langle k\\rangle = p(n-1)$.\n"
      ],
      "metadata": {
        "id": "vx97dqxaxJKh"
      }
    },
    {
      "cell_type": "code",
      "source": [
        "# Q1(e)\n",
        "n = 1000\n",
        "\n",
        "# create ER network\n",
        "\n",
        "# plot the empirical degree distribution\n",
        "\n",
        "# add the corresponding Poisson distribution (<k> = p(n-1))"
      ],
      "metadata": {
        "id": "koZ0RxqGw2Ah"
      },
      "execution_count": null,
      "outputs": []
    },
    {
      "cell_type": "markdown",
      "source": [
        "2. Consider a random network in the ensemble $G(n,p)$ with $n=2000$ and linking probability $p = 10^{-3}$.\n",
        "\n",
        "  (a) Calculate the average degree $\\langle k\\rangle$ and standard deviation $\\sigma$ of this network using the fact that it follows a binomial distribution.\n",
        "\n",
        "  (b)  Calculate the average degree $\\langle k\\rangle$ and standard deviation $\\sigma$ of this network using the fact that for large $n$ and fixed mean degree it follows a Poisson distribution.\n",
        "\n",
        "  (c) Calculate the relative error made in calculating $\\langle k\\rangle$ and $\\sigma$ when using the approximation in (b).\n",
        "\n",
        "  (d) Check your calculations using Python in the code box below."
      ],
      "metadata": {
        "id": "vE7JrTLcw3W6"
      }
    },
    {
      "cell_type": "code",
      "source": [
        "# Q2\n",
        "\n",
        "# exact degree and s.d.\n",
        "\n",
        "# large limit appoximations\n",
        "\n",
        "# relative error"
      ],
      "metadata": {
        "id": "CKwJu0-Zyoje"
      },
      "execution_count": null,
      "outputs": []
    },
    {
      "cell_type": "markdown",
      "source": [
        "3. Show that the generating function of a network, $N$, whose degree distribution follows an exponential distribution of the form $P_k = Ce^{-\\lambda k}$, is given by\n",
        "\n",
        "  $$\n",
        "  g(x) = \\frac{e^\\lambda-1}{e^\\lambda - x}.\n",
        "  $$"
      ],
      "metadata": {
        "id": "ixvugq1sxFAc"
      }
    },
    {
      "cell_type": "markdown",
      "source": [
        "```{figure} ../images/PS4Q4.png\n",
        "---\n",
        "height: 350px\n",
        "name: fig1\n",
        "---\n",
        "```\n",
        "\n",
        "4. Show that the global clustering clustering (or transitivity) of a k-regular ring lattice, such as that shown in {numref}`fig1` for $k=4$, is given by\n",
        "\n",
        "  $$\n",
        "  T = \\frac{3(k-2)}{4(k-1)}.\n",
        "  $$"
      ],
      "metadata": {
        "id": "7ac0uT_yxOH5"
      }
    },
    {
      "cell_type": "markdown",
      "source": [
        "5.  Suppose that the network $N = (V, E)$ has adjacency matrix $A$ with characteristic polynomial given by\n",
        "\n",
        "  $$\n",
        "  \\chi_A(t) = t^7-13t^5-12t^4+19t^3+16t^2-4t\n",
        "  $$\n",
        "\n",
        "  Determine both the number of edges, $m$, and the number of triangles, $t$, in the network.\n",
        "\n",
        "  ----"
      ],
      "metadata": {
        "id": "l71e_QVSyr7c"
      }
    }
  ]
}