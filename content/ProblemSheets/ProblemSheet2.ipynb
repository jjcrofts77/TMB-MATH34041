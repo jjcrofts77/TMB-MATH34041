{
  "nbformat": 4,
  "nbformat_minor": 0,
  "metadata": {
    "colab": {
      "provenance": [],
      "include_colab_link": true
    },
    "kernelspec": {
      "name": "python3",
      "display_name": "Python 3"
    },
    "language_info": {
      "name": "python"
    }
  },
  "cells": [
    {
      "cell_type": "markdown",
      "metadata": {
        "id": "view-in-github",
        "colab_type": "text"
      },
      "source": [
        "<a href=\"https://colab.research.google.com/github/jjcrofts77/TMB-MATH34041/blob/main/content/ProblemSheets/ProblemSheet2.ipynb\" target=\"_parent\"><img src=\"https://colab.research.google.com/assets/colab-badge.svg\" alt=\"Open In Colab\"/></a>"
      ]
    },
    {
      "cell_type": "markdown",
      "source": [
        "# The mathematics of networks\n",
        "\n",
        "1. Read Chapter 1 of Estrada's book. Write down a sentence or two about the most interesting thiing you read in the chapter.\n",
        "\n",
        "2. The cycle network, $C_n$, has adjacency matrix\n",
        "$$\n",
        "A = \\begin{bmatrix}0&1&0&\\cdots&0&1\\\\\n",
        "1&0&1&0&\\cdots&0\\\\0&1&0&\\ddots&&0\\\\\n",
        "\\vdots&0&1&\\ddots&\\ddots&\\vdots\\\\\n",
        "0&\\vdots&&\\ddots&0&1\\\\1&0&\\cdots&0&1&0\\end{bmatrix}\n",
        "$$\n",
        "Given that $\\omega$ is a root of unity (i.e. $\\omega^n=1$), show that $\\displaystyle \\mathbf{v}=[1, \\omega, \\omega^2,\\ldots,\\omega^{n-1}]^T$ is an eigenvector of $A$ corresponding to the eigenvalue $\\displaystyle \\omega+\\omega^{-1}=2\\mathrm{Re}\\,\\omega$. Using this result, show that the spectrum of $C_n$ is given by\n",
        "$$ \\left\\{2\\cos\\left(\\frac{2\\pi j}{n}\\right), j = 1, \\ldots, n\\right\\}.$$\n",
        "\n",
        "3."
      ],
      "metadata": {
        "id": "g41_B1xYmcXE"
      }
    }
  ]
}