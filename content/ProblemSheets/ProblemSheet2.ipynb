{
  "nbformat": 4,
  "nbformat_minor": 0,
  "metadata": {
    "colab": {
      "provenance": [],
      "include_colab_link": true
    },
    "kernelspec": {
      "name": "python3",
      "display_name": "Python 3"
    },
    "language_info": {
      "name": "python"
    }
  },
  "cells": [
    {
      "cell_type": "markdown",
      "metadata": {
        "id": "view-in-github",
        "colab_type": "text"
      },
      "source": [
        "<a href=\"https://colab.research.google.com/github/jjcrofts77/TMB-MATH34041/blob/main/content/ProblemSheets/ProblemSheet2.ipynb\" target=\"_parent\"><img src=\"https://colab.research.google.com/assets/colab-badge.svg\" alt=\"Open In Colab\"/></a>"
      ]
    },
    {
      "cell_type": "markdown",
      "source": [
        "# The mathematics of networks\n",
        "\n",
        "1. Read Chapter 1 of Estrada's book. Write down a sentence or two about the most interesting thiing you read in the chapter.\n",
        "\n"
      ],
      "metadata": {
        "id": "g41_B1xYmcXE"
      }
    },
    {
      "cell_type": "markdown",
      "source": [
        "2. (a) The cycle network, $C_n$, has adjacency matrix\n",
        "$$\n",
        "A = \\begin{bmatrix}0&1&0&\\cdots&0&1\\\\\n",
        "1&0&1&0&\\cdots&0\\\\0&1&0&\\ddots&&0\\\\\n",
        "\\vdots&0&1&\\ddots&\\ddots&\\vdots\\\\\n",
        "0&\\vdots&&\\ddots&0&1\\\\1&0&\\cdots&0&1&0\\end{bmatrix}\n",
        "$$\n",
        "Given that $\\omega$ is a root of unity (i.e. $\\omega^n=1$), show that $\\displaystyle \\mathbf{v}=[1, \\omega, \\omega^2,\\ldots,\\omega^{n-1}]^T$ is an eigenvector of $A$ corresponding to the eigenvalue $\\displaystyle \\omega+\\omega^{-1}=2\\mathrm{Re}\\,\\omega$. Using this result, show that the spectrum of $C_n$ is given by\n",
        "$$ \\left\\{2\\cos\\left(\\frac{2\\pi j}{n}\\right), j = 1, \\ldots, n\\right\\}.$$\n",
        "(b) In the code box below, write a Python script that computes roots of unity for $n=10$ and check that the above relation for the eigenvalues of $A is satisfied.\n"
      ],
      "metadata": {
        "id": "aOED-3OvaIB5"
      }
    },
    {
      "cell_type": "code",
      "source": [
        "# Q2"
      ],
      "metadata": {
        "id": "ON_VVMkbcuIK"
      },
      "execution_count": null,
      "outputs": []
    },
    {
      "cell_type": "markdown",
      "source": [
        "3. (a) Show that the characteristic polynomial of the complete network on $n$ nodes is given by\n",
        "$$\\mathrm{det}\\left(A-\\lambda I_n\\right) = \\left(\\lambda+1\\right)^{n-1}\\left(\\lambda-n+1\\right).$$ (b) In the code box below, write a Python script to confirm this result on a network of $n=25$ nodes."
      ],
      "metadata": {
        "id": "QId2yLDqaKRg"
      }
    },
    {
      "cell_type": "code",
      "source": [
        "# Q3 (n = 25)"
      ],
      "metadata": {
        "id": "GRVE8oojbQy4"
      },
      "execution_count": null,
      "outputs": []
    },
    {
      "cell_type": "markdown",
      "source": [
        "4. Prove that for a *regular* network (i.e. one in which all nodes have the same degree $k$) with $n$ nodes\n",
        "$$\\sum_{j=1}^n \\lambda_j^2 = n\\lambda_1$$\n",
        "where $\\lambda_1>\\lambda_2\\geq\\cdots\\geq\\lambda_{n-1}\\geq\\lambda_n$ are the eigenvalues of the corresponding adjacency matrix\n",
        "\n",
        "```{Hint}\n",
        "The eigenvalues of a network $N$, are bounded above by the maximum degree $\\Delta(N)$, that is $\\lamdba<\\Delta(N)$ for all eigenvalues of $N$.\n",
        "```"
      ],
      "metadata": {
        "id": "s0cnf9WQbYjJ"
      }
    }
  ]
}