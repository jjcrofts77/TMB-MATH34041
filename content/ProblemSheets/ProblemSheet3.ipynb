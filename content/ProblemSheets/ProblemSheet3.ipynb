{
  "nbformat": 4,
  "nbformat_minor": 0,
  "metadata": {
    "colab": {
      "provenance": [],
      "include_colab_link": true
    },
    "kernelspec": {
      "name": "python3",
      "display_name": "Python 3"
    },
    "language_info": {
      "name": "python"
    }
  },
  "cells": [
    {
      "cell_type": "markdown",
      "metadata": {
        "id": "view-in-github",
        "colab_type": "text"
      },
      "source": [
        "<a href=\"https://colab.research.google.com/github/jjcrofts77/TMB-MATH34041/blob/main/content/ProblemSheets/ProblemSheet3.ipynb\" target=\"_parent\"><img src=\"https://colab.research.google.com/assets/colab-badge.svg\" alt=\"Open In Colab\"/></a>"
      ]
    },
    {
      "cell_type": "markdown",
      "source": [
        "# Basic network measures\n",
        "\n",
        "1. Read sections 3.1 and 4.5.2 of Estrada's book. Write down a sentence or two about the most interesting thing you read.\n",
        "\n",
        "\n"
      ],
      "metadata": {
        "id": "5YxxRCgPw6JB"
      }
    },
    {
      "cell_type": "markdown",
      "source": [
        "2. (a) Compute the Watts-Strogatz (WS) clustering coefficient and diameter of the following network.\n",
        "\n",
        "  ```{figure} ../images/PS3Q2.png\n",
        "  ---\n",
        "  height: 350px\n",
        "  name: figQ2\n",
        "  ---\n",
        "  ```\n",
        "\n",
        "  (b) Create a .csv file containing either an edge list or an adjacency matrix representing the network in {numref}`figQ2`. Use the *pandas* package to read in the data. Using *networkx* create a graph object from this data and use it to confirm your results."
      ],
      "metadata": {
        "id": "TZgYwRJ9hoTK"
      }
    },
    {
      "cell_type": "code",
      "source": [
        "# Q2(b)\n",
        "\n",
        "# read in data\n",
        "\n",
        "# create graph object\n",
        "\n",
        "# compute the clustering coefficient and diameter"
      ],
      "metadata": {
        "id": "kMOByxJdhqED"
      },
      "execution_count": null,
      "outputs": []
    },
    {
      "cell_type": "markdown",
      "source": [
        "3. Let $N$ be a regular network with $n=2r$ nodes od degree $k$ and spectrum\n",
        "\n",
        "  $$\n",
        "  \\sigma(N) = \\{k,1,-1,-k\\}\\quad \\text{(with 1 and -1 repeating $r-1$ times)}\n",
        "  $$\n",
        "\n",
        "  Using the above find an expression for the number of triangles in $N$.\n"
      ],
      "metadata": {
        "id": "YXR1YneDh_s6"
      }
    },
    {
      "cell_type": "markdown",
      "source": [
        "4. Compute both the global WS clustering coefficient and the transitivity index for the two networks below in the $n\\to\\infty$ limit. Comment on any differences/similarities.\n",
        "\n",
        "  ```{figure} ../images/PS3Q4.png\n",
        "  ---\n",
        "  height: 350px\n",
        "  name: figQ4\n",
        "  ---\n",
        "  ```\n",
        "\n",
        "  ```{note}\n",
        "  In both figures dashed lines indicate that the number of triangles grows to infinity.\n",
        "  ```"
      ],
      "metadata": {
        "id": "AKgZJwE6kvgP"
      }
    },
    {
      "cell_type": "code",
      "source": [],
      "metadata": {
        "id": "5f1eo0uamamH"
      },
      "execution_count": null,
      "outputs": []
    },
    {
      "cell_type": "markdown",
      "source": [
        "5. (a) Compute the average path-length of the 1-dimensional lattice given in the figure below.\n",
        "\n",
        "  ```{figure} ../images/PS3Q5\n",
        "  ---\n",
        "  height: 350px\n",
        "  name: figQ5\n",
        "  ---\n",
        "  ```\n",
        "\n",
        "  (b) In the code box below, write a Python script to confirm your result."
      ],
      "metadata": {
        "id": "vuvyr73UlRdF"
      }
    },
    {
      "cell_type": "code",
      "source": [
        "# Q5(b)\n",
        "\n",
        "# create a graphc object\n",
        "\n",
        "# compute the characteristic path-length"
      ],
      "metadata": {
        "id": "hz7auTyYlTG1"
      },
      "execution_count": null,
      "outputs": []
    },
    {
      "cell_type": "markdown",
      "source": [
        "6. (a) Calculate the diameter of the networks below, assuming that they are of order $n$.\n",
        "\n",
        "  - A fully connected network, $K_n$.\n",
        "  - A star network (i.e. a network in which one node has degree $n-1$ and all other nodes have degree 1).\n",
        "  - A path network, $P_n$.\n",
        "  - A square lattice network on $n$ nodes (see Figure {numref}`figQ6` for an example).\n",
        "\n",
        "  ```{figure} ../images/PS3Q6\n",
        "  ---\n",
        "  height: 350px\n",
        "  name: figQ6\n",
        "  ---\n",
        "  An example of a square lattice on $n=121$ nodes\n",
        "  ```\n",
        "\n",
        "  (b) Create an instance of each of the above networks on $n=121$ nodes and use *NetworkX* to plot the networks in a 2 by 2 subplot. For each network, include a title consisting of the name of the network (e.g. start network), the size $n$ of the network, and the diameter $D$ of the network."
      ],
      "metadata": {
        "id": "uGhScUDBlTVF"
      }
    },
    {
      "cell_type": "code",
      "source": [
        "# Q6(b)\n",
        "\n",
        "n = 121\n",
        "\n",
        "# construct each of the four network instances\n",
        "\n",
        "# compute the diameter D for each network\n",
        "\n",
        "# plot the resulting figures including the title: 'A X network on n=121 nodes with diameter D=X'"
      ],
      "metadata": {
        "id": "jJ0aOktmlWld"
      },
      "execution_count": null,
      "outputs": []
    },
    {
      "cell_type": "markdown",
      "source": [
        "7. Which of the networks in 6(a)-(d) display the small-world property of having a diameter $D$ that satisfies\n",
        "\n",
        "  $$\n",
        "  D = \\mathcal{O}(\\ln{n}),\n",
        "  $$\n",
        "\n",
        "  that is\n",
        "\n",
        "  $$\n",
        "  \\lim_{n\\to\\infty}\\frac{D}{\\ln{n}}<\\infty.\n",
        "  $$\n",
        "\n",
        "----"
      ],
      "metadata": {
        "id": "Xo7CvkBClWxF"
      }
    }
  ]
}