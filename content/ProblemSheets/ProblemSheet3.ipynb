# Problem sheet 3: Basic network measures
