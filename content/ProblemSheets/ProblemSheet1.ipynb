{
  "nbformat": 4,
  "nbformat_minor": 0,
  "metadata": {
    "colab": {
      "provenance": [],
      "include_colab_link": true
    },
    "kernelspec": {
      "name": "python3",
      "display_name": "Python 3"
    },
    "language_info": {
      "name": "python"
    }
  },
  "cells": [
    {
      "cell_type": "markdown",
      "metadata": {
        "id": "view-in-github",
        "colab_type": "text"
      },
      "source": [
        "<a href=\"https://colab.research.google.com/github/jjcrofts77/TMB-MATH34041/blob/main/content/ProblemSheets/ProblemSheet1.ipynb\" target=\"_parent\"><img src=\"https://colab.research.google.com/assets/colab-badge.svg\" alt=\"Open In Colab\"/></a>"
      ]
    },
    {
      "cell_type": "markdown",
      "source": [
        "# Problem Sheet 1: Introduction to networks\n",
        "\n",
        "1. $$A = \\begin{bmatrix}0&0&1&1&0\\\\1&0&0&0&0\\\\0&1&0&1&0\\\\\n",
        "0&0&0&0&0\\\\1&0&1&0&0\\end{bmatrix}$$\n",
        "\n",
        "  Consider the above adjacency matrix of a network\n",
        "\n",
        "  (a) Is the network directed or undirected? (Explain why.)  \n",
        "\n",
        "  (b) List the in-degree seuqence and out-degree sequence of the network.\n",
        "\n",
        "  (c) Determine the in-degree distribution and out-degree distribution.\n",
        "\n",
        "  (d) Use the code box below to plot the network using the *NetworkX* Python package.\n",
        "  "
      ],
      "metadata": {
        "id": "NhBLg10Ul7WE"
      }
    },
    {
      "cell_type": "code",
      "source": [
        "# Question 1(d)\n",
        "\n",
        "# create a network object in networkx\n",
        "\n",
        "# plot the network"
      ],
      "metadata": {
        "id": "8FU3ciIfMStP"
      },
      "execution_count": null,
      "outputs": []
    },
    {
      "cell_type": "markdown",
      "source": [
        "2. Given a set of nodes $V$ such that $|V|=6$ with each node labelled from $i=1,\\ldots, 6$, consider the network $N = \\left( V, E\\right)$ such that each link from node $j$ to node $i$ indicates that $j$ is a multiple of $i$.\n",
        "\n",
        "  (a) Draw the network.\n",
        "\n",
        "  (b) Write down the edge list of the network.\n",
        "\n",
        "  (c) Write down the adjacency matrix of the network.\n",
        "\n",
        "  (d) Are there any self-loops in the network? If so, how many?\n",
        "\n",
        "  (e) In Python, create two instances of the above network: the first as an edge list and the second using an adjacency matrix. How many edges does the network have?"
      ],
      "metadata": {
        "id": "I3OJLUftMa60"
      }
    },
    {
      "cell_type": "code",
      "source": [
        "# Question 2(e)\n",
        "\n",
        "# edge list representation\n",
        "\n",
        "# adacency matrix representation\n",
        "\n",
        "# number of edges m"
      ],
      "metadata": {
        "id": "quLsT06uNI7B"
      },
      "execution_count": null,
      "outputs": []
    },
    {
      "cell_type": "markdown",
      "source": [
        "3. List 5 examples of complex networks, specifying\n",
        "\n",
        "  -  what the nodes represent;\n",
        "  - what type of interactions occurs;\n",
        "  - if the network is directed or undirected;\n",
        "  - if the network is weighted or unweighted.\n",
        "\n",
        "  Using the code box below, write a Python program that imports a network dataset describing a real-world biological system (see the Data folder on my Github page for some examples) and plots it. Include an informative caption and figure heading."
      ],
      "metadata": {
        "id": "WuqNOCOMNLsu"
      }
    },
    {
      "cell_type": "code",
      "source": [
        "# Question 3\n",
        "\n",
        "# import data using pandas\n",
        "\n",
        "# construct a network object in networkx\n",
        "\n",
        "# plot the network"
      ],
      "metadata": {
        "id": "xdH5Gjm8NO3N"
      },
      "execution_count": null,
      "outputs": []
    },
    {
      "cell_type": "markdown",
      "source": [
        "4. Read the First paper on the Additional Reading Section in NOW (Joel E. Cohen, 2004). Write down a sentence or two concerning the key messages of the paper."
      ],
      "metadata": {
        "id": "WLJObOH4NSad"
      }
    }
  ]
}