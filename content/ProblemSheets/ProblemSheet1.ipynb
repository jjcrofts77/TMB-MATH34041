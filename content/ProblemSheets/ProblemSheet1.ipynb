{
  "nbformat": 4,
  "nbformat_minor": 0,
  "metadata": {
    "colab": {
      "provenance": [],
      "authorship_tag": "ABX9TyNYteDywA0/RJ86IonvfC9H",
      "include_colab_link": true
    },
    "kernelspec": {
      "name": "python3",
      "display_name": "Python 3"
    },
    "language_info": {
      "name": "python"
    }
  },
  "cells": [
    {
      "cell_type": "markdown",
      "metadata": {
        "id": "view-in-github",
        "colab_type": "text"
      },
      "source": [
        "<a href=\"https://colab.research.google.com/github/jjcrofts77/TMB-MATH34041/blob/main/content/ProblemSheets/ProblemSheet1.ipynb\" target=\"_parent\"><img src=\"https://colab.research.google.com/assets/colab-badge.svg\" alt=\"Open In Colab\"/></a>"
      ]
    },
    {
      "cell_type": "markdown",
      "source": [
        "# Problem sheet 1: Introduction to networks\n",
        "\n",
        "1. $$A = \\begin{bmatrix}0&0&1&1&0\\\\1&0&0&0&0\\\\0&1&0&1&0\\\\\n",
        "0&0&0&0&0\\\\1&0&1&0&0\\end{bmatrix}$$\\\n",
        "Consider the above adjacency matrix of a network\n",
        "\n",
        "  (a) Is the network directed or undirected? (Explain why.)\n",
        "\n",
        "  (b) Draw the network.\n",
        "\n",
        "  (c) List the in-degree seuqence and out-degree sequence of the network.\n",
        "\n",
        "  (d) Determine the in-degree distribution and out-degree distribution.\n",
        "\n",
        "\n",
        "2. Given a set of nodes $V$ such that $|V|=6$ with each node labelled from $i=1,\\ldots, 6$, consider the network $N = \\left( V, E\\right)$ such that each link from node $j$ to node $i$ indicates that $j$ is a multiple of $i$.\n",
        "\n",
        "  (a) Draw the network.\n",
        "\n",
        "  (b) Write down the edge list of the network.\n",
        "\n",
        "  (c) Write down the adjacency matrix of the network.\n",
        "\n",
        "  (d) Are there any self-loops in the network? If so, how many?\n",
        "\n",
        "3. List 5 examples of complex networks, specifying\n",
        "\n",
        "  -  what the nodes represent;\n",
        "  - what type of interactions occurs;\n",
        "  - if the network is directed or undirected;\n",
        "  - if the network is weighted or unweighted.\n",
        "\n",
        "4. Read the First paper on the Additional Reading Section in NOW (Joel E. Cohen, 2004). Write down a sentence or two concerning the key messages of the paper.\n",
        "\n",
        "  "
      ],
      "metadata": {
        "id": "NhBLg10Ul7WE"
      }
    }
  ]
}