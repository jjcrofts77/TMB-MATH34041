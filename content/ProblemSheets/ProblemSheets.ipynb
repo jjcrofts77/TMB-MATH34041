{
  "nbformat": 4,
  "nbformat_minor": 0,
  "metadata": {
    "colab": {
      "provenance": [],
      "authorship_tag": "ABX9TyORqthhmuEwnjx4Kl6Ifi7c",
      "include_colab_link": true
    },
    "kernelspec": {
      "name": "python3",
      "display_name": "Python 3"
    },
    "language_info": {
      "name": "python"
    }
  },
  "cells": [
    {
      "cell_type": "markdown",
      "metadata": {
        "id": "view-in-github",
        "colab_type": "text"
      },
      "source": [
        "<a href=\"https://colab.research.google.com/github/jjcrofts77/TMB-MATH34041/blob/main/content/ProblemSheets/ProblemSheets.ipynb\" target=\"_parent\"><img src=\"https://colab.research.google.com/assets/colab-badge.svg\" alt=\"Open In Colab\"/></a>"
      ]
    },
    {
      "cell_type": "markdown",
      "source": [
        "# Problem Sheets\n",
        "\n",
        "The following problem sheets are a mixture of theory and applications using Python."
      ],
      "metadata": {
        "id": "WcDVjvsMRetQ"
      }
    }
  ]
}