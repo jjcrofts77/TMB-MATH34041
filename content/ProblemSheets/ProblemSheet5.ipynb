{
  "nbformat": 4,
  "nbformat_minor": 0,
  "metadata": {
    "colab": {
      "provenance": [],
      "include_colab_link": true
    },
    "kernelspec": {
      "name": "python3",
      "display_name": "Python 3"
    },
    "language_info": {
      "name": "python"
    }
  },
  "cells": [
    {
      "cell_type": "markdown",
      "metadata": {
        "id": "view-in-github",
        "colab_type": "text"
      },
      "source": [
        "<a href=\"https://colab.research.google.com/github/jjcrofts77/TMB-MATH34041/blob/main/content/ProblemSheets/ProblemSheet5.ipynb\" target=\"_parent\"><img src=\"https://colab.research.google.com/assets/colab-badge.svg\" alt=\"Open In Colab\"/></a>"
      ]
    },
    {
      "cell_type": "markdown",
      "source": [
        "# Problem Sheet 5: Revealing network structure - centrality and modularity\n",
        "\n",
        "1.  Consider the adjacency matrix $A$ of a directed network of size $n\n",
        " =4$ given by\n",
        "\n",
        "  $$\n",
        "  A = \\begin{bmatrix}\n",
        "      0 & 1 & 0 & 0\\\\\n",
        "      1 & 0 & 1 & 0\\\\\n",
        "      0 & 0 & 0 & 0\\\\\n",
        "      0 & 1 & 0 & 0\\\\\n",
        "      \\end{bmatrix}.   \n",
        "  $$\n",
        "\n",
        "  Denote by $\\mathbf{1}$ the vector of all ones, i.e. $\\mathbf{1}_i = 1$ $\\forall i$ and by $I_n$ the $n\\times n$ identity matrix.\n",
        "\n",
        "  (a) Draw the network.\n",
        "\n",
        "  (b) Calculate the eigenvector centrality using the eigenvector associated to the maximum eigenvalue. Is the result expected? (*Explain why*.)\n",
        "\n",
        "  (c) Calculate by hand the Katz centrality\n",
        "  \n",
        "  $$\n",
        "   \\mathbf{x} = (I_n-\\alpha A)^{-1}\\mathbf{1}.\n",
        "  $$\n",
        "\n",
        "  (d) Write a Python code that calculates the Katz centrality of the above network using matrix algebra (i.e. avoid the use of built-in *NetworkX* functions)."
      ],
      "metadata": {
        "id": "ad7RSXQ2xxaA"
      }
    },
    {
      "cell_type": "code",
      "source": [
        "# 1(d)\n",
        "\n",
        "# Enter the adjacency matrix A as a numpy array\n",
        "\n",
        "# use numpy to compute the Katz scores of A"
      ],
      "metadata": {
        "id": "RWzTHcG-2iMY"
      },
      "execution_count": null,
      "outputs": []
    },
    {
      "cell_type": "markdown",
      "source": [
        "2. Consider an undirected network with adjacency matrix $A$. The degree centrality $x_i$ of a node $i$ is given by its degree $k_i$, i.e. $x_i = k_i$. Show that the degree centrality $\\mathbf{x}$ of an undirected network satisfies the following equation $\\mathbf{x} = AD^{-1}\\mathbf{x}$, where $D$ is a diagonal matrix with non-zero elements $D_{ii} = \\kappa_i = \\max{(k_i,1)}$."
      ],
      "metadata": {
        "id": "_4YOth4k286w"
      }
    },
    {
      "cell_type": "markdown",
      "source": [
        "3. Consider a $k$-regular undirected network.\n",
        "\n",
        "  (a) Show that the vector $\\mathbf{1} = (1,1,1,\\ldots)$ is an  eigenvector of the adjacency matrix $A$ with eigenvalue $k$.\n",
        "  \n",
        "  (b) By making use of the fact that eigenvectors are orthogonal, show that there is no other eigenvector that has all elements positive. Explain why this implies that the vector $\\mathbf{1}$ gives the eigenvector centrality of a $k$-regular network (*Hint: Use the Perron-Frobenius theorem*).\n",
        "\n",
        "  (c) Find the Katz centralities of all vertices in a $k$-regular network."
      ],
      "metadata": {
        "id": "UEdQYyfi3BoP"
      }
    },
    {
      "cell_type": "markdown",
      "source": [
        "```{figure} ../images/ModularityExample.png\n",
        "---\n",
        "height: 250px\n",
        "name: modularityexample\n",
        "---\n",
        "Undirected network on $n=12$ nodes\n",
        "```\n",
        "\n",
        "4. Compute modularity scores $Q$ for the network in {numref}`modularityexample` for the following partitions\n",
        "\n",
        "  (a) $V_1 = \\{1,2,9,10,11,12\\}, V_2 = \\{3,4,5,6,7,8\\}$\n",
        "  \n",
        "  (b) $V = \\{1,2,3,4,5,6,7,8,9,10,11,12\\}$\n",
        "\n",
        "  (c) $V_1=\\{1,2,9,10,11,12\\}, V_2=\\{3,4,5\\}, V_3=\\{5,6,7,8\\}$ (this partition is an example of an overlapping community structure - why?)\n",
        "\n",
        "  (d) Confirm your results by computing the Newman-Girvan modularity scores for each of the above partitions using the *NetworkX* function *nx.community.girvan_newman()*."
      ],
      "metadata": {
        "id": "ERfVtxst3TQo"
      }
    },
    {
      "cell_type": "code",
      "source": [
        "# Q4\n",
        "\n",
        "# construct network object\n",
        "\n",
        "# compute modularity scores for each partition (nx.community.girvan_newman())"
      ],
      "metadata": {
        "id": "Mf5itEDb36TC"
      },
      "execution_count": null,
      "outputs": []
    },
    {
      "cell_type": "markdown",
      "source": [
        "5.  The cortex of the cat can be parcelated into 53 areas which are linked by about 830 fiber connections thus forming a complex structural brain network. Within this structure there exist a small number of clusters that broadly agree with the four main functional cortical subdivisions, i.e. visual cortex (V), auditory (A), somato-motor (SM), and fronto-limbic (FL). The table below shows the fraction of connections that exist between these four communities.\n",
        "\n",
        "  ```{figure} ../images/TablePS5.png\n",
        "  ---\n",
        "  height: 250px\n",
        "  ---\n",
        "  ```\n",
        "\n",
        "  Treating the vertices of the cortical network of the cat as being of one of four types -- visual, auditory, somato-motor and fronto-limbic -- calculate the numbers $e_{rr} = |E_r|/m$ and $a_r = (\\sum k_i)^2/4m^2$\n",
        "  that appear in the equation below.\n",
        "\n",
        "  $$\n",
        "  Q = \\sum_{r=1}^{n_p}\\left[\\frac{|E_r|}{m} - \\frac{1}{4m^2}\\left(\\sum_{j\\in V_r}k_j\\right)^2\\right]\n",
        "  $$\n",
        "\n",
        "  Hence calculate the modularity of the network.\n",
        "\n",
        "----"
      ],
      "metadata": {
        "id": "CCxZspSV4FpA"
      }
    }
  ]
}