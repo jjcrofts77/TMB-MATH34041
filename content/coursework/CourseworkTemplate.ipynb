{
  "cells": [
    {
      "cell_type": "markdown",
      "metadata": {
        "id": "view-in-github",
        "colab_type": "text"
      },
      "source": [
        "<a href=\"https://colab.research.google.com/github/jjcrofts77/TMB-MATH34041/blob/main/content/coursework/CourseworkTemplate.ipynb\" target=\"_parent\"><img src=\"https://colab.research.google.com/assets/colab-badge.svg\" alt=\"Open In Colab\"/></a>"
      ]
    },
    {
      "cell_type": "markdown",
      "metadata": {
        "id": "2B6tEDhmrMV0"
      },
      "source": [
        "# Coursework Assessment and Specification\n",
        "\n",
        "**Module Code**: MATH34041/44041\\\n",
        "**Module Title**: Topics in Mathematical Biology\\\n",
        "**Assessor**: Dr Jonathan Crofts\\\n",
        "**Moderator**: Dr Martin Nelson\\\n",
        "**Learning Outcomes Assessed**:\\\n",
        "**Contribution to Element**: 100% of Element 2 (50% of the module)\\\n",
        "**Date Set**:\\\n",
        "**Date of Submission**:\\\n",
        "**Method**: Dropbox and TurnitIn\\\n",
        "**Feedback Method**: Personal comments via email\\\n",
        "**Note**: The usual University penalties apply for late submission and plagiarism. Please consult your student handbook for further details.\\\n",
        "**NEC**: https://www.ntu.ac.uk/studenthub/my-course/student-handbook/submit-a-notification-of-extenuating-circumstances \\\n",
        "**Writing**: https://librarybookings.ntu.ac.uk/\n",
        "\n",
        "---\n",
        "#Assessment Requirements\n",
        "\n",
        "This coursework counts for 50% of your module. You can achieve a maximum of 100 marks.\n",
        "\n",
        "You should complete this work in Python and write a report as a Colab notebook. Therefore, your submission should include a report, executable Python code and its output. In particular, note the following guidance for laying out your coursework:\n",
        "\n",
        "  - Lines that start with a hash (#) are Python comments; you can use these to add notes or explanations within your work.\n",
        "  - Follow the layout of the example sheet solutions and codes given in the lecture notes.\n",
        "  - It is important to produce high quality plots. Make sure they have readable axes and labels. Number them in order of appearance. Provide explanatory captions.\n",
        "---\n",
        "# Assessment Problems\n",
        "\n",
        "## Task 1:\n",
        "\n",
        "## Task 2:\n",
        "\n",
        "## Task 3:\n",
        "\n",
        "---\n",
        "\n",
        "## Assessment Criteria\n",
        "\n",
        "MATH34041/44041 grading descriptor can be found **here**.\n"
      ]
    }
  ],
  "metadata": {
    "kernelspec": {
      "display_name": "Python 3 (ipykernel)",
      "language": "python",
      "name": "python3"
    },
    "language_info": {
      "codemirror_mode": {
        "name": "ipython",
        "version": 3
      },
      "file_extension": ".py",
      "mimetype": "text/x-python",
      "name": "python",
      "nbconvert_exporter": "python",
      "pygments_lexer": "ipython3",
      "version": "3.9.6"
    },
    "colab": {
      "provenance": [],
      "include_colab_link": true
    }
  },
  "nbformat": 4,
  "nbformat_minor": 0
}