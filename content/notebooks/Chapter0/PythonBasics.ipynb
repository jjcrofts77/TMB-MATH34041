{
  "nbformat": 4,
  "nbformat_minor": 0,
  "metadata": {
    "colab": {
      "provenance": [],
      "authorship_tag": "ABX9TyM+jYIbf8iko71zUZsq5yPw",
      "include_colab_link": true
    },
    "kernelspec": {
      "name": "python3",
      "display_name": "Python 3"
    },
    "language_info": {
      "name": "python"
    }
  },
  "cells": [
    {
      "cell_type": "markdown",
      "metadata": {
        "id": "view-in-github",
        "colab_type": "text"
      },
      "source": [
        "<a href=\"https://colab.research.google.com/github/jjcrofts77/TMB-MATH34041/blob/main/content/notebooks/Chapter5/PythonBasics.ipynb\" target=\"_parent\"><img src=\"https://colab.research.google.com/assets/colab-badge.svg\" alt=\"Open In Colab\"/></a>"
      ]
    },
    {
      "cell_type": "markdown",
      "source": [
        "# 0.1 Basics in Python\n",
        "\n",
        "This section aims to cover simple, core programming concepts in Python.\n",
        "\n",
        "## Installing Python and add-ons\n",
        "If you wish to install Python on your own computer it is advisable to use an integrated system (IS) to avoid compatability issues. For this course the recommended IS is [Anaconda](https://www.anaconda.com/), which is free to use and ships with [Spyder](https://www.spyder-ide.org/) a scientific Python development environment (see Figure {numref}`FigSpyderIDE3` for an example of the Spyder environment).\n",
        "\n",
        "```{figure} ../../images/SpyderIDEExample.png\n",
        "---\n",
        "height: 450px\n",
        "name: FigSpyderIDE3\n",
        "---\n",
        "Illustration of a Python script as seen in the Anaconda Spyder IDE\n",
        "```\n",
        "\n",
        "Once installed, you can launch Spyder through the Anaconda Navigator, which can be found under the list of programs prompted by opening Windows Start menu.\n",
        "\n",
        "The IDE consists of an Editor Window, an Object Inspector Window and The Console. The Editor Window is where we write our Python scripts; the Object Inspector is where we browse files, explore variables in the workspace and visulise plots; whilst the Console is where we access the iPython shell and see the results of our scripts.\n",
        "\n",
        "To create a Python script we enter commands into the editor, save our progam and run it by clicking on the green triangle in the upper-lefthand corner of the IDE; the results will displayed in the Python console in the lower-righthand pane of the IDE. (Again, see Figure {numref}`FigSpyderIDE3`)\n",
        "\n",
        "## Google Colab\n",
        "\n",
        "Google Colab, or Colaboratory, is a free Jupyter notebook environment that runs in the cloud. It allows you to write and execute Python code, as well as other programming languages, in a web browser. Colab notebooks are a great way to combine code, text, and images in a single document. This makes it easy to document your work and share it with others.\n",
        "\n",
        "Colab has two types of cells: text and code. Text cells are formatted using a simple markup language called Markdown.\n",
        "\n",
        "See the following link for a brief description of the [Google Colab Markdown](https://colab.research.google.com/notebooks/markdown_guide.ipynb#scrollTo=Lhfnlq1Surtk) langauge.\n",
        "\n",
        "## Python as a calculator\n",
        "Python can be used as a calculator to perform basic and advanced arithmetic operations. Here are some examples of how to use Python as a calculator:\n",
        "\n",
        "  **Basic arithmetic operations:** Python can be used to perform basic arithmetic operations such as addition, subtraction, multiplication, and division. For example, the following code would add two numbers and print the result:"
      ],
      "metadata": {
        "id": "U-2RmyWJQlEu"
      }
    },
    {
      "cell_type": "code",
      "source": [
        "a = 10\n",
        "b = 5\n",
        "\n",
        "print(a + b)"
      ],
      "metadata": {
        "colab": {
          "base_uri": "https://localhost:8080/"
        },
        "id": "DVCAfkzRc2fz",
        "outputId": "89f25670-6073-4e09-9199-bfc092ab3342"
      },
      "execution_count": null,
      "outputs": [
        {
          "output_type": "stream",
          "name": "stdout",
          "text": [
            "15\n"
          ]
        }
      ]
    },
    {
      "cell_type": "markdown",
      "source": [
        "  **Advanced arithmetic operations:** Python can also be used to perform more advanced arithmetic operations such as exponentiation, logarithms, and trigonometric functions. For example, the following code would calculate the square root of a number and print the result:"
      ],
      "metadata": {
        "id": "uJ_8D0MQdOkL"
      }
    },
    {
      "cell_type": "code",
      "source": [
        "import math\n",
        "\n",
        "number = 16\n",
        "\n",
        "print(math.sqrt(number))"
      ],
      "metadata": {
        "colab": {
          "base_uri": "https://localhost:8080/"
        },
        "id": "4f0Do99wda_5",
        "outputId": "f17f2137-7ce4-4944-ea4c-c0d1d23c9333"
      },
      "execution_count": null,
      "outputs": [
        {
          "output_type": "stream",
          "name": "stdout",
          "text": [
            "4.0\n"
          ]
        }
      ]
    },
    {
      "cell_type": "markdown",
      "source": [
        "In the above we have imported the Python math module which contains the standard mathematical functions (*e.g.* $\\cos, \\sin, \\exp, \\sinh, \\cosh$ *etc.*)."
      ],
      "metadata": {
        "id": "wpzWHPkMdewE"
      }
    },
    {
      "cell_type": "markdown",
      "source": [
        "\n",
        "# Basic programming in Python\n",
        "\n",
        "In this section we shall see how Python can be used to write simple Python programs. We shall focus on three programming structures:\n",
        "\n",
        "  1. defining functions\n",
        "  2. using for and while loops\n",
        "  3. if, elif, else constructs\n",
        "\n",
        "We have seen versions of these structures when learning Matlab in Years 1 and 2.\n",
        "\n",
        "## Defining functions\n",
        "Below I have written a function for converting degrees Celsius to Kelvin.\n"
      ],
      "metadata": {
        "id": "3VfEaO4wc5Yy"
      }
    },
    {
      "cell_type": "code",
      "source": [
        "# A function to convert degrees Celsius to Kelvin\n",
        "\n",
        "def C2K():\n",
        "  C = int(input('Enter temperature in degrees Celsius: '))\n",
        "  K = C + 273.15\n",
        "  print('Temperature in Kelvin is {} K'.format(K))\n",
        "\n",
        "# run the function\n",
        "C2K()"
      ],
      "metadata": {
        "id": "AZ_c304MQwLB"
      },
      "execution_count": null,
      "outputs": []
    },
    {
      "cell_type": "markdown",
      "source": [
        "Note that the function above did not require any inputs.\n",
        "\n",
        "Suppose we want to write a program that defines the *logistic equation* given by\n",
        "\n",
        "$$f(x) = \\mu x(1-x)$$\n",
        "\n",
        "Then we would define a function as follows"
      ],
      "metadata": {
        "id": "2E-wisneR100"
      }
    },
    {
      "cell_type": "code",
      "source": [
        "# The logistic equation - save as f_mu.py\n",
        "\n",
        "\"\"\"\n",
        "Created on Wednesday July 12th 14:29\n",
        "@author: JJCrofts\n",
        "\"\"\"\n",
        "def f_mu(mu, x):\n",
        "  return mu*x*(1-x)\n",
        "\n",
        "# run the function for a given input\n",
        "mu, x = 1, 0.25\n",
        "fm = f_mu(mu, x)\n",
        "print('fm = {}'.format(fm))"
      ],
      "metadata": {
        "id": "fsWScmSYSipu",
        "colab": {
          "base_uri": "https://localhost:8080/"
        },
        "outputId": "6f33cb31-9df2-48cd-81a1-80da7ec30d2f"
      },
      "execution_count": 3,
      "outputs": [
        {
          "output_type": "stream",
          "name": "stdout",
          "text": [
            "fm = 0.1875\n"
          ]
        }
      ]
    },
    {
      "cell_type": "markdown",
      "source": [
        "## Using loops\n",
        "The following examples illustrate how for and while loops can be used to speed up repetitive tasks.\n",
        "\n",
        "Let us write a program that list the first $n$ terms of the Fibonacci sequence\n",
        "\n",
        "$$\n",
        "x_{k+2} = x_{k+1}+x_k: \\quad x_0 = 0, x_1 = 1\n",
        "$$\n"
      ],
      "metadata": {
        "id": "8suGnMmDSDeD"
      }
    },
    {
      "cell_type": "code",
      "source": [
        "# A function to list the first n terms of the Fibonacci sequence\n",
        "\n",
        "def fibonacci(n):\n",
        "  a, b = 0, 1\n",
        "  print(a)\n",
        "  print(b)\n",
        "  print(a+b)\n",
        "  for i in range(n-3):\n",
        "    a, b = b, a+b\n",
        "    print(a+b)\n",
        "\n",
        "# run function\n",
        "fibonacci(20)"
      ],
      "metadata": {
        "id": "542sQ-f-UFcA"
      },
      "execution_count": null,
      "outputs": []
    },
    {
      "cell_type": "markdown",
      "source": [
        "Recall that the above Fibonacci sequence can be solved analytically to obtain\n",
        "\n",
        "$$\n",
        "x_k = \\frac{\\phi^k-\\psi^k}{\\sqrt{5}}\n",
        "$$\n",
        "\n",
        "where\n",
        "\n",
        "$$\n",
        "\\phi = \\frac{1+\\sqrt{5}}{2}\n",
        "$$\n",
        "\n",
        "is the *golden ratio* and $\\psi=1-\\phi$ is its conjugate.\n",
        "\n",
        "We can check our result using this formula. For example, for $n=20$ we have that\n",
        "\n",
        "$$\n",
        "x_{20} = \\frac{\\phi^{20}-\\psi^{20}}{\\sqrt{5}} = 4181\n",
        "$$\n",
        "\n",
        "which agrees with our Python code."
      ],
      "metadata": {
        "id": "cHvt48DHUpUh"
      }
    },
    {
      "cell_type": "markdown",
      "source": [
        "Next lets use loops to sum the first $n$ natual numbers"
      ],
      "metadata": {
        "id": "4LHbrmoeVBgg"
      }
    },
    {
      "cell_type": "code",
      "source": [
        "# A function to sum the first n natural numbers\n",
        "\n",
        "def sum_n(n):\n",
        "  sum = 0\n",
        "  i = 1\n",
        "  while i <= n:\n",
        "    sum += i\n",
        "    i += 1   # increment counter\n",
        "  print('The sum is', sum)\n",
        "\n",
        "# run function\n",
        "sum_n(100)"
      ],
      "metadata": {
        "id": "slgOKTuKVIF6",
        "colab": {
          "base_uri": "https://localhost:8080/"
        },
        "outputId": "4f697165-88c8-403f-aee8-e937a12db214"
      },
      "execution_count": 2,
      "outputs": [
        {
          "output_type": "stream",
          "name": "stdout",
          "text": [
            "The sum is 5050\n"
          ]
        }
      ]
    },
    {
      "cell_type": "markdown",
      "source": [
        "Again this is easy to check since we know that\n",
        "\n",
        "$$\n",
        "\\sum_{i=1}^{100} = \\frac{100(101)}{2} = 5050\n",
        "$$\n",
        "\n",
        "as expected.\n",
        "\n",
        "## Conditional statements using if, elif, else\n",
        "\n",
        "Lets write a program that returns a students grade for the Maths Bio coursework given a score out of 100."
      ],
      "metadata": {
        "id": "QOB52HD3Uq1v"
      }
    },
    {
      "cell_type": "code",
      "source": [
        "# A program to grade the Topics in Mathematical Biology coursework\n",
        "\n",
        "def grade(score):\n",
        "  if score >= 92.5:\n",
        "    GBA = '1EXC'\n",
        "  elif score >= 84.5:\n",
        "    GBA = '1HIGH'\n",
        "  elif score >= 77.5:\n",
        "    GBA = '1MID'\n",
        "  elif score >= 69.5:\n",
        "    GBA = '1LOW'\n",
        "  else:\n",
        "    GBA = 'Fail'\n",
        "  return GBA\n",
        "\n",
        "grade(94)"
      ],
      "metadata": {
        "colab": {
          "base_uri": "https://localhost:8080/",
          "height": 35
        },
        "id": "DNWx1gwdS6Jv",
        "outputId": "efdfe375-c067-4f68-8b46-02ee6485e10e"
      },
      "execution_count": 4,
      "outputs": [
        {
          "output_type": "execute_result",
          "data": {
            "text/plain": [
              "'1EXC'"
            ],
            "application/vnd.google.colaboratory.intrinsic+json": {
              "type": "string"
            }
          },
          "metadata": {},
          "execution_count": 4
        }
      ]
    },
    {
      "cell_type": "markdown",
      "source": [
        "What about a game of guess the number!"
      ],
      "metadata": {
        "id": "AlAInUhKU19D"
      }
    },
    {
      "cell_type": "code",
      "source": [
        "# Guess the number\n",
        "\n",
        "import random # Import the random number module\n",
        "\n",
        "num_guesses = 0\n",
        "name = input('Hi! What is your name? ')\n",
        "number = random.randint(1, 20) # a random number between 1 and 20\n",
        "print('Welcome, {}! I am thinking of an integer between 1 and 20.'.format(name))\n",
        "\n",
        "while num_guesses < 6:\n",
        "  guess = int(input('Take a guess and type the integer '))\n",
        "  num_guesses += 1\n",
        "\n",
        "  if guess < number:\n",
        "    print('Your guess is too low')\n",
        "  if guess > number:\n",
        "    print('Your guess is too high')\n",
        "  if guess == number:\n",
        "    break\n",
        "\n",
        "if guess == number:\n",
        "  print('Damn {}, you win! You guessed the correct number in {} guesses'.format(name, num_guesses))\n",
        "else:\n",
        "  print('You lose! The number I was thinking of was {}'.format(number))"
      ],
      "metadata": {
        "id": "co5Tc5k7U670"
      },
      "execution_count": null,
      "outputs": []
    },
    {
      "cell_type": "markdown",
      "source": [
        "In the above program we have imported a module in order to access functions for simulating random numbers. In order to use Python to study networks we are going to have to import other modules and libraries as will be demonstrated in the sections to follow."
      ],
      "metadata": {
        "id": "FY3d55WGXZ_Q"
      }
    }
  ]
}
