{
  "nbformat": 4,
  "nbformat_minor": 0,
  "metadata": {
    "colab": {
      "provenance": [],
      "authorship_tag": "ABX9TyPK/y5HoqDDY/IoJSVn40E/",
      "include_colab_link": true
    },
    "kernelspec": {
      "name": "python3",
      "display_name": "Python 3"
    },
    "language_info": {
      "name": "python"
    }
  },
  "cells": [
    {
      "cell_type": "markdown",
      "metadata": {
        "id": "view-in-github",
        "colab_type": "text"
      },
      "source": [
        "<a href=\"https://colab.research.google.com/github/jjcrofts77/TMB-MATH34041/blob/main/content/notebooks/Chapter0/PythonBasics.ipynb\" target=\"_parent\"><img src=\"https://colab.research.google.com/assets/colab-badge.svg\" alt=\"Open In Colab\"/></a>"
      ]
    },
    {
      "cell_type": "markdown",
      "source": [
        "# 0.1 Basics in Python\n",
        "\n",
        "This section aims to cover simple, core programming concepts in Python.\n",
        "\n",
        "## Installing Python and add-ons\n",
        "If you wish to install Python on your own computer it is advisable to use an integrated system (IS) to avoid compatability issues. For this course the recommended IS is [Anaconda](https://www.anaconda.com/), which is free to use and ships with [Spyder](https://www.spyder-ide.org/) a scientific Python development environment (see {numref}`FigSpyderIDE3` for an example of the Spyder environment).\n",
        "\n",
        "```{figure} ../../images/SpyderIDEExample.png\n",
        "---\n",
        "height: 450px\n",
        "name: FigSpyderIDE3\n",
        "---\n",
        "Illustration of a Python script as seen in the Anaconda Spyder IDE\n",
        "```\n",
        "\n",
        "Once installed, you can launch Spyder through the Anaconda Navigator, which can be found under the list of programs prompted by opening Windows Start menu.\n",
        "\n",
        "The IDE consists of an Editor Window, an Object Inspector Window and The Console. The Editor Window is where we write our Python scripts; the Object Inspector is where we browse files, explore variables in the workspace and visualise plots; whilst the Console is where we access the iPython shell and see the results of our scripts.\n",
        "\n",
        "To create a Python script we enter commands into the editor, save our progam and run it by clicking on the green triangle in the upper-lefthand corner of the IDE; the results will displayed in the Python console in the lower-righthand pane of the IDE. (Again, see {numref}`FigSpyderIDE3`)\n",
        "\n",
        "## Google Colab\n",
        "\n",
        "Google Colab, or Colaboratory, is a free Jupyter notebook environment that runs in the cloud. It allows you to write and execute Python code, as well as other programming languages, in a web browser. Colab notebooks are a great way to combine code, text, and images in a single document. This makes it easy to document your work and share it with others.\n",
        "\n",
        "Colab has two types of cells: text and code. Text cells are formatted using a simple markup language called Markdown.\n",
        "\n",
        "See the following link for a brief description of the [Google Colab Markdown](https://colab.research.google.com/notebooks/markdown_guide.ipynb#scrollTo=Lhfnlq1Surtk) langauge.\n",
        "\n",
        "## Python as a calculator\n",
        "Python can be used as a calculator to perform basic and advanced arithmetic operations. Here are some examples of how to use Python as a calculator:\n",
        "\n",
        "  **Basic arithmetic operations:** Python can be used to perform basic arithmetic operations such as addition, subtraction, multiplication, and division. For example, the following code would add two numbers and print the result:"
      ],
      "metadata": {
        "id": "U-2RmyWJQlEu"
      }
    },
    {
      "cell_type": "code",
      "source": [
        "a = 10\n",
        "b = 5\n",
        "\n",
        "print(a + b)"
      ],
      "metadata": {
        "colab": {
          "base_uri": "https://localhost:8080/"
        },
        "id": "DVCAfkzRc2fz",
        "outputId": "89f25670-6073-4e09-9199-bfc092ab3342"
      },
      "execution_count": null,
      "outputs": [
        {
          "output_type": "stream",
          "name": "stdout",
          "text": [
            "15\n"
          ]
        }
      ]
    },
    {
      "cell_type": "markdown",
      "source": [
        "  **Advanced arithmetic operations:** Python can also be used to perform more advanced arithmetic operations such as exponentiation, logarithms, and trigonometric functions. For example, the following code would calculate the square root of a number and print the result:"
      ],
      "metadata": {
        "id": "uJ_8D0MQdOkL"
      }
    },
    {
      "cell_type": "code",
      "source": [
        "import math\n",
        "\n",
        "number = 16\n",
        "\n",
        "print(math.sqrt(number))"
      ],
      "metadata": {
        "colab": {
          "base_uri": "https://localhost:8080/"
        },
        "id": "4f0Do99wda_5",
        "outputId": "f17f2137-7ce4-4944-ea4c-c0d1d23c9333"
      },
      "execution_count": null,
      "outputs": [
        {
          "output_type": "stream",
          "name": "stdout",
          "text": [
            "4.0\n"
          ]
        }
      ]
    },
    {
      "cell_type": "markdown",
      "source": [
        "In the above we have imported the Python math module which contains the standard mathematical functions (*e.g.* $\\cos, \\sin, \\exp, \\sinh, \\cosh$ *etc.*)."
      ],
      "metadata": {
        "id": "wpzWHPkMdewE"
      }
    },
    {
      "cell_type": "markdown",
      "source": [
        "\n",
        "## Basic programming in Python\n",
        "\n",
        "In this section we shall see how Python can be used to write simple Python programs. We shall focus on three programming structures:\n",
        "\n",
        "  1. defining functions\n",
        "  2. using for and while loops\n",
        "  3. if, elif, else constructs\n",
        "\n",
        "We have seen versions of these structures when learning Matlab in Years 1 and 2.\n",
        "\n",
        "### Defining functions\n",
        "Below I have written a function for converting degrees Celsius to Kelvin.\n"
      ],
      "metadata": {
        "id": "3VfEaO4wc5Yy"
      }
    },
    {
      "cell_type": "code",
      "source": [
        "# A function to convert degrees Celsius to Kelvin\n",
        "\n",
        "def C2K():\n",
        "  C = int(input('Enter temperature in degrees Celsius: '))\n",
        "  K = C + 273.15\n",
        "  print('Temperature in Kelvin is {} K'.format(K))\n",
        "\n",
        "# run the function\n",
        "C2K()"
      ],
      "metadata": {
        "id": "AZ_c304MQwLB",
        "colab": {
          "base_uri": "https://localhost:8080/"
        },
        "outputId": "567fd28a-c5ee-4509-f73b-cdb48a6f2f05"
      },
      "execution_count": null,
      "outputs": [
        {
          "output_type": "stream",
          "name": "stdout",
          "text": [
            "Enter temperature in degrees Celsius: 25\n",
            "Temperature in Kelvin is 298.15 K\n"
          ]
        }
      ]
    },
    {
      "cell_type": "markdown",
      "source": [
        "Note that the function above did not require any inputs.\n",
        "\n",
        "Suppose we want to write a program that defines the *logistic equation* given by\n",
        "\n",
        "$$f(x) = \\mu x(1-x)$$\n",
        "\n",
        "Then we would define a function as follows."
      ],
      "metadata": {
        "id": "2E-wisneR100"
      }
    },
    {
      "cell_type": "code",
      "source": [
        "# The logistic equation - save as f_mu.py\n",
        "\n",
        "def f_mu(mu, x):\n",
        "  return mu*x*(1-x)\n",
        "\n",
        "# run the function for a given input\n",
        "mu, x = 1, 0.25\n",
        "fm = f_mu(mu, x)\n",
        "\n",
        "# print result\n",
        "print('fm = {}'.format(fm))"
      ],
      "metadata": {
        "id": "fsWScmSYSipu",
        "colab": {
          "base_uri": "https://localhost:8080/"
        },
        "outputId": "6f33cb31-9df2-48cd-81a1-80da7ec30d2f"
      },
      "execution_count": null,
      "outputs": [
        {
          "output_type": "stream",
          "name": "stdout",
          "text": [
            "fm = 0.1875\n"
          ]
        }
      ]
    },
    {
      "cell_type": "markdown",
      "source": [
        "### Using loops\n",
        "The following examples illustrate how for and while loops can be used to speed up repetitive tasks.\n",
        "\n",
        "Let us write a program that lists the first $n$ terms of the Fibonacci sequence\n",
        "\n",
        "$$\n",
        "x_{k+2} = x_{k+1}+x_k: \\quad x_0 = 0,~~ x_1 = 1\n",
        "$$\n"
      ],
      "metadata": {
        "id": "8suGnMmDSDeD"
      }
    },
    {
      "cell_type": "code",
      "source": [
        "# A function to list the first n terms of the Fibonacci sequence\n",
        "\n",
        "def fibonacci(n):\n",
        "  a, b = 0, 1\n",
        "  print(a)\n",
        "  print(b)\n",
        "  print(a+b)\n",
        "  for i in range(n-3):\n",
        "    a, b = b, a+b\n",
        "    print(a+b)\n",
        "\n",
        "# run function\n",
        "fibonacci(20)"
      ],
      "metadata": {
        "id": "542sQ-f-UFcA",
        "colab": {
          "base_uri": "https://localhost:8080/"
        },
        "outputId": "7e4bf5fc-0e35-4598-e683-062de1e9c5ae"
      },
      "execution_count": null,
      "outputs": [
        {
          "output_type": "stream",
          "name": "stdout",
          "text": [
            "0\n",
            "1\n",
            "1\n",
            "2\n",
            "3\n",
            "5\n",
            "8\n",
            "13\n",
            "21\n",
            "34\n",
            "55\n",
            "89\n",
            "144\n",
            "233\n",
            "377\n",
            "610\n",
            "987\n",
            "1597\n",
            "2584\n",
            "4181\n"
          ]
        }
      ]
    },
    {
      "cell_type": "markdown",
      "source": [
        "Recall that the above Fibonacci sequence can be solved analytically to obtain\n",
        "\n",
        "$$\n",
        "x_k = \\frac{\\phi^k-\\psi^k}{\\sqrt{5}}\n",
        "$$\n",
        "\n",
        "where\n",
        "\n",
        "$$\n",
        "\\phi = \\frac{1+\\sqrt{5}}{2}\n",
        "$$\n",
        "\n",
        "is the *golden ratio* and $\\psi=1-\\phi$ is its conjugate.\n",
        "\n",
        "We can check our result using this formula. For example, for $n=20$ we have that\n",
        "\n",
        "$$\n",
        "x_{20} = \\frac{\\phi^{20}-\\psi^{20}}{\\sqrt{5}} = 4181\n",
        "$$\n",
        "\n",
        "which agrees with our Python code."
      ],
      "metadata": {
        "id": "cHvt48DHUpUh"
      }
    },
    {
      "cell_type": "markdown",
      "source": [
        "Next lets use loops to sum the first $n$ natual numbers"
      ],
      "metadata": {
        "id": "4LHbrmoeVBgg"
      }
    },
    {
      "cell_type": "code",
      "source": [
        "# A function to sum the first n natural numbers\n",
        "\n",
        "def sum_n(n):\n",
        "  sum = 0\n",
        "  i = 1\n",
        "  while i <= n:\n",
        "    sum += i\n",
        "    i += 1   # increment counter\n",
        "  print('The sum is', sum)\n",
        "\n",
        "# run function\n",
        "sum_n(100)"
      ],
      "metadata": {
        "id": "slgOKTuKVIF6",
        "colab": {
          "base_uri": "https://localhost:8080/"
        },
        "outputId": "4f697165-88c8-403f-aee8-e937a12db214"
      },
      "execution_count": null,
      "outputs": [
        {
          "output_type": "stream",
          "name": "stdout",
          "text": [
            "The sum is 5050\n"
          ]
        }
      ]
    },
    {
      "cell_type": "markdown",
      "source": [
        "Again this is easy to check since we know that\n",
        "\n",
        "$$\n",
        "\\sum_{i=1}^{100}i = \\frac{100(101)}{2} = 5050\n",
        "$$\n",
        "\n",
        "as expected.\n",
        "\n",
        "### Conditional statements using if, elif, else\n",
        "\n",
        "Lets write a program that returns a students grade for the Maths Bio coursework given a score out of 100."
      ],
      "metadata": {
        "id": "QOB52HD3Uq1v"
      }
    },
    {
      "cell_type": "code",
      "source": [
        "# A program to grade the Topics in Mathematical Biology coursework\n",
        "\n",
        "def grade(score):\n",
        "  if score >= 92.5:\n",
        "    GBA = '1EXC'\n",
        "  elif score >= 84.5:\n",
        "    GBA = '1HIGH'\n",
        "  elif score >= 77.5:\n",
        "    GBA = '1MID'\n",
        "  elif score >= 69.5:\n",
        "    GBA = '1LOW'\n",
        "  else:\n",
        "    GBA = 'Fail'\n",
        "  return GBA\n",
        "\n",
        "# run the function\n",
        "grade(94)"
      ],
      "metadata": {
        "colab": {
          "base_uri": "https://localhost:8080/",
          "height": 35
        },
        "id": "DNWx1gwdS6Jv",
        "outputId": "efdfe375-c067-4f68-8b46-02ee6485e10e"
      },
      "execution_count": null,
      "outputs": [
        {
          "output_type": "execute_result",
          "data": {
            "text/plain": [
              "'1EXC'"
            ],
            "application/vnd.google.colaboratory.intrinsic+json": {
              "type": "string"
            }
          },
          "metadata": {},
          "execution_count": 4
        }
      ]
    },
    {
      "cell_type": "markdown",
      "source": [
        "What about a game of guess the number!"
      ],
      "metadata": {
        "id": "AlAInUhKU19D"
      }
    },
    {
      "cell_type": "code",
      "source": [
        "# Guess the number\n",
        "\n",
        "import random # Import the random number module\n",
        "\n",
        "num_guesses = 0\n",
        "name = input('Hi! What is your name? ')\n",
        "number = random.randint(1, 20) # a random number between 1 and 20\n",
        "print('Welcome, {}! I am thinking of an integer between 1 and 20.'.format(name))\n",
        "\n",
        "while num_guesses < 6:\n",
        "  guess = int(input('Take a guess and type the integer '))\n",
        "  num_guesses += 1\n",
        "\n",
        "  if guess < number:\n",
        "    print('Your guess is too low')\n",
        "  if guess > number:\n",
        "    print('Your guess is too high')\n",
        "  if guess == number:\n",
        "    break\n",
        "\n",
        "if guess == number:\n",
        "  print('Damn {}, you win! You guessed the correct number in {} guesses'.format(name, num_guesses))\n",
        "else:\n",
        "  print('You lose! The number I was thinking of was {}'.format(number))"
      ],
      "metadata": {
        "id": "co5Tc5k7U670",
        "colab": {
          "base_uri": "https://localhost:8080/"
        },
        "outputId": "e26d46f9-3c04-433c-adec-098b597b7572"
      },
      "execution_count": null,
      "outputs": [
        {
          "output_type": "stream",
          "name": "stdout",
          "text": [
            "Hi! What is your name? Jonathan\n",
            "Welcome, Jonathan! I am thinking of an integer between 1 and 20.\n",
            "Take a guess and type the integer 1\n",
            "Your guess is too low\n",
            "Take a guess and type the integer 2\n",
            "Your guess is too low\n",
            "Take a guess and type the integer 12\n",
            "Your guess is too high\n",
            "Take a guess and type the integer 6\n",
            "Your guess is too high\n",
            "Take a guess and type the integer 9\n",
            "Your guess is too high\n",
            "Take a guess and type the integer 7\n",
            "Your guess is too high\n",
            "You lose! The number I was thinking of was 3\n"
          ]
        }
      ]
    },
    {
      "cell_type": "markdown",
      "source": [
        "In the above program we have imported a module in order to access functions for simulating random numbers. In order to use Python to study networks we are going to have to import other modules and libraries as will be demonstrated in the sections to follow."
      ],
      "metadata": {
        "id": "FY3d55WGXZ_Q"
      }
    },
    {
      "cell_type": "markdown",
      "source": [
        "### Useful data types\n",
        "\n",
        "#### **Lists**\n",
        "A Python *list* is an *ordered*, *mutable* collection of non-unique items. Since a list is ordered we can call entries of the list by their index."
      ],
      "metadata": {
        "id": "3t7WukVO5W05"
      }
    },
    {
      "cell_type": "code",
      "source": [
        "# list example\n",
        "\n",
        "student_names = ['Ruth','Theo','Benjamin','Vindula']\n",
        "print('The second student in the list is ' + student_names[1] + ' and the last is ' + student_names[-1] + '\\n')\n",
        "\n",
        "# slice a list\n",
        "print('Slice a list as follows:\\n')\n",
        "print(student_names[2:4])"
      ],
      "metadata": {
        "id": "jmPHTk-J6HG4",
        "outputId": "aa647178-30dd-4f78-e0b1-964e013cc0e7",
        "colab": {
          "base_uri": "https://localhost:8080/"
        }
      },
      "execution_count": 72,
      "outputs": [
        {
          "output_type": "stream",
          "name": "stdout",
          "text": [
            "The second student in the list is Theo and the last is Vindula\n",
            "\n",
            "Slice a list as follows:\n",
            "\n",
            "['Benjamin', 'Vindula']\n"
          ]
        }
      ]
    },
    {
      "cell_type": "markdown",
      "source": [
        "By *mutable* we mean that the list can be changed by adding or removing items. For example, to add items to the end of the list we can use the .append() command. Note that items on the list do not need to be unique."
      ],
      "metadata": {
        "id": "9hnC81UN8odk"
      }
    },
    {
      "cell_type": "code",
      "source": [
        "# I forgot to add Sam to the list :)\n",
        "student_names.append('Sam')\n",
        "print('Students enrolled on MATH34041/44041 in 2023/24 academic year:\\n')\n",
        "print(student_names)\n",
        "\n",
        "\n",
        "# say a warm welcome to all students on the course (loop through list)\n",
        "print('\\n A warm welcome to all students on the course this year! \\n')\n",
        "for student_name in student_names:\n",
        "  print('Hello ' + student_name + '!')"
      ],
      "metadata": {
        "id": "trax7O6N80yT",
        "outputId": "2a76b4f0-68ab-4e84-f73d-53d64f33e024",
        "colab": {
          "base_uri": "https://localhost:8080/"
        }
      },
      "execution_count": 73,
      "outputs": [
        {
          "output_type": "stream",
          "name": "stdout",
          "text": [
            "Students enrolled on MATH34041/44041 in 2023/24 academic year:\n",
            "\n",
            "['Ruth', 'Theo', 'Benjamin', 'Vindula', 'Sam']\n",
            "\n",
            " A warm welcome to all students on the course this year! \n",
            "\n",
            "Hello Ruth!\n",
            "Hello Theo!\n",
            "Hello Benjamin!\n",
            "Hello Vindula!\n",
            "Hello Sam!\n"
          ]
        }
      ]
    },
    {
      "cell_type": "markdown",
      "source": [
        "#### **Tuples**\n",
        "*Tuples* are similar to lists. They are also ordered collections of non-unique items. The key difference being that they are *immutable*."
      ],
      "metadata": {
        "id": "2_UjYY6g6ELS"
      }
    },
    {
      "cell_type": "code",
      "source": [
        "# tuple example\n",
        "\n",
        "student_grade = ('Theo', 'Topics in Mathematical Biology', 'FMarg')\n",
        "student_grade"
      ],
      "metadata": {
        "id": "sC6IceeO6JGo",
        "outputId": "a9054b07-5301-4ecc-e849-2c74c260cc77",
        "colab": {
          "base_uri": "https://localhost:8080/"
        }
      },
      "execution_count": 74,
      "outputs": [
        {
          "output_type": "execute_result",
          "data": {
            "text/plain": [
              "('Theo', 'Topics in Mathematical Biology', 'FMarg')"
            ]
          },
          "metadata": {},
          "execution_count": 74
        }
      ]
    },
    {
      "cell_type": "markdown",
      "source": [
        "Since they are immutable, calling the student_grade.append() command would return an error."
      ],
      "metadata": {
        "id": "hdybblVxAm0Y"
      }
    },
    {
      "cell_type": "code",
      "source": [
        "student_grade.append('N0925938')"
      ],
      "metadata": {
        "id": "MzhyApnVBLr3",
        "outputId": "a3e9ddc4-31e9-4827-fe53-e553915e4ce2",
        "colab": {
          "base_uri": "https://localhost:8080/",
          "height": 176
        }
      },
      "execution_count": 75,
      "outputs": [
        {
          "output_type": "error",
          "ename": "AttributeError",
          "evalue": "'tuple' object has no attribute 'append'",
          "traceback": [
            "\u001b[0;31m---------------------------------------------------------------------------\u001b[0m",
            "\u001b[0;31mAttributeError\u001b[0m                            Traceback (most recent call last)",
            "\u001b[0;32m<ipython-input-75-0126c40f3e35>\u001b[0m in \u001b[0;36m<cell line: 1>\u001b[0;34m()\u001b[0m\n\u001b[0;32m----> 1\u001b[0;31m \u001b[0mstudent_grade\u001b[0m\u001b[0;34m.\u001b[0m\u001b[0mappend\u001b[0m\u001b[0;34m(\u001b[0m\u001b[0;34m'N0925938'\u001b[0m\u001b[0;34m)\u001b[0m\u001b[0;34m\u001b[0m\u001b[0;34m\u001b[0m\u001b[0m\n\u001b[0m",
            "\u001b[0;31mAttributeError\u001b[0m: 'tuple' object has no attribute 'append'"
          ]
        }
      ]
    },
    {
      "cell_type": "markdown",
      "source": [
        "This property of tuples means that they are useful for *unpacking* since we can be sure that index properties remain fixed (e.g. student_grade[0] will always return the student name)."
      ],
      "metadata": {
        "id": "W2NuoL9uBWsP"
      }
    },
    {
      "cell_type": "code",
      "source": [
        "student_name, subject, grade = student_grade\n",
        "\n",
        "print('Name: ' + student_name)\n",
        "print('Course: ' + subject)\n",
        "print('Grade: ' + grade)"
      ],
      "metadata": {
        "id": "nbHrwl7SBvET",
        "outputId": "cbd8bccd-73e6-45a1-8d5a-9a33d4b69a83",
        "colab": {
          "base_uri": "https://localhost:8080/"
        }
      },
      "execution_count": 76,
      "outputs": [
        {
          "output_type": "stream",
          "name": "stdout",
          "text": [
            "Name: Theo\n",
            "Course: Topics in Mathematical Biology\n",
            "Grade: FMarg\n"
          ]
        }
      ]
    },
    {
      "cell_type": "markdown",
      "source": [
        "This approach can be useful when using loops."
      ],
      "metadata": {
        "id": "hIotRYvWCOs5"
      }
    },
    {
      "cell_type": "code",
      "source": [
        "# THIS IS A TRUE TUPLE. The events depicted in this tuple took place in Nottingham in 2024. At the request of the students,\n",
        "# the marks have been changed. Out of respect for the dead, the rest has been told exactly as it occurred.\n",
        "student_grades = [\n",
        "    ('Ruth', 'Topics in Mathematical Biology', '1LOW'),\n",
        "    ('Theo', 'Topics in Mathematical Biology', 'FMarg'),\n",
        "    ('Benjamin', 'Topics in Mathematical Biology', '1MID'),\n",
        "    ('Vindula', 'Topics in Mathematical Biology', '21HIGH'),\n",
        "    ('Sam', 'Topics in Mathematical Biology', '22MID'),\n",
        "]\n",
        "\n",
        "for student_name, subject, grade in student_grades:\n",
        "  if grade.startswith('1'):\n",
        "    print('Congratulations', student_name,\n",
        "          'on getting a',grade,\n",
        "          'in', subject,'\\n')\n"
      ],
      "metadata": {
        "id": "1p_fEYZmCSLk",
        "outputId": "010c9ea2-e732-446d-b5a9-bda475d825a9",
        "colab": {
          "base_uri": "https://localhost:8080/"
        }
      },
      "execution_count": 77,
      "outputs": [
        {
          "output_type": "stream",
          "name": "stdout",
          "text": [
            "Congratulations Ruth on getting a 1LOW in Topics in Mathematical Biology \n",
            "\n",
            "Congratulations Benjamin on getting a 1MID in Topics in Mathematical Biology \n",
            "\n"
          ]
        }
      ]
    },
    {
      "cell_type": "markdown",
      "source": [
        "\n",
        "#### **Dictionaries**\n",
        "The last type of collection we consider is the *dictionary* which is an *unordered*, *mutable* collection of *unique* items. Below we give a very simple example."
      ],
      "metadata": {
        "id": "uXYduVza6GO_"
      }
    },
    {
      "cell_type": "code",
      "source": [
        "# dictionary example\n",
        "foreign_langauges = {\n",
        "    'Ruth': 'Spanish',\n",
        "    'Theo': 'English',\n",
        "    'Vindula': 'Italian',\n",
        "    'Sam': 'French',\n",
        "}\n",
        "\n",
        "foreign_langauges['Sam']"
      ],
      "metadata": {
        "id": "JTn8ANGA6K4Q",
        "outputId": "6abcda0e-9c6e-42f5-9e18-556a2ef2ff82",
        "colab": {
          "base_uri": "https://localhost:8080/",
          "height": 35
        }
      },
      "execution_count": 78,
      "outputs": [
        {
          "output_type": "execute_result",
          "data": {
            "text/plain": [
              "'French'"
            ],
            "application/vnd.google.colaboratory.intrinsic+json": {
              "type": "string"
            }
          },
          "metadata": {},
          "execution_count": 78
        }
      ]
    },
    {
      "cell_type": "markdown",
      "source": [
        "We can check whether a particular *key* (names in our example) is in a dictionary."
      ],
      "metadata": {
        "id": "Z0NxAlYLFNcl"
      }
    },
    {
      "cell_type": "code",
      "source": [
        "'Martin' in foreign_langauges"
      ],
      "metadata": {
        "id": "9wykU8RLFUcb",
        "outputId": "ad124219-14c2-4a5d-81d8-0c36519aa8bc",
        "colab": {
          "base_uri": "https://localhost:8080/"
        }
      },
      "execution_count": 79,
      "outputs": [
        {
          "output_type": "execute_result",
          "data": {
            "text/plain": [
              "False"
            ]
          },
          "metadata": {},
          "execution_count": 79
        }
      ]
    },
    {
      "cell_type": "code",
      "source": [
        "'Theo' in foreign_langauges"
      ],
      "metadata": {
        "id": "tRJtOxZaFaXb",
        "outputId": "85c4c7cf-88a5-40a9-f0cd-6d46fddd584c",
        "colab": {
          "base_uri": "https://localhost:8080/"
        }
      },
      "execution_count": 80,
      "outputs": [
        {
          "output_type": "execute_result",
          "data": {
            "text/plain": [
              "True"
            ]
          },
          "metadata": {},
          "execution_count": 80
        }
      ]
    },
    {
      "cell_type": "markdown",
      "source": [
        "We can add, delete and change entries in the dictionary."
      ],
      "metadata": {
        "id": "tLRDDyeEFjEz"
      }
    },
    {
      "cell_type": "code",
      "source": [
        "foreign_langauges['Martin'] = 'Klingon'\n",
        "print('Lets add Martin and his preferred langauge: ', foreign_langauges,'\\n')\n",
        "\n",
        "# add Benjamin since he is missing from the list\n",
        "foreign_langauges['Benjamin'] = 'French'\n",
        "\n",
        "# and lets remove Martin :)\n",
        "del foreign_langauges['Martin']\n",
        "print('Updated and corrected list:', foreign_langauges)"
      ],
      "metadata": {
        "id": "dNY0_rn-Fn2z",
        "outputId": "bd790c90-31a4-4130-f4be-5c2cb55266fb",
        "colab": {
          "base_uri": "https://localhost:8080/"
        }
      },
      "execution_count": 81,
      "outputs": [
        {
          "output_type": "stream",
          "name": "stdout",
          "text": [
            "Lets add Martin and his preferred langauge:  {'Ruth': 'Spanish', 'Theo': 'English', 'Vindula': 'Italian', 'Sam': 'French', 'Martin': 'Klingon'} \n",
            "\n",
            "Updated and corrected list: {'Ruth': 'Spanish', 'Theo': 'English', 'Vindula': 'Italian', 'Sam': 'French', 'Benjamin': 'French'}\n"
          ]
        }
      ]
    }
  ]
}