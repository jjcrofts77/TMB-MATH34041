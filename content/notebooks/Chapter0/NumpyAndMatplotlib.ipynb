{
  "nbformat": 4,
  "nbformat_minor": 0,
  "metadata": {
    "colab": {
      "provenance": [],
      "authorship_tag": "ABX9TyPRHfPMVpYbi7ten/jLro8p",
      "include_colab_link": true
    },
    "kernelspec": {
      "name": "python3",
      "display_name": "Python 3"
    },
    "language_info": {
      "name": "python"
    }
  },
  "cells": [
    {
      "cell_type": "markdown",
      "metadata": {
        "id": "view-in-github",
        "colab_type": "text"
      },
      "source": [
        "<a href=\"https://colab.research.google.com/github/jjcrofts77/TMB-MATH34041/blob/main/content/notebooks/Chapter0/NumpyAndMatplotlib.ipynb\" target=\"_parent\"><img src=\"https://colab.research.google.com/assets/colab-badge.svg\" alt=\"Open In Colab\"/></a>"
      ]
    },
    {
      "cell_type": "markdown",
      "source": [
        "# 0.2 Introduction to the NumPy and Matplotlib libraries\n",
        "\n",
        "In this section we introduce the *numpy* library which is used for numerical mathematics and the *matplotlib* library which is used to create plots.\n",
        "\n",
        "## NumPy\n",
        "\n",
        "The preferred approach for importing the *numpy* module is to preface the code with the line\n"
      ],
      "metadata": {
        "id": "luvfMQY_Yf23"
      }
    },
    {
      "cell_type": "code",
      "source": [
        "import numpy as np"
      ],
      "metadata": {
        "id": "pVyExfA9aJyh"
      },
      "execution_count": 1,
      "outputs": []
    },
    {
      "cell_type": "markdown",
      "source": [
        "Then a *numpy* function func is called as np.func. There are many ways to obtain help on a particular function, but perhaps the easiest is to type the function followed by a question mark. For example, to query the cosine function in *numpy* just type\n",
        "\n"
      ],
      "metadata": {
        "id": "uEWJzi5paRYB"
      }
    },
    {
      "cell_type": "code",
      "source": [
        "import numpy as np\n",
        "\n",
        "np.cos?"
      ],
      "metadata": {
        "id": "Mo7Aq-NIaoGK"
      },
      "execution_count": null,
      "outputs": []
    },
    {
      "cell_type": "markdown",
      "source": [
        "A lot of numpy commands will be familiar due to your experience with Matlab. For example, if we wanted to create a vector of evenly spaced numbers over an interval then we can use the np.linspace function."
      ],
      "metadata": {
        "id": "9K672D8JbAo7"
      }
    },
    {
      "cell_type": "code",
      "source": [
        "import numpy as np\n",
        "\n",
        "a = np.linspace(0,1,5)\n",
        "b = np.linspace(1,3,5)\n",
        "\n",
        "# we can perform arithmetic on vectors of the same dimension\n",
        "a+b\n",
        "print('a = {}'.format(a))\n",
        "print('b = {}'.format(b))\n",
        "a+=b # this is equivalent to a = a + b\n",
        "print('a+b = {}'.format(a))"
      ],
      "metadata": {
        "id": "xXNlMOwFbQCU"
      },
      "execution_count": null,
      "outputs": []
    },
    {
      "cell_type": "markdown",
      "source": [
        "Other similar commands exist such as np.ones and np.zeros to name but two."
      ],
      "metadata": {
        "id": "4bjdKLxZcsfb"
      }
    },
    {
      "cell_type": "code",
      "source": [
        "import numpy as np\n",
        "\n",
        "c = np.ones(4,dtype=int)\n",
        "d = np.zeros(4,dtype=int)\n",
        "\n",
        "print('c = {}'.format(c))\n",
        "print('d = {}'.format(d))"
      ],
      "metadata": {
        "id": "qnQK_6lkcxB7"
      },
      "execution_count": null,
      "outputs": []
    },
    {
      "cell_type": "markdown",
      "source": [
        "A really useful resource for Matlab users is the [NumPy for MATLAB users](https://numpy.org/doc/stable/user/numpy-for-matlab-users.html) webpage, which discusses the key differences and similarities between the two langauges."
      ],
      "metadata": {
        "id": "b2a2cVCZdcuk"
      }
    },
    {
      "cell_type": "markdown",
      "source": [
        "### Arrays\n",
        "Arrays will be important in this course as we commonly represent networks as matrices and use the tools of linear algebra to study their properties."
      ],
      "metadata": {
        "id": "7x7ANdl2a8BS"
      }
    },
    {
      "cell_type": "code",
      "source": [
        "import numpy as np\n",
        "\n",
        "# defining and manipulating arrays\n",
        "\n",
        "A = np.array([[1., 2., 3.], [4., 5., 6.]])\n",
        "print('A = {}'.format(B))\n",
        "\n",
        "# size\n",
        "print('Dimensions of A are {}'.format(np.shape(A))) # 2 by 3\n",
        "\n",
        "# (2,2) element\n",
        "print('The (2,3) entry in A is given by '.format(A[1,1]))\n",
        "\n",
        "# the second column of A\n",
        "print('The second column of A is given by {} '.format(A[:,1]))\n",
        "\n",
        "# A^T\n",
        "print('A transpose is given by {} '.format(A.T))\n",
        "\n",
        "# matrix multiplication\n",
        "B = np.array([[1., 1.], [1.,1.], [1.,1.]])\n",
        "print('B = {}'.format(B))\n",
        "\n",
        "print('AB is given by {} '.format(A@B)) # the @ symbol denotes matrix multiplication in Python"
      ],
      "metadata": {
        "id": "rjqWWBdaeOkx"
      },
      "execution_count": null,
      "outputs": []
    },
    {
      "cell_type": "markdown",
      "source": [
        "For further details on array operations see the NumPy for MATLAB users link above.\n",
        "\n",
        "Once defined, many operations on arrays are identical to MATLAB.\n",
        "\n"
      ],
      "metadata": {
        "id": "iSUVrl68eZQG"
      }
    },
    {
      "cell_type": "code",
      "source": [
        "import numpy as np\n",
        "\n",
        "# compute sin(x) for x in [0,pi]\n",
        "x = np.linspace(0,np.pi)\n",
        "y = np.sin(x)"
      ],
      "metadata": {
        "id": "IvWqzZnf2AO1"
      },
      "execution_count": null,
      "outputs": []
    },
    {
      "cell_type": "markdown",
      "source": [
        "An important similarity to MATLAB is the idea of broadcasting a variable. In the following example we add the scalar 2 to a vector. Python knows to perform the addition component-wise as if we had added 2*np.ones_like(a)."
      ],
      "metadata": {
        "id": "8eBfE87s2b4H"
      }
    },
    {
      "cell_type": "code",
      "source": [
        "import numpy as np\n",
        "\n",
        "a = np.linspace(0,1,5)\n",
        "print('a = {} '.format(a))\n",
        "print('a+2 = {}'.format(a+2))\n",
        "print('np.ones_like(a) = {}'.format(np.ones_like(a))) # a vector of ones the same dimensions as the vector a\n",
        "print('a+2*np.ones_like(a) = {}'.format(a+2*np.ones_like(a)))"
      ],
      "metadata": {
        "id": "LZMHAQXj25aO"
      },
      "execution_count": null,
      "outputs": []
    },
    {
      "cell_type": "markdown",
      "source": [
        "Just as with MATLAB, using for loops to manipulate large arrays can get really slow. In the following code we run the same operation twice, in the first case we use a for loop and in the second we *vectorise* the code. Play around with the size of the vector and you will see what a difference vectorising your code can have on its speed."
      ],
      "metadata": {
        "id": "Tcq_pdbH3Rv-"
      }
    },
    {
      "cell_type": "code",
      "source": [
        "import numpy as np\n",
        "\n",
        "# this code smoothes a set of data points by replacing them with their average\n",
        "\n",
        "import time # time the code\n",
        "\n",
        "n = 1000000 # try n = 10, 100, 1000, 1000000 and higher ...\n",
        "print('n = {} '.format(n))\n",
        "f = np.linspace(0,1,n+1)\n",
        "\n",
        "# make two copies of f\n",
        "f_av1 = f.copy()\n",
        "f_av2 = f.copy()\n",
        "\n",
        "# looped code\n",
        "t1 = time.time()\n",
        "for i in range(1,len(f)-1):\n",
        "  f_av1[i] = (f[i-1]+f[i]+f[i+1])/3.0\n",
        "t2 = time.time()\n",
        "\n",
        "print('For loop took {} seconds'.format(t2-t1))\n",
        "\n",
        "# vectorised code\n",
        "t3 = time.time()\n",
        "f_av2[1:-1] = (f[ :-2]+f[1:-1]+f[2: ])/3.0\n",
        "t4 = time.time()\n",
        "\n",
        "print('Vectorised code took {} seconds'.format(t4-t3))"
      ],
      "metadata": {
        "id": "FbvoiKtL33uJ"
      },
      "execution_count": null,
      "outputs": []
    },
    {
      "cell_type": "markdown",
      "source": [
        "We have only touched on the functionalities of the *numpy* library for manipulating arrays, but you shall have the opportunity to further explore *numpy* in the seminar classes as well as when performing your own network analysis later on in the course."
      ],
      "metadata": {
        "id": "eIIgUGw87HPd"
      }
    },
    {
      "cell_type": "markdown",
      "source": [
        "### Polynomials\n",
        "Polynomials of a single variable can arise in the analysis of networks when studying the network *adjacency matrix*. In Python a polynomial of the form\n",
        "\n",
        "$$\n",
        "\\lambda^n+c_1\\lambda^{n-1}+c_2\\lambda^{n-2}+\\cdots+c_{n-1}\\lambda+c_n\n",
        "$$\n",
        "\n",
        "can be stored as a Python *list*.\n",
        "\n",
        "Suppose, for example that we have a network on 4 nodes whose adjacency matrix has characteristic polynomial given by\n",
        "\n",
        "$$\n",
        "\\chi_A(\\lambda) = \\lambda^4 -6\\lambda^2-8\\lambda-3\n",
        "$$"
      ],
      "metadata": {
        "id": "MCjXjiZj2Ur9"
      }
    },
    {
      "cell_type": "code",
      "source": [
        "import numpy as np\n",
        "\n",
        "# Creating polynomials\n",
        "\n",
        "# define by coefficients\n",
        "coeffs = [1,0,-6,-8,-3]\n",
        "print('The roots of the polynomial are {} \\n'.format(np.roots(coeffs)))\n",
        "\n",
        "# define by roots\n",
        "roots = [3,-1,-1,-1]\n",
        "print('The coefficients are given by {} '.format(np.poly(roots)))"
      ],
      "metadata": {
        "id": "--8wmodeetTF"
      },
      "execution_count": null,
      "outputs": []
    },
    {
      "cell_type": "markdown",
      "source": [
        "The roots of the above polynomial are $\\sigma(A) = \\{3,-1,-1,-1\\}$."
      ],
      "metadata": {
        "id": "AUsnEuefff90"
      }
    },
    {
      "cell_type": "markdown",
      "source": [
        "### Linear algebra\n",
        "\n",
        "Linear algebra is an important tool in the network scientists arsenal since we often represent networks as matrices. Our focus will be on the adjacency matrix representation but there are many others.\n",
        "\n",
        "We will often want to compute spectral properties of networks."
      ],
      "metadata": {
        "id": "E-SqPgH1ethl"
      }
    },
    {
      "cell_type": "code",
      "source": [
        "import numpy as np\n",
        "\n",
        "# eigenvalues and eigenvectors\n",
        "\n",
        "# 5 node network\n",
        "A = np.array([[0,1,1,0,1],[1,1,1,0,1],[1,1,1,0,1],[0,0,0,1,0],[1,1,1,0,1]])\n",
        "\n",
        "# compute the determinant and inverse (if possible)\n",
        "d = np.linalg.det(A)\n",
        "if d==0.0:\n",
        "  print('The matrix is singular\\n')\n",
        "else:\n",
        "  AI = np.linalg.inv(A)\n",
        "\n",
        "# eigenvalues and eigenvectors\n",
        "evals, evecs = np.linalg.eig(A)\n",
        "evals_srt = np.sort(evals)\n",
        "eval_lg = evals_srt[-1]\n",
        "\n",
        "print('The largest (most positive) eigenvalue is {} \\n'.format(eval_lg))\n",
        "\n",
        "# let us check Au-\\lambdau = 0 for the first pair (\\lambda, u)\n",
        "print('checking the eigenvalue-eigenvector equation for the first eigen pair gives \\n')\n",
        "eval1 = evals[0]\n",
        "evec1 = evecs[:,0]\n",
        "np.sum(evec1*evec1)\n",
        "np.dot(A,evec1) - eval1*evec1"
      ],
      "metadata": {
        "id": "hLRJeDu1hRNh"
      },
      "execution_count": null,
      "outputs": []
    },
    {
      "cell_type": "markdown",
      "source": [
        "We will also wish to solve matrix equations such as\n",
        "\n",
        "$$\n",
        "A\\mathbf{x} = \\mathbf{b}\n",
        "$$\n",
        "\n",
        "mostly when considering centrality measures (I'm thinking Katz index in particular).\n",
        "\n",
        "Below we see the code for solving the linear system above for\n",
        "\n",
        "$$\n",
        "A =\\begin{pmatrix}1&2&1\\\\5&2&5\\\\1&2&3\\end{pmatrix} \\quad\\text{ and }\\quad b = \\begin{pmatrix}1\\\\1\\\\-3\\end{pmatrix}\n",
        "$$"
      ],
      "metadata": {
        "id": "B_5DFkgNnBjN"
      }
    },
    {
      "cell_type": "code",
      "source": [
        "import numpy as np\n",
        "\n",
        "# Solving linear systems of equations\n",
        "\n",
        "A = np.array([[1,2,1],[5,2,5],[1,2,3]])\n",
        "b = np.array([1,1,-3])\n",
        "x = np.linalg.solve(A,b)\n",
        "\n",
        "print('The solution is x = {} \\n'.format(x))\n",
        "\n",
        "print('Substituting this back into the equation gives {}'.format(np.dot(A,x)-b))"
      ],
      "metadata": {
        "id": "-VlwCjhinUgt"
      },
      "execution_count": null,
      "outputs": []
    },
    {
      "cell_type": "markdown",
      "source": [
        "Here the last line checks the solution.\n",
        "\n",
        "As you can imagine the *numpy* module contains far more resources that those considered in this brief tutorial. Another related module is the [*scipy* module](https://scipy.org/) which provides further advanced mathematical functionalities such as special functions (Bessel functions *etc.*), optimisation routines, integration routines to solve initial value problems and much more. You may well find yourself further expolring these packages as you complete the coursework!"
      ],
      "metadata": {
        "id": "Dmss3KikoNX_"
      }
    },
    {
      "cell_type": "markdown",
      "source": [
        "## Matplotlib\n",
        "The *matplotlib* package is a *numpy* add-on that aims to produce publication quality graphics.\n",
        "\n",
        "The recommended way to access the *matplotlib* library is as follows\n",
        "\n"
      ],
      "metadata": {
        "id": "wqzR64fxhRXY"
      }
    },
    {
      "cell_type": "code",
      "source": [
        "import matplotlib.pyplot as plt\n",
        "\n",
        "plt?"
      ],
      "metadata": {
        "id": "w518-Gv3svu2"
      },
      "execution_count": 42,
      "outputs": []
    },
    {
      "cell_type": "markdown",
      "source": [
        "This provides a MATLAB-like environment for plotting figures in Python."
      ],
      "metadata": {
        "id": "ufLyuMzMs_Bk"
      }
    },
    {
      "cell_type": "markdown",
      "source": [
        "### Simple figures\n",
        "\n",
        "Below we plot the function\n",
        "\n",
        "$$\n",
        "y(x) = \\sin(x)+\\frac{1}{3}\\cos{3x}\n",
        "$$\n",
        "\n",
        "on the range $x\\in [-\\pi, \\pi]$."
      ],
      "metadata": {
        "id": "yacIwNSZsv2c"
      }
    },
    {
      "cell_type": "code",
      "source": [
        "import numpy as np\n",
        "import matplotlib.pyplot as plt\n",
        "\n",
        "x = np.linspace(-np.pi,np.pi,101)\n",
        "y = np.sin(x)+np.cos(3*x)/3.0\n",
        "\n",
        "# plot\n",
        "plt.plot(x,y)\n",
        "plt.suptitle('My first Python plot!') # add a title\n",
        "\n",
        "# add axis labels\n",
        "plt.xlabel('x')\n",
        "plt.ylabel('y(x)')\n",
        "plt.savefig('fig1.pdf') # save figure in current directory\n"
      ],
      "metadata": {
        "id": "B5ogzUPYtfrt",
        "outputId": "28a97a22-1c5a-4f8a-b9f7-d6f094584b9b",
        "colab": {
          "base_uri": "https://localhost:8080/",
          "height": 497
        }
      },
      "execution_count": 72,
      "outputs": [
        {
          "output_type": "display_data",
          "data": {
            "text/plain": [
              "<Figure size 640x480 with 1 Axes>"
            ],
            "image/png": "[encoded data removed]"
          },
          "metadata": {}
        }
      ]
    },
    {
      "cell_type": "markdown",
      "source": [
        "Hopefully the similarities with MATLAB mean that the above code is clear.\n",
        "\n",
        "Just as with MATLAB we can add multiple plots to a single graph and format them by providing additional parameters to the plot function."
      ],
      "metadata": {
        "id": "Jbv0Gc8zvwJq"
      }
    },
    {
      "cell_type": "code",
      "source": [
        "import numpy as np\n",
        "import matplotlib.pyplot as plt\n",
        "\n",
        "# function definitions\n",
        "x = np.linspace(-np.pi,np.pi,101)\n",
        "y1 = np.sin(x)+np.sin(3*x)/3.0\n",
        "y2 = np.exp(x/2.0)*np.cos(3*x)\n",
        "\n",
        "# plot\n",
        "plt.plot(x,y1,'r-',label='y_1(x)') # label - legend label\n",
        "plt.plot(x,y2,'g--',lw=4,label='y_2(x)') # lw - line width\n",
        "\n",
        "# x and y limits\n",
        "plt.axis([-np.pi,np.pi,-5,3]) # [xmin,xmax,ymin,ymax]\n",
        "\n",
        "# add title and axis labels\n",
        "plt.suptitle('An example showing multiple plots',size=16) # size - font size\n",
        "plt.xlabel('x')\n",
        "plt.ylabel('y(x)')\n",
        "\n",
        "# add legend\n",
        "plt.legend(loc='best') # add legend\n",
        "\n",
        "plt.savefig('fig1.pdf') # save figure in current directory"
      ],
      "metadata": {
        "id": "R_5XnXoF1u-8",
        "outputId": "27a0e50e-c5c9-4e2f-a5b8-e02475a80772",
        "colab": {
          "base_uri": "https://localhost:8080/",
          "height": 497
        }
      },
      "execution_count": 77,
      "outputs": [
        {
          "output_type": "display_data",
          "data": {
            "text/plain": [
              "<Figure size 640x480 with 1 Axes>"
            ],
            "image/png": "[encoded data removed]"
          },
          "metadata": {}
        }
      ]
    },
    {
      "cell_type": "markdown",
      "source": [
        "### Compound figures\n",
        "\n",
        "### Displaying mathematical formulae\n",
        "\n",
        "### Animations"
      ],
      "metadata": {
        "id": "z_UpAvzHtfy2"
      }
    }
  ]
}