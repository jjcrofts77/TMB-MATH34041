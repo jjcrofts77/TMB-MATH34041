{
  "nbformat": 4,
  "nbformat_minor": 0,
  "metadata": {
    "colab": {
      "provenance": [],
      "authorship_tag": "ABX9TyMSqahT5DS98LCSXP61HhLr",
      "include_colab_link": true
    },
    "kernelspec": {
      "name": "python3",
      "display_name": "Python 3"
    },
    "language_info": {
      "name": "python"
    }
  },
  "cells": [
    {
      "cell_type": "markdown",
      "metadata": {
        "id": "view-in-github",
        "colab_type": "text"
      },
      "source": [
        "<a href=\"https://colab.research.google.com/github/jjcrofts77/TMB-MATH34041/blob/main/content/notebooks/Chapter0/NumpyAndMatplotlib.ipynb\" target=\"_parent\"><img src=\"https://colab.research.google.com/assets/colab-badge.svg\" alt=\"Open In Colab\"/></a>"
      ]
    },
    {
      "cell_type": "markdown",
      "source": [
        "# 0.2 Introduction to the NumPy and Matplotlib libraries\n",
        "\n",
        "In this section we introduce the *numpy* library which is used for numerical mathematics and the *matplotlib* library which is used to create plots.\n",
        "\n",
        "## NumPy\n",
        "\n",
        "The preferred approach for importing the *numpy* module is to preface the code with the line\n"
      ],
      "metadata": {
        "id": "luvfMQY_Yf23"
      }
    },
    {
      "cell_type": "code",
      "source": [
        "import numpy as np"
      ],
      "metadata": {
        "id": "pVyExfA9aJyh"
      },
      "execution_count": 4,
      "outputs": []
    },
    {
      "cell_type": "markdown",
      "source": [
        "Then a *numpy* function func is called as np.func. There are many ways to obtain help on a particular function, but perhaps the easiest is to type the function followed by a question mark. For example, to query the cosine function in *numpy* just type\n",
        "\n"
      ],
      "metadata": {
        "id": "uEWJzi5paRYB"
      }
    },
    {
      "cell_type": "code",
      "source": [
        "np.cos?"
      ],
      "metadata": {
        "id": "Mo7Aq-NIaoGK"
      },
      "execution_count": null,
      "outputs": []
    },
    {
      "cell_type": "markdown",
      "source": [
        "A lot of numpy commands will be familiar due to your experience with Matlab. For example, if we wanted to create a vector of evenly spaced numbers over an interval then we can use the np.linspace function."
      ],
      "metadata": {
        "id": "9K672D8JbAo7"
      }
    },
    {
      "cell_type": "code",
      "source": [
        "a = np.linspace(0,1,5)\n",
        "b = np.linspace(1,3,5)\n",
        "\n",
        "# we can perform arithmetic on vectors of the same dimension\n",
        "a+b\n",
        "print('a = {}'.format(a))\n",
        "print('b = {}'.format(b))\n",
        "a+=b # this is equivalent to a = a + b\n",
        "print('a+b = {}'.format(a))"
      ],
      "metadata": {
        "id": "xXNlMOwFbQCU"
      },
      "execution_count": null,
      "outputs": []
    },
    {
      "cell_type": "markdown",
      "source": [
        "Other similar commands exist such as np.ones and np.zeros to name but two."
      ],
      "metadata": {
        "id": "4bjdKLxZcsfb"
      }
    },
    {
      "cell_type": "code",
      "source": [
        "c = np.ones(4,dtype=int)\n",
        "d = np.zeros(4,dtype=int)\n",
        "\n",
        "print('c = {}'.format(c))\n",
        "print('d = {}'.format(d))"
      ],
      "metadata": {
        "id": "qnQK_6lkcxB7"
      },
      "execution_count": null,
      "outputs": []
    },
    {
      "cell_type": "markdown",
      "source": [
        "A really useful resource for Matlab users is the [NumPy for MATLAB users](https://numpy.org/doc/stable/user/numpy-for-matlab-users.html) webpage, which discusses the key differences and similarities between the two langauges."
      ],
      "metadata": {
        "id": "b2a2cVCZdcuk"
      }
    },
    {
      "cell_type": "markdown",
      "source": [
        "### Arrays\n",
        "Arrays will be important in this course as we commonly represent networks as matrices and use the tools of linear algebra to study their properties."
      ],
      "metadata": {
        "id": "7x7ANdl2a8BS"
      }
    },
    {
      "cell_type": "code",
      "source": [
        "# defining and manipulating arrays\n",
        "\n",
        "A = np.array([[1., 2., 3.], [4., 5., 6.]])\n",
        "print('A = {}'.format(B))\n",
        "\n",
        "# size\n",
        "print('Dimensions of A are {}'.format(np.shape(A))) # 2 by 3\n",
        "\n",
        "# (2,2) element\n",
        "print('The (2,3) entry in A is given by '.format(A[1,1]))\n",
        "\n",
        "# the second column of A\n",
        "print('The second column of A is given by {} '.format(A[:,1]))\n",
        "\n",
        "# A^T\n",
        "print('A transpose is given by {} '.format(A.T))\n",
        "\n",
        "# matrix multiplication\n",
        "B = np.array([[1., 1.], [1.,1.], [1.,1.]])\n",
        "print('B = {}'.format(B))\n",
        "\n",
        "print('AB is given by {} '.format(A@B))"
      ],
      "metadata": {
        "id": "rjqWWBdaeOkx"
      },
      "execution_count": null,
      "outputs": []
    },
    {
      "cell_type": "markdown",
      "source": [
        "For further details on array operations see the link above.\n",
        "\n",
        "Once defined, many operations on arrays are identical to MATLAB.\n",
        "\n"
      ],
      "metadata": {
        "id": "iSUVrl68eZQG"
      }
    },
    {
      "cell_type": "code",
      "source": [
        "# compute sin(x) for x in [0,pi]\n",
        "x = np.linspace(0,np.pi)\n",
        "y = np.sin(x)"
      ],
      "metadata": {
        "id": "IvWqzZnf2AO1"
      },
      "execution_count": null,
      "outputs": []
    },
    {
      "cell_type": "markdown",
      "source": [
        "An important similarity to MATLAB is the idea of broadcastnig a variable. In the followign example we add the scalar 2 to a vector. Python performs the addition component-wise as if we had added 2*np.ones_like(a)."
      ],
      "metadata": {
        "id": "8eBfE87s2b4H"
      }
    },
    {
      "cell_type": "code",
      "source": [
        "a = np.linspace(0,1,5)\n",
        "print('a = {} '.format(a))\n",
        "print('a+2 = {}'.format(a+2))"
      ],
      "metadata": {
        "id": "LZMHAQXj25aO"
      },
      "execution_count": null,
      "outputs": []
    },
    {
      "cell_type": "markdown",
      "source": [
        "Just as with MATLAB, using for loops to manipulate large arrays can get really slow. In the following code we run the same operation twice, in the first case we use a for loop and in the second we *vectorise* the code. Play around with the size of the vector and you will see what a difference vectorising your code can have on its speed."
      ],
      "metadata": {
        "id": "Tcq_pdbH3Rv-"
      }
    },
    {
      "cell_type": "code",
      "source": [
        "# this code smoothes a set of data points by rpelacing them with their average\n",
        "\n",
        "import time\n",
        "\n",
        "n = 1000000 # try n = 10, 100, 1000, 1000000 and higher ...\n",
        "print('n = {} '.format(n))\n",
        "f = np.linspace(0,1,n+1)\n",
        "\n",
        "# make two copies of f\n",
        "f_av1 = f.copy()\n",
        "f_av2 = f.copy()\n",
        "\n",
        "# looped code\n",
        "t1 = time.time()\n",
        "for i in range(1,len(f)-1):\n",
        "  f_av1[i] = (f[i-1]+f[i]+f[i+1])/3.0\n",
        "t2 = time.time()\n",
        "\n",
        "print('For loop took {} seconds'.format(t2-t1))\n",
        "\n",
        "# vectorised code\n",
        "t3 = time.time()\n",
        "f_av2[1:-1] = (f[ :-2]+f[1:-1]+f[2: ])/3.0\n",
        "t4 = time.time()\n",
        "\n",
        "print('Vectorised code took {} seconds'.format(t4-t3))"
      ],
      "metadata": {
        "id": "FbvoiKtL33uJ"
      },
      "execution_count": null,
      "outputs": []
    },
    {
      "cell_type": "markdown",
      "source": [
        "### Polynomials\n",
        "\n",
        "### Linear algebra\n",
        "\n",
        "## Matplotlib\n",
        "\n",
        "### Simple figures\n",
        "\n",
        "### Compound figures\n",
        "\n",
        "### Displaying mathematical formulae\n",
        "\n",
        "### Animations"
      ],
      "metadata": {
        "id": "MCjXjiZj2Ur9"
      }
    }
  ]
}