{
  "nbformat": 4,
  "nbformat_minor": 0,
  "metadata": {
    "colab": {
      "provenance": [],
      "authorship_tag": "ABX9TyNrGcf269+Uwa70waEITmYC",
      "include_colab_link": true
    },
    "kernelspec": {
      "name": "python3",
      "display_name": "Python 3"
    },
    "language_info": {
      "name": "python"
    }
  },
  "cells": [
    {
      "cell_type": "markdown",
      "metadata": {
        "id": "view-in-github",
        "colab_type": "text"
      },
      "source": [
        "<a href=\"https://colab.research.google.com/github/jjcrofts77/TMB-MATH34041/blob/main/content/notebooks/Chapter5/NumpyAndMatplotlib.ipynb\" target=\"_parent\"><img src=\"https://colab.research.google.com/assets/colab-badge.svg\" alt=\"Open In Colab\"/></a>"
      ]
    },
    {
      "cell_type": "markdown",
      "source": [
        "# 0.2 Introduction to the NumPy and Matplotlib libraries\n",
        "\n",
        "In this section we introduce the *numpy* library which is used for numerical mathematics and the *matplotlib* library which is used to create plots.\n",
        "\n",
        "## NumPy\n",
        "\n",
        "The preferred approach for importing the *numpy* module is to preface the code with the line\n"
      ],
      "metadata": {
        "id": "luvfMQY_Yf23"
      }
    },
    {
      "cell_type": "code",
      "source": [
        "import numpy as np"
      ],
      "metadata": {
        "id": "pVyExfA9aJyh"
      },
      "execution_count": 2,
      "outputs": []
    },
    {
      "cell_type": "markdown",
      "source": [
        "Then a *numpy* function func is called as np.func. There are many ways to obtain help on a particular function, but perhaps the easiest is to type the function followed by a question mark. For example, to query the cosine function in *numpy* just type\n",
        "\n"
      ],
      "metadata": {
        "id": "uEWJzi5paRYB"
      }
    },
    {
      "cell_type": "code",
      "source": [
        "np.cos?"
      ],
      "metadata": {
        "id": "Mo7Aq-NIaoGK"
      },
      "execution_count": 4,
      "outputs": []
    },
    {
      "cell_type": "markdown",
      "source": [
        "A lot of numpy commands will be familiar due to your experience with Matlab. For example, if we wanted to create a vector of evenly spaced numbers over an interval then we can use the np.linspace function."
      ],
      "metadata": {
        "id": "9K672D8JbAo7"
      }
    },
    {
      "cell_type": "code",
      "source": [
        "a = np.linspace(0,1,5)\n",
        "b = np.linspace(1,3,5)\n",
        "\n",
        "# we can perform arithmetic on vectors of the same dimension\n",
        "a+b\n",
        "print('a = {}'.format(a))\n",
        "print('b = {}'.format(b))\n",
        "a+=b # this is equivalent to a = a + b\n",
        "print('a+b = {}'.format(a))"
      ],
      "metadata": {
        "id": "xXNlMOwFbQCU"
      },
      "execution_count": null,
      "outputs": []
    },
    {
      "cell_type": "markdown",
      "source": [
        "Other similar commands exist such as np.ones and np.zeros to name but two."
      ],
      "metadata": {
        "id": "4bjdKLxZcsfb"
      }
    },
    {
      "cell_type": "code",
      "source": [
        "c = np.ones(4,dtype=int)\n",
        "d = np.zeros(4,dtype=int)\n",
        "\n",
        "print('c = {}'.format(c))\n",
        "print('d = {}'.format(d))"
      ],
      "metadata": {
        "id": "qnQK_6lkcxB7"
      },
      "execution_count": null,
      "outputs": []
    },
    {
      "cell_type": "markdown",
      "source": [
        "A really useful resource for Matlab users is the [NumPy for MATLAB users](https://numpy.org/doc/stable/user/numpy-for-matlab-users.html) webpage, which discusses the key differences and similarities between the two langauges."
      ],
      "metadata": {
        "id": "b2a2cVCZdcuk"
      }
    },
    {
      "cell_type": "markdown",
      "source": [
        "### Arrays\n",
        "Arrays will be important in this course as we commonly represent networks as matrices and use the tools of linear algebra to study their properties."
      ],
      "metadata": {
        "id": "7x7ANdl2a8BS"
      }
    },
    {
      "cell_type": "code",
      "source": [
        "A = np.array([[1., 2., 3.], [4., 5., 6.]]\n",
        "print(A)"
      ],
      "metadata": {
        "id": "rjqWWBdaeOkx"
      },
      "execution_count": null,
      "outputs": []
    },
    {
      "cell_type": "markdown",
      "source": [
        "### Polynomials\n",
        "\n",
        "### Linear algebra\n",
        "\n",
        "## Matplotlib\n",
        "\n",
        "### Simple figures\n",
        "\n",
        "### Compound figures\n",
        "\n",
        "### Displaying mathematical formulae\n",
        "\n",
        "### Animations"
      ],
      "metadata": {
        "id": "iSUVrl68eZQG"
      }
    }
  ]
}
