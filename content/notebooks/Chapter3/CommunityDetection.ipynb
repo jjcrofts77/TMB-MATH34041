{
  "nbformat": 4,
  "nbformat_minor": 0,
  "metadata": {
    "colab": {
      "name": "CommunityDetection.ipynb",
      "provenance": [],
      "authorship_tag": "ABX9TyM6U/ecGWef4/UX10gsIgMw",
      "include_colab_link": true
    },
    "kernelspec": {
      "name": "python3",
      "display_name": "Python 3"
    },
    "language_info": {
      "name": "python"
    }
  },
  "cells": [
    {
      "cell_type": "markdown",
      "metadata": {
        "id": "view-in-github",
        "colab_type": "text"
      },
      "source": [
        "<a href=\"https://colab.research.google.com/github/jjcrofts77/TMB-MATH34041/blob/main/content/notebooks/Chapter3/CommunityDetection.ipynb\" target=\"_parent\"><img src=\"https://colab.research.google.com/assets/colab-badge.svg\" alt=\"Open In Colab\"/></a>"
      ]
    },
    {
      "cell_type": "markdown",
      "metadata": {
        "id": "crZmVT31IsWI"
      },
      "source": [
        "# 3.2 Community Detection\n",
        "\n",
        "## Modularity\n",
        "In real-world networks nodes often cluster together in such a way that groups are formed in which nodes are densely connected with each other but very sparsely connected with the rest of the network. Such groups are typically referred to as *communities* or *modules* (with module being more popular in the biological community - no pun intended!). For example, in {numref}`metabolicexample` we display the metabolic network of *E. coli*, colour coded to highlight the different modules - note that these modules are strongly related to specific metabolic pathways such as glycolysis.  In this section we shall take a brief look at just how to determine the type of modular structure present in the network in {numref}`metabolicexample`.\n",
        "\n",
        "```{figure} ../../images/MetabolicExample.png\n",
        "---\n",
        "height: 350px\n",
        "name: metabolicexample\n",
        "---\n",
        "Modularity structure for the metabolic networof *E. coli*.\n",
        "```\n",
        "\n",
        "Girvan and Newman (GN) proposed *modularity* as a network measure for determining community structure. The idea is to automate the detection of groups of nodes such as those highlighted in {numref}`metabolicexample`. That is, to determine a partitioning of the node set $V$, i.e. a collection of sets $V_i\\subset V$ such that $V_i\\cap V_j = \\emptyset$ $\\forall i\\neq j$ and such that $\\cup_i V_i = V$, such that nodes in the same set are densely connected with each other, but sparsely connected with all other nodes. To measure the \"quality\" of such a partition GN forwarded the following modularity score\n",
        "\n",
        "$$\n",
        " Q = \\frac{1}{4m}\\sum_{r=1}^{n_p}\\sum_{i,j=1}^n\\left(a_{ij} - \\frac{k_ik_j}{2m}\\right)s_{ir}s_{jr}.\n",
        "$$\n",
        "\n",
        "Here, $n_p$ is the number of sets in our partition, $k_i$ the degree of node $i$, and $s_{ir}$ equals 1 if node $i$ is in cluster $r$ and 0 otherwise. The quantity $Q$ is then optimised over all possible partitions - at least in theory.\n",
        "\n",
        "Modularity can be interpreted as the sum over all partitions of the difference between the fraction of links inside each partition and the expected fraction, by considering a random network with the same degree for each node, giving\n",
        "\n",
        "$$\n",
        " Q = \\sum_{k=1}^{n_p}\\left[\\frac{|E_k|}{m} - \\frac{1}{4m^2}\\left(\\sum_{j\\in V_k}k_j\\right)^2\\right],\n",
        "$$ (modularity)\n",
        "\n",
        "Where $|E_k|$ is the number of links between nodes in the $k$th partition of the network, $V_k$.\n",
        "\n",
        "As an example consider the network in {numref}`modularityexample` along with the partition $V_1 = \\{1,2,9,10,11,12\\}$ and $V_2 = \\{3,4,5,6,7,8\\}$. Here the number of edges and sum of degrees for the communities are\n",
        "\n",
        "$$\n",
        " |E_{V_1}| = 7, ~\\sum_{j\\in V_1}k_j = 16, ~|E_{V_2}| = 9, ~\\sum_{j\\in V_2}k_j = 20,\n",
        "$$\n",
        "\n",
        "and the total number of edges is $m=18$. From {eq}`modularity`,\n",
        "\n",
        "$$\n",
        " Q = \\frac{7}{18} - \\left(\\frac{16}{36}\\right)^2 + \\frac{9}{18} - \\left(\\frac{20}{36}\\right)^2 = 0.383.\n",
        "$$\n",
        "\n",
        "```{figure} ../../images/ModularityExample.png\n",
        "---\n",
        "height: 350px\n",
        "name: modularityexample\n",
        "---\n",
        "A network with 2 well-defined communities\n",
        "```\n",
        "\n",
        "**Exercise**: Compute the modularity score $Q$ for the network in {numref}`modularityexample` for the partition\n",
        "\n",
        "$$\n",
        " V_1 = \\{1,2,3,4,5,6\\}, V_2 = \\{7,8,9,10,11,12\\}.\n",
        "$$\n",
        "\n",
        "Is this partition a better representation of the community structure than the one given above?"
      ]
    }
  ]
}