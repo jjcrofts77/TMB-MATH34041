{
  "nbformat": 4,
  "nbformat_minor": 0,
  "metadata": {
    "colab": {
      "name": "NetworkGrowth.ipynb",
      "provenance": [],
      "authorship_tag": "ABX9TyP65gsKlYpDF8Qv6bmwqHi8",
      "include_colab_link": true
    },
    "kernelspec": {
      "name": "python3",
      "display_name": "Python 3"
    },
    "language_info": {
      "name": "python"
    }
  },
  "cells": [
    {
      "cell_type": "markdown",
      "metadata": {
        "id": "view-in-github",
        "colab_type": "text"
      },
      "source": [
        "<a href=\"https://colab.research.google.com/github/jjcrofts77/TMB-MATH34041/blob/main/content/notebooks/Chapter2/NetworkGrowth.ipynb\" target=\"_parent\"><img src=\"https://colab.research.google.com/assets/colab-badge.svg\" alt=\"Open In Colab\"/></a>"
      ]
    },
    {
      "cell_type": "markdown",
      "metadata": {
        "id": "7ltxkZ3ZHWk_"
      },
      "source": [
        "# 2.3 Modelling Network Growth\n",
        "\n",
        "\\subsection{Toy models of network growth}\n",
        "Determining the mechanisms underlying observed topological structures in biology is of great importance since they provide clues regarding the evolutionary processes that helped shape them. Next, we study one of the first such models: the \\emph{Barab\\'asi-Albert (BA) model}. \n",
        "\n",
        "\\subsubsection{Barab\\'asi-Albert model}\n",
        "Unlike the WS model that generates small-world networks, the BA model was developed to generate networks with power law degree distributions. To initiate the BA algorithm we start with a small network containing $n_0$ nodes and $m_0$ edges. At each iterate of the algorithm we add a new node $u$ and connect it to existing nodes with a probability proportional to their degrees. Thus we are more likely to attach new nodes to existing nodes of high degree. For this reason the model is often referred to as the \\emph{preferential attachment model}. Figure \\ref{fig:BAmodel} illustrates the process starting from a simple network on 3 nodes.\n",
        "\n",
        "\\begin{figure}\n",
        "\\centering{\n",
        "\\subfigure[$t=0$]{\n",
        "\\includegraphics[width=0.25\\textwidth]{Figures/BAstep0.pdf}\n",
        "}\\qquad\\qquad\n",
        "\\subfigure[$t=1$]{\n",
        "\\includegraphics[width=0.25\\textwidth]{Figures/BAstep1.pdf}\n",
        "}\\\\\n",
        "\\subfigure[$t=2$]{\n",
        "\\includegraphics[width=0.25\\textwidth]{Figures/BAstep2.pdf}\n",
        "}\\qquad\\qquad\n",
        "\\subfigure[$t=3$]{\n",
        "\\includegraphics[width=0.25\\textwidth]{Figures/BAstep3.pdf}\n",
        "}\n",
        "\\caption{4 steps of the BA model starting from $n_0=3$ and $m_0=2$.} \\label{fig:BAmodel}\n",
        "}\n",
        "\\end{figure}\n",
        "\n",
        "Such models share a number of features the most important of which we outline below.\n",
        "\\begin{enumerate}\n",
        " \\item The probability that a node has degree $k\\geq d$ is given by\n",
        " \\[\n",
        "  p(k) = \\frac{2d(d-1)}{k(k+1)(k+2)}\\approx k^{-3}.\n",
        " \\]\n",
        " \\item The cumulative degree distribution is $P(k)\\approx k^{-2}$.\n",
        " \\item The expected value of the clustering coefficient is approximately\n",
        " \\[\n",
        "  \\langle C\\rangle = \\frac{d-1}{8}\\frac{\\ln^2n}{n}\\quad\\text{as $n\\to\\infty$.}\n",
        " \\]\n",
        " \\item The average path-length is given by\n",
        " \\[\n",
        "  \\langle l\\rangle = \\frac{\\ln{n}-\\ln{(d/2)}-1-\\gamma}{\\ln{\\ln{n}}+\\ln{(d/2)}} + \\frac{3}{2}\n",
        " \\]\n",
        " where again $\\gamma$ is the Euler-Mascheroni constant.\n",
        " \\item The density of eigenvalues follows a triangle distribution\n",
        " \\[\n",
        " \\rho(\\lambda) = \n",
        " \\begin{cases}\n",
        " (\\lambda+2)/4, & -2\\leq \\lambda/r \\leq 0\\\\\n",
        " (2-\\lambda)/4, & 0\\leq \\lambda/r\\leq2,\\\\\n",
        " 0, & \\text{otherwise.}\n",
        " \\end{cases}\n",
        " \\]\n",
        "\\end{enumerate}\n",
        "\n",
        "Note that the BA model can be generalised to fit general power law distributions of the form $P(k) = k^{-\\gamma}$ but we shall not consider such extensions in this course."
      ]
    }
  ]
}