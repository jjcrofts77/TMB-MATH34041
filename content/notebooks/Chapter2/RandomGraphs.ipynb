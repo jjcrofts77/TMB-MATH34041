{
  "nbformat": 4,
  "nbformat_minor": 0,
  "metadata": {
    "colab": {
      "name": "RandomGraphs.ipynb",
      "provenance": [],
      "authorship_tag": "ABX9TyOM6kXIGqRCddX9R6PkViBR",
      "include_colab_link": true
    },
    "kernelspec": {
      "name": "python3",
      "display_name": "Python 3"
    },
    "language_info": {
      "name": "python"
    }
  },
  "cells": [
    {
      "cell_type": "markdown",
      "metadata": {
        "id": "view-in-github",
        "colab_type": "text"
      },
      "source": [
        "<a href=\"https://colab.research.google.com/github/jjcrofts77/TMB-MATH34041/blob/main/content/notebooks/Chapter2/RandomGraphs.ipynb\" target=\"_parent\"><img src=\"https://colab.research.google.com/assets/colab-badge.svg\" alt=\"Open In Colab\"/></a>"
      ]
    },
    {
      "cell_type": "markdown",
      "metadata": {
        "id": "TII-Kws9GEEF"
      },
      "source": [
        "# 2.1 Random Graphs\n",
        "\n",
        "The most commonly employed null model is that of the Erd\\\"os-R\\'enyi (ER) random graph, which we denote as $G(n,p)$\\footnote{Strictly speaking this is the Gilbert model but it is typically referred to as the ER model; the two are equivalent for large $n$.}. To construct an ER Random graph we start with a set of $n$ isolated nodes and connect node pairs independently with some prespecified probability $p>0$ -- in practice we assign to each pair of nodes a random number $r\\in[0,1]$ and place a link between node pairs if $p>r$. See Figure \\ref{fig:ERexamples} for an illustration of a number of ER networks for $n=20$ nodes and a variety of $p$ values.\n",
        "\n",
        "\\begin{figure}\n",
        "\\centering{\n",
        "\\subfigure[$p=0.25$]{\n",
        "\\includegraphics[width=0.25\\textwidth]{Figures/erdrey_p025.pdf}\n",
        "}\n",
        "\\hfill\n",
        "\\subfigure[$p=0.5$]{\n",
        "\\includegraphics[width=0.25\\textwidth]{Figures/erdrey_p050.pdf}\n",
        "}\n",
        "\\hfill\n",
        "\\subfigure[$p=0.75$]{\n",
        "\\includegraphics[width=0.25\\textwidth]{Figures/erdrey_p075.pdf}\n",
        "}\n",
        "\\caption{Example ER random networks for $n=20$} \\label{fig:ERexamples}\n",
        "}\n",
        "\\end{figure}\n",
        "\n",
        "We list some of the most important properties of ER random networks below:\n",
        "\\begin{enumerate}\n",
        " \\item The expected number of edges of a network in the $G(n,p)$ ensemble is $\\langle m\\rangle = \\frac{n(n-1)p}{2}$.\n",
        " \\item The expected node degree is $\\langle k\\rangle = (n-1)p$.\n",
        " \\item For large $n$ the degree follows a Poisson distribution $p(k) = \\frac{e^{-\\langle k\\rangle}\\langle k\\rangle^k}{k!}$ as illustrated in Figure \\ref{fig:ERDD} for ER networks with $1000$ nodes and $4000$ links. The solid line represents the expected distribution and the dots represent the values for an average over 100 realisations.\n",
        " \\item The characteristic path-length for large $n$ is\n",
        " \\[\n",
        "  \\langle l \\rangle = \\frac{\\ln{(n-\\gamma)}}{\\ln{(pn)}} +\\frac{1}{2}\n",
        " \\]\n",
        " where $\\gamma\\approx 0.577$ is the so-called Euler-Mascheroni constant.\n",
        " \\item The average clustering coefficient is $\\langle C\\rangle = p$.\n",
        " \\item The spectral density of an ER random network follows Wigner's so-called semi circle law. That is, almost all the eigenvalues of an ER network lie in the range $[-2r,2r]$ where $r=\\sqrt{np(1-p)}$ and within this range the density function is given by\n",
        " \\[\n",
        "  \\rho(\\lambda) = \\frac{\\sqrt{4-\\lambda^2}}{2\\pi}.\n",
        " \\]\n",
        "\\end{enumerate} \n",
        "\n",
        "\\bigskip\n",
        "\\noindent\\textbf{Exercise:}  Prove property 5 above.\n",
        "\n",
        "\\begin{figure}\n",
        "\\centering\n",
        " \\includegraphics[scale=0.5]{Figures/ER_Poisson}\n",
        " \\caption{Empirical Erd\\\"os-Renyi degree distribution.}\\label{fig:ERDD}\n",
        "\\end{figure}\n",
        "\n",
        "\\bigskip\n",
        "In the following we consider property 3  in some detail; the remaining properties shall be considered further in the problem sheets -- with the exception of property 4 which is slightly more complicated.\n",
        "\n",
        "It is important to note that $G(n,p)$ does not represent a single network but rather an ensemble of networks each of which occurs with probability\n",
        "\\[\n",
        "P(G(n,p)) = p^m(1-p)^{\\frac{n(n-1)}{2}-m},\n",
        "\\]\n",
        "where here $m$ denotes the number of edges present. It follows that the probability of an ER random network having $m$ edges is given by\n",
        "\\[\n",
        "P(m) = {\\frac{n(n-1)}{2}\\choose m}p^m(1-p)^{\\frac{n(n-1)}{2}-m},\n",
        "\\]\n",
        "i.e. it follows a binomial distribution, from which properties 1 and 2 follow (almost!) immediately. Using similar arguments to those given above we can show that the probability of a node having degree $k$ is given by\n",
        "\\[\n",
        "P(k) = {n-1 \\choose k}p^k(1-p)^{(n-1)-k}.\n",
        "\\]\n",
        "The above gives us property 2 (again) for free (why?). \n",
        "\n",
        "Now, recall that for large $n$, small $p$, and $\\langle k\\rangle = (n-1)p$ we can approximate the binomial distribution given above by the Poisson distribution. To see this, recall that\n",
        "\\begin{align*}\n",
        " {n-1\\choose k}p^k(1-p)^{n-1-k} &= \\frac{(n-1)(n-2)\\dots(n-k)}{k!}\\left(\\frac{\\langle k\\rangle}{n-1}\\right)^k\\left(1-\\frac{\\langle k\\rangle}{n-1}\\right)^{n-1-k}\\\\\n",
        " &\\approx \\frac{\\langle k\\rangle^k}{k!}\\left(1-\\frac{\\langle k\\rangle}{n-1}\\right)^{n-1} \\quad\\text{if $k$ is small relative to $n$}\\\\\n",
        " &\\approx  \\frac{\\langle k\\rangle^k}{k!}e^{-\\langle k\\rangle} \\quad\\text{if $n$ is large}.\n",
        "\\end{align*}\n",
        "The exponential factor comes from\n",
        "\\begin{align*}\n",
        "\\ln\\left(1-\\frac{\\langle k\\rangle}{n-1}\\right)^{n-1} &= (n-1)\\ln\\left(1-\\frac{\\langle k\\rangle}{n-1}\\right)\\\\ \n",
        "&= (n-1)\\left(-\\frac{\\langle k\\rangle}{n-1} - \\frac{1}{2}\\frac{\\langle k\\rangle^2}{(n-1)^2} - \\cdots \\right)\\\\\n",
        "&\\approx -\\langle k\\rangle \\quad\\text{for large $n$}.\n",
        "\\end{align*}\n",
        "\n",
        "Note that for large random networks this says that almost all nodes have the same degree, given by $\\langle k\\rangle$, i.e. the degree distribution is highly homogeneous. Much of the early work on complex networks was motivated by the fact that real-world networks - biological networks in particular - were found to have highly heterogeneous degree distributions, that is a much broader range of degrees were present than predicicted by the ER model."
      ]
    },
    {
      "cell_type": "markdown",
      "source": [
        ""
      ],
      "metadata": {
        "id": "roie8u25UX3v"
      }
    }
  ]
}