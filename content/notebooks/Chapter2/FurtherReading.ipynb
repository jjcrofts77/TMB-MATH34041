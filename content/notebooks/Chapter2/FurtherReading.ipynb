{
  "nbformat": 4,
  "nbformat_minor": 0,
  "metadata": {
    "colab": {
      "name": "FurtherReading.ipynb",
      "provenance": [],
      "authorship_tag": "ABX9TyNhkadDZLl+yYCuFbrrT8r8",
      "include_colab_link": true
    },
    "kernelspec": {
      "name": "python3",
      "display_name": "Python 3"
    },
    "language_info": {
      "name": "python"
    }
  },
  "cells": [
    {
      "cell_type": "markdown",
      "metadata": {
        "id": "view-in-github",
        "colab_type": "text"
      },
      "source": [
        "<a href=\"https://colab.research.google.com/github/jjcrofts77/TMB-MATH34041/blob/main/content/notebooks/Chapter2/FurtherReading.ipynb\" target=\"_parent\"><img src=\"https://colab.research.google.com/assets/colab-badge.svg\" alt=\"Open In Colab\"/></a>"
      ]
    },
    {
      "cell_type": "markdown",
      "metadata": {
        "id": "bv6bmRBpHI6u"
      },
      "source": [
        "# 2.4 Further Reading\n",
        "\n",
        "Some of the material introduced in this chapter sparked off the very first studies in network science and helped shaped it into its current form. The list below contains a few of the early stand out publications.\n",
        "\n",
        "\\begin{enumerate}\n",
        "\\item P. Erd\\\"os and A. R\\'enyi, On random graphs i., \\emph{Publ. Math. Debrecen}, \\textbf{6}:290--297 (1959).\n",
        "\\item S. Milgram, The small world problem, \\emph{Psychology Today} \\textbf{2}(1):60--67 (1967).\n",
        "\\item D.J. Watts and S. Strogatz, Collective dynamics of `small-world' networks, \\emph{Nature}, \\textbf{393}:440--442 (1998).\n",
        "\\item A. L. Barab\\'asi and R. Albert, Emergence of scaling in random networks, \\emph{Science}, \\textbf{286}(5439):509--512 (1999).\n",
        "\\end{enumerate}\n"
      ]
    }
  ]
}