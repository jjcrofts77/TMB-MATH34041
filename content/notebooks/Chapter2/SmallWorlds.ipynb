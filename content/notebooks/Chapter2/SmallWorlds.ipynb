{
  "nbformat": 4,
  "nbformat_minor": 0,
  "metadata": {
    "colab": {
      "name": "SmallWorlds.ipynb",
      "provenance": [],
      "authorship_tag": "ABX9TyOw8MJLBKlwnGRLMP8DlhLe",
      "include_colab_link": true
    },
    "kernelspec": {
      "name": "python3",
      "display_name": "Python 3"
    },
    "language_info": {
      "name": "python"
    }
  },
  "cells": [
    {
      "cell_type": "markdown",
      "metadata": {
        "id": "view-in-github",
        "colab_type": "text"
      },
      "source": [
        "<a href=\"https://colab.research.google.com/github/jjcrofts77/TMB-MATH34041/blob/main/content/notebooks/Chapter2/SmallWorlds.ipynb\" target=\"_parent\"><img src=\"https://colab.research.google.com/assets/colab-badge.svg\" alt=\"Open In Colab\"/></a>"
      ]
    },
    {
      "cell_type": "markdown",
      "metadata": {
        "id": "SJKbhHvCCIqf"
      },
      "source": [
        "# 2.2 Small-Worlds\n",
        "\n",
        "\\subsubsection{Milgram's experiment}\n",
        "In 1967 Stanley Milgram, a famous social psychologist, conducted an experiment that provided the first evidence of the so-called small-world phenomenon. In this famous experiment, the motivation of which was to measure distances within acquaintance networks in the United States, Milgram posed the following question: how many intermediate links separate two randomly selected individuals? To answer this question, Milgram selected at random a large number of individuals living in Omaha, Nebraska, and sent them each a letter instructing them to forward it to a randomly selected individual in Boston, Massachusetts, subject to the following rules:\n",
        "\\begin{enumerate}\n",
        " \\item if you know the target person by name then forward it immediately;\n",
        " \\item else mail the letter plus instructions to a person whom you know by first name\n",
        "and who is more likely to know the target person.\n",
        "\\end{enumerate}\n",
        "Surprisingly, it was found that of those letters that reached the target, the average\n",
        "number of links was $\\langle l\\rangle = 5.5$. This result is well-known as the `six degrees of separation'\\footnote{The `Kevin Bacon game' and its spin-offs are popular amongst maths/science students (apparently) who struggle to fill their evenings -- Kevin's also getting a freebie by exploiting network science in his EE commercials!}.\n",
        "\n",
        "The importance of this result follows from its apparent ubiquity throughout a large number of networked systems, all of which exhibit a remarkably small characteristic path-length relative to system size. In this course, we shall say that a network whose average path-length scales as\n",
        "\\[\n",
        "\\langle l\\rangle \\propto \\ln{n}\n",
        "\\]\n",
        "is a \\emph{small-world network}. Note that in practice such networks also exhibit increased clustering and so it is common in the literature to refer to networks with short characteristic path-lengths \\emph{and} high levels of clustering as being small-world like -- of course our definition includes such networks.\n",
        "\n",
        "\\begin{figure}\n",
        "\\centering{\n",
        "\\subfigure[$p=0.0$]{\n",
        "\\includegraphics[width=0.25\\textwidth]{Figures/smallworld_p0.pdf}\n",
        "}\n",
        "\\hfill\n",
        "\\subfigure[$p=0.5$]{\n",
        "\\includegraphics[width=0.25\\textwidth]{Figures/smallworld_p05.pdf}\n",
        "}\n",
        "\\hfill\n",
        "\\subfigure[$p=1.0$]{\n",
        "\\includegraphics[width=0.25\\textwidth]{Figures/smallworld_p1.pdf}\n",
        "}\n",
        "\\caption{Example of the WS model for a network with $n=20$: (a) for $p=0$ we obtain a 1-d ring lattice; (b) for intermediate $p$ we obtain a `small-world' network high in clustering and with a low characteristic path-length; (c) For $p=1$ we obtain an ER random network.} \\label{fig:WSexamples}\n",
        "}\n",
        "\\end{figure}\n",
        "\n",
        "\\subsubsection{Watts-Strogatz model}\n",
        "The above discussion leads naturally to a certain group of real-world networks that are classifed by the presence of two important structural properties: (i) small average path-length and (ii) a large clustering coefficient. Classical random graphs display a very small average path-length, however, they exhibit extremely low levels of clustering, making them poor models of such systems. At the other extreme are regular, lattice like graphs, which display very high levels of clustering but relatively large average path-lengths.\n",
        "\n",
        "The idea behind the Wattts-Strogatz model was to introduce a new random network model that admits both of these two desired properties simultaneously. Starting with a $k$-regular lattice on $n$ nodes (e.g. a ring in 1-d; see Figure \\ref{fig:WSexamples}(a)) each edge is rewired (or new edges added depending upon the algorithm) with probability $p$ such that each node is reconnected with another randomly chosen node -- see Figure \\ref{fig:WSexamples} for an illustration. For small values of p this process has very little effect on network clustering (recall we start off with a lattice ($p=0$)), however, the addition of these random `short-cuts' has a non-linear effect on $\\langle l\\rangle$ since it affects not only the nearest neighbour structure, but also the second neighbours, third neighbours and so on. The result is a random graph model with both the small-world property and a high clustering coefficient. For large values of $p\\approx 1$ we obtain a classical random graph.\n",
        "\n",
        "Important properties of the WS model include\n",
        "\\begin{enumerate}\n",
        " \\item The average clustering coefficient is given by $$\\langle C\\rangle \\approx \\frac{3(k-2)}{4(k-1)}(1-p)^3$$ where $k$ is the degree of the lattice before rewiring and $p$ the probability that an edge is rewired. For large values of $k$, $\\langle C \\rangle$ approaches $0.75$.\n",
        " \\item The average path length decays very fast from that of the original $k$-regular network,\n",
        " \\[\n",
        "  \\langle l\\rangle \\approx \\frac{(n-1)(n+k-1)}{2kn}\n",
        " \\]\n",
        " approaching that of an ER random graph.\n",
        "\\end{enumerate}\n",
        "\n",
        "%\\bigskip\n",
        "%\\noindent\\textbf{Exercise:} Prove that $\\langle C\\rangle = 0.75$ as $k\\to\\infty$ in the WS model."
      ]
    }
  ]
}