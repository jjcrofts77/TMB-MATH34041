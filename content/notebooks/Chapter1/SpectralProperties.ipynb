{
  "nbformat": 4,
  "nbformat_minor": 0,
  "metadata": {
    "colab": {
      "name": "SpectralProperties.ipynb",
      "provenance": [],
      "authorship_tag": "ABX9TyNlfbvzoX9+flOEA4Eic+JG",
      "include_colab_link": true
    },
    "kernelspec": {
      "name": "python3",
      "display_name": "Python 3"
    },
    "language_info": {
      "name": "python"
    }
  },
  "cells": [
    {
      "cell_type": "markdown",
      "metadata": {
        "id": "view-in-github",
        "colab_type": "text"
      },
      "source": [
        "<a href=\"https://colab.research.google.com/github/jjcrofts77/TMB-MATH34041/blob/main/content/notebooks/Chapter1/SpectralProperties.ipynb\" target=\"_parent\"><img src=\"https://colab.research.google.com/assets/colab-badge.svg\" alt=\"Open In Colab\"/></a>"
      ]
    },
    {
      "cell_type": "markdown",
      "metadata": {
        "id": "daX9HJwbMmPp"
      },
      "source": [
        "# 1.3 Spectral Properties of Networks\n",
        "\n",
        "The spectrum of a network will refer to the spectrum of the adjacency matrix in this course. Importantly, the spectrum is what is known as a `graph invariant', in that it does not depend upon how the network is labelled. To see this, let $P$ denote a permutation matrix - relabelling the nodes is equivalent to permuting the rows and columns of the adjacency matrix - then we have that\n",
        "\\[\n",
        " \\det{(PAP^T-\\lambda I)} = \\det{(P(A-\\lambda I)P^T)} = \\det{(A-\\lambda I)}\\det{(P)}\\det{(P^T)},\n",
        "\\]\n",
        "and so the roots of the characteristic polynomial are unchanged by a permutation of the rows and columns. In network theory, we write the spectrum of a network $N$ with characteristic polynomial \n",
        "\\[\n",
        " \\chi_N(t) = (t-\\lambda_1)^{p_1}(t-\\lambda_2)^{p_2}\\cdots (t-\\lambda_k)^{p_k},\n",
        "\\]\n",
        "where $p_1,\\ldots,p_k$ denote the algebraic multiplicities of the eigenvalues, as \n",
        "\\[\n",
        " \\sigma(N) = \\{[\\lambda_1]^{p_1}, [\\lambda_2]^{p_2}, \\ldots, [\\lambda_k]^{p_k}\\}.\n",
        "\\]\n",
        "An important theorem from linear algebra that provides crucial information about the spectrum of a network is the \\emph{Perron-Frobenius Theorem}. However, before stating the theorem we need to define what it means for a matrix to be irreducible.\n",
        "\n",
        "\n",
        "\\begin{definition}\n",
        "A square matrix with non-negative entries $a_{ij}\\geq 0$ is called irreducible if for all pair of indices $(i,j)$ there exists a value of $k(i,j)$ such that $(A^k)_{ij}>0$.\n",
        "\\end{definition}\n",
        "\n",
        "\\noindent In terms of the network, the above definition says that if the network adjacency matrix is irreducible then at least one path of length $k(i,j)$ exists between any node pair $(i, j)$, and thus the network consists of a single, strongly connected component.\n",
        "\n",
        "\\begin{theorem}\n",
        " Let $A\\in\\mathbb{R}^{n\\times n}$ be irreducible. Then the Perron-Frobenius theorem states that:\n",
        " \\begin{enumerate}\n",
        "  \\item $A$ has a real, positive eigenvalue $\\lambda_1$ such that all other eigenvalues $\\lambda_i$ with $i=2,3,\\ldots, n$ satisfy $\\lambda_1\\geq|\\lambda_i|$.\n",
        "  \\item The eigenvalue $\\lambda_1$ has algebraic and geometric multiplicity equal to 1 and has an eigenvector $\\mathbf{x}$ with all positive entries, i.e. $x_i>0$ $\\forall i$. \n",
        " \\end{enumerate}\n",
        "\\end{theorem}\n",
        "\n",
        "\\bigskip\n",
        "\\noindent\\textbf{Remarks:} (1) the eigenvalue $\\lambda_1$ is often referred to as the \\emph{Perron-Frobenius eigenvalue}. (2) It follows that if $A$ is the adjacency matrix of a network consisting of a single, strongly connected component then \n",
        "\\begin{itemize}\n",
        " \\item $A$ has a real positive eigenvalue $\\lambda_1$ such that $\\rho(A)=\\lambda_1$ -- here $\\rho(A)$ denotes the spectral radius of the matrix $A$.\n",
        " \\item The corresponding eigenvector is positive - this will be extremely useful later on when considering so-called centrality measures. \n",
        "\\end{itemize}\n",
        "\\bigskip\n",
        "\n",
        "We can use the spectrum of a network to count closed walks. To see this, recall the following basic results from linear algebra:\n",
        "\\[\n",
        " \\mathrm{trace}(A) = \\sum_{i=1}^n\\lambda_i \\qquad\\text{and}\\qquad \\det{(A)} = \\lambda_1\\cdot\\lambda_2\\cdots \\lambda_n.\n",
        "\\]\n",
        "A straightforward generalisation of the above gives\n",
        "\\[\n",
        " \\mathrm{trace}(A^k) = \\sum_{i=1}^n{\\lambda^k},\n",
        "\\]\n",
        "that is\n",
        "\\[\n",
        "(A^k)_{11} + (A^k)_{22} + \\cdots (A^k)_{nn} = \\lambda_1^k + \\lambda_2^k + \\cdots \\lambda_n^k.\n",
        "\\]\n",
        "Above, each term on the left counts the number of closed walks of length $k$; we can use this fact as an alternative way of counting edges and triangles (as well as longer closed walks) in a network, and even to compute network measures such as the clustering coefficient -- an idea that is further explored in the problem sheets.\n",
        "\n",
        "Suppose that $N$ is a connected $k$-regular ($k_i = k$ $\\forall i$) network with $n$ nodes and that its adjacency matrix has only 4 distinct eigenvalues\n",
        "\\[\n",
        " \\lambda_1>\\lambda_2>\\lambda_3>\\lambda_4,\n",
        "\\]\n",
        "such that\n",
        "\\[\n",
        " \\sigma(N) = \\{[\\lambda_1]^{p_1}, [\\lambda_2]^{p_2}, [\\lambda_3]^{p_3}, [\\lambda_4]^{p_4}\\}.\n",
        "\\]\n",
        "Since $N$ is connected, $p_1=1$ (by PF theorem) and since $\\sum p_i = n$ (the algebraic multiplicities always sum to $n$) we get\n",
        "\\[\n",
        " 1 + p_1 + p_2 + p_3 + p_4 = n.\n",
        "\\]\n",
        "Now it can be shown (using the Gershgorin Circle Theorem) that the eigenvalues of the adjacency matrix, $A$, for a $k$-regular network satisfy the bound $|\\lambda_i|<k$ $\\forall i$, and since $A\\mathbf{1} = k\\mathbf{1}$ it follows that $\\lambda_1 = k$ (why?).\n",
        "\n",
        "Since the sum of the eigenvalues is zero ($\\mathrm{trace(A)}=0$) \n",
        "\\[\n",
        " k + p_2\\lambda_2+p_3\\lambda_3+p_4\\lambda_4 = 0.\n",
        "\\]\n",
        "Similarly,\n",
        "\\[\n",
        " k^2+p_2\\lambda_2^2+p_3\\lambda_3^2+p_4\\lambda_4^2 = \\mathrm{trace(A^2)} = nk,\n",
        "\\]\n",
        "since $\\mathrm{trace(A^2)}$ counts twice the number of edges of the network $N$.\n",
        "\n",
        "\\bigskip\n",
        "\\noindent\\textbf{Exercise:} Show that the number of triangles, $t$, for the network $N$ given above, is\n",
        "\\[\n",
        " t = \\frac{1}{6}(k^3+p_2\\lambda_2^3+p_3\\lambda_3^3+p_4\\lambda_4^3) \\quad\\left(= \\frac{1}{6}\\mathrm{trace}(A^3)\\right).\n",
        "\\]"
      ]
    }
  ]
}