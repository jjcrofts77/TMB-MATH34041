{
  "nbformat": 4,
  "nbformat_minor": 0,
  "metadata": {
    "colab": {
      "name": "Chapter1Intro.ipynb",
      "provenance": [],
      "authorship_tag": "ABX9TyML57/ECrM5T284iahgQ3KF",
      "include_colab_link": true
    },
    "kernelspec": {
      "name": "python3",
      "display_name": "Python 3"
    },
    "language_info": {
      "name": "python"
    }
  },
  "cells": [
    {
      "cell_type": "markdown",
      "metadata": {
        "id": "view-in-github",
        "colab_type": "text"
      },
      "source": [
        "<a href=\"https://colab.research.google.com/github/jjcrofts77/TMB-MATH34041/blob/main/content/notebooks/Chapter1/Chapter1Intro.ipynb\" target=\"_parent\"><img src=\"https://colab.research.google.com/assets/colab-badge.svg\" alt=\"Open In Colab\"/></a>"
      ]
    },
    {
      "cell_type": "markdown",
      "source": [
        "# Chapter 1 Introduction and Basic Concepts\n",
        "\n",
        "Many systems in biology consist of a large number of similar entities (or units) that interact, or connect/communicate, in some way. These interactions can take a very general form, for example, they might describe a physical connection, such as an axonal connection between two neurons in the brain (see {numref}`celegans` for an example of a 'structural' neural network in the case of the round worm *Caenorhabditis elegans*), or they could equally describe a similarity in behaviour between different units. Sticking with our example from neuroscience, we might consider neurons that 'behave' in a similar way to be connected; neurons communicate by firing electrical signals, if two such neurons fire signals at the same time, rate *etc*., then it is likely that they are involved in similar neural processes. The resulting  network is called a `functional' brain network. Whilst related to the idea of structural connectivity described above this functional network clearly describes something very different. We shall consider these differences in more detail later on in  the course.\n",
        "\n",
        "```{figure} ../../images/Celegans.png\n",
        "---\n",
        "height: 450px\n",
        "name: celegans\n",
        "---\n",
        "Neuronal network of the tiny roundworm *C. elegans*. Here nodes represent neurons and links are placed between nodes that are physically connected.\n",
        "```\n",
        "\n",
        "Other important examples of biological networks include cellular networks, such as protein-protein interaction networks, metabolic networks and gene regulatory networks, all of which consist of a large number of interacting molecules. Metabolic networks are closely related to the chemical reaction networks that were studied in the first half of the course. Here, nodes represent molecules and we connect two molecules if they are present within the same chemical reaction.  Protien-protein interaction networks consist of large numbers of proteins, with a connection being placed between two proteins if they physically bind. Finally, gene regulatory networks consist of a set of genes, with `directed' connectivity  between two genes if one gene regulates the production of the other. Importantly, by studying the structure of these networks we can gain a better understanding of the biological systems they represent, and in some cases even predict the behaviour of the underlying system. For example, chemists have employed graph theory to study the structural form of chemical compounds for many years now, and in fact, such techniques have crossed over to many areas of molecular sciences, including drug discovery.\n",
        "\n",
        "Network science describes the study of networks that occur across many different disciplines, not just biology. Historically, biologists have considered  organs and cells in isolation, but it is becoming increasingly evident that it is the interactions between these systems that defines their behaviour; a neuron in isolation is next to useless, however, couple together (*i.e*. connect) several million/billion of them and we obtain conciousness, action and cognition! One of the reasons biology has benefited so greatly from this new approach (the area is a little over 20 years old - consider this against most of the maths you are taught at undergraduate which is 100 years plus) is the recent advances in technology that enable us to measure in great detail a large range of sub-cellular processes. The result of this data deluge, is a `new biology' that requires a more quantitative approach than has traditionally been the case, and thus mathematicians are ideally placed to take advantage of these opportunities and thus make significant contributions to the many outstanding challenges within the area. To quote the mathematician [Joel E. Cohen]((http://www.rockefeller.edu/research/faculty/labheads/JoelCohen/)) ``Mathematics is biologies next microscope, only better''.\n",
        "\n",
        "----"
      ],
      "metadata": {
        "id": "R_tWZVBT5Ka1"
      }
    }
  ]
}