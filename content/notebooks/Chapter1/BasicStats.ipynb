{
  "nbformat": 4,
  "nbformat_minor": 0,
  "metadata": {
    "colab": {
      "name": "BasicStats.ipynb",
      "provenance": [],
      "authorship_tag": "ABX9TyMQyfaIKHb2Gpd6zMMJx9rF",
      "include_colab_link": true
    },
    "kernelspec": {
      "name": "python3",
      "display_name": "Python 3"
    },
    "language_info": {
      "name": "python"
    }
  },
  "cells": [
    {
      "cell_type": "markdown",
      "metadata": {
        "id": "view-in-github",
        "colab_type": "text"
      },
      "source": [
        "<a href=\"https://colab.research.google.com/github/jjcrofts77/TMB-MATH34041/blob/main/content/notebooks/Chapter1/BasicStats.ipynb\" target=\"_parent\"><img src=\"https://colab.research.google.com/assets/colab-badge.svg\" alt=\"Open In Colab\"/></a>"
      ]
    },
    {
      "cell_type": "markdown",
      "metadata": {
        "id": "pSYj6K-zBLJ9"
      },
      "source": [
        "# 1.2 Basic Statistics\n",
        "\n",
        "In this section we shall describe a number of basic network measures that allow us to characterize one or several aspects of *local* and/or *global* network architecture. \n",
        "\n",
        "To illustrate the the main concepts we shall use the networks introduced in the previous section and shown below in Figure {numref}`FigExample111`.\n",
        "\n",
        "```{figure} ../../images/NetworkExamples111.png\n",
        "---\n",
        "height: 350px\n",
        "name: FigExample111\n",
        "---\n",
        "Example of undirected and directed networks \n",
        "``` \n",
        "\n",
        "## Degree, strength and their distributions\n",
        "\n",
        "Given an undirected network the *degree* of a node is simply the number of edges incident to it. For example, nodes 1 and 4 in the network of Figure {numref}`FigExample111`(a) have degree 2 and 4 respectively. This idea naturally generalises to the degree sequence of a network, which is simply the vector of degrees\n",
        "\n",
        "$$\n",
        " \\mathbf{k} = [k_1, k_2,\\ldots,k_n].\n",
        "$$\n",
        "\n",
        "Here, $k_i$ gives the degree of node $i$ and so for the example network of Figure {numref}`FigExample111`(a) we have that the degree sequence is given by\n",
        "\n",
        "$$\n",
        "\\mathbf{k} = [2, 2, 2, 4, 2].\n",
        "$$\n",
        "\n",
        "In terms of the adjacency matrix the degree of a node is simply\n",
        "\n",
        "$$\n",
        " k_i = \\sum_{j=1}^n a_{ij}.\n",
        "$$ (degree)\n",
        "\n",
        "Using the result in Equation {eq}`degree` we can work out the *mean degree* of a network as follows:\n",
        "\n",
        "$$\n",
        " \\langle k\\rangle &= \\frac{1}{n}\\sum_{i=1}^n k_i\\\\\n",
        " &=  \\frac{1}{n}\\sum_{i=1}^n\\sum_{j=1}^n a_{ij}\\\\\n",
        " &= \\frac{2m}{n}.\n",
        "$$\n",
        "\n",
        "The last line follows by noting that the sum over all entries of the adjacency matrix is equal to twice the number of edges (here we assume our network is undirected and unweighted).\n",
        "\n",
        "A related and useful quantity is the *density* of a network. The density tells us what proportion of a networks edges are present and is given by\n",
        "\n",
        "$$\n",
        " \\rho &= \\frac{\\text{Number of edges}}{\\text{Possible number of edges}}\\\\\n",
        " &= \\frac{m}{n(n-1)/2} = \\frac{2m}{n(n-1)}\\\\ &= \\frac{\\langle k\\rangle}{n-1}.\n",
        "$$ (densitydenom)\n",
        "\n",
        "The denominator in Equation {eq}`densitydenom` is obtained by comparing against the *complete graph*, or network, i.e. a network for which all edges are present. Such a network has a degree sequence given by $[n-1,n-1,\\ldots,n-1]$ and so has $n(n-1)/2$ edges in total (**Qn:** where does the factor of two come from in the above calculations?).  Most real-world networks, and particularly biological ones, have `low' density scores; we call such networks *sparse*. Alternatively, we say that a network is *dense* if it is not sparse.\n",
        "\n",
        "All of the above can be naturally extended when considering either directed and/or weighted networks. For example, in the case of a directed network we consider an in- and out-degree for each node, such that the in-degree counts the number of incoming edges and the out-degree the number of out-going edges.\n",
        "\n",
        "$$\n",
        " k_j^\\mathrm{in} = \\sum_{i=1}^n a_{ij} \\quad \\text{and} \\quad k_i^\\mathrm{out} = \\sum_{j=1}^n a_{ij}.\n",
        "$$\n",
        "\n",
        "In- and out-degree sequences are then defined as above. Note that in this case the mean degrees are equal, differing from the undirected case by a factor of two:\n",
        "\n",
        "$$\n",
        "\\langle k^\\mathrm{in}\\rangle = \\frac{1}{n}\\sum_{i=1}^n k_i^\\mathrm{in} = \\frac{1}{n}\\sum_{i=1}^n k_i^\\mathrm{out} = \\langle k^\\mathrm{out}\\rangle = \\frac{m}{n}.\n",
        "$$\n",
        "\n",
        "For a weighted network the *strength* of a node replaces the idea of degree, and is simply the sum of the weights of all incident edges\n",
        "\n",
        "$$\n",
        " s_i = \\sum_{j=1}^n w_{ij}.\n",
        "$$\n",
        "\n",
        "Again, we could have an in- and out-strength if we were to consider a directed, weighted network.\n",
        "\n",
        "A related quantity to the degree sequence of a network is the *degree distribution*, $\\{p_k\\}$. Given a network, $p_k$ is defined as the probability that a randomly selected node has degree $k$. For the example network in Figure {numref}`FigExample111`(a), the degree distribution is given by \n",
        "\n",
        "$$\n",
        "p_0 = 0,~ p_1 = \\frac{0}{5},~ p_2 = \\frac{4}{5},~ p_3 = \\frac{0}{5},~ p_4 = \\frac{1}{5},~ p_k = 0, \\text{ for } k\\geq 5.\n",
        "$$\n",
        "\n",
        "Note that since $\\{p_k\\}$ represents a probability distribution $\\displaystyle\\sum_{k=0}^\\infty p_k = 1$. The degree distribution for the network in Figure {}``(a) is shown below along with the python code used to create it."
      ]
    },
    {
      "cell_type": "code",
      "source": [
        "# degree distribution\n",
        "import networkx as nx\n",
        "import numpy as np\n",
        "import matplotlib.pyplot as plt\n",
        "\n",
        "# construct network\n",
        "N = nx.Graph()\n",
        "edges = [(1,2),(1,4),(2,4),(3,4),(3,5),(4,5)]\n",
        "N.add_edges_from(edges)\n",
        "\n",
        "degree_sequence = sorted((d for n, d in N.degree()), reverse=True)\n",
        "dmax = max(degree_sequence)\n",
        "\n",
        "fig = plt.figure(\"Degree of a the undirected network in Figure 1\", figsize=(8, 8))\n",
        "# Create a gridspec for adding subplots of different sizes\n",
        "#axgrid = fig.add_gridspec(5, 4)\n",
        "\n",
        "ax1 = fig.add_subplot(axgrid[3:, 2:])\n",
        "ax1.bar(*np.unique(degree_sequence, return_counts=True))\n",
        "ax1.set_title(\"Degree histogram\")\n",
        "ax1.set_xlabel(\"Degree\")\n",
        "ax1.set_ylabel(\"# of Nodes\")\n",
        "\n",
        "ax2 = fig.add_subplot(axgrid[3:, :2])\n",
        "ax2.plot(degree_sequence, \"b-\", marker=\"o\")\n",
        "ax2.set_title(\"Degree Rank Plot\")\n",
        "ax2.set_ylabel(\"Degree\")\n",
        "ax2.set_xlabel(\"Rank\")\n",
        "\n",
        "fig.tight_layout()\n",
        "plt.show()\n",
        "print(\"Note:\")\n",
        "print(\"1. The plots above show a ranking of the nodes (LHS) and the degree disribution (RHS) for Figure 1(a)\")\n",
        "print(\"2. We should divide each bar by |V| to obtain a probability distribution\")"
      ],
      "metadata": {
        "colab": {
          "base_uri": "https://localhost:8080/",
          "height": 323
        },
        "id": "eeSrci-q5yI3",
        "outputId": "bbf538cd-87b1-40e2-96a9-16c6728bf3a4"
      },
      "execution_count": 17,
      "outputs": [
        {
          "output_type": "display_data",
          "data": {
            "text/plain": [
              "<Figure size 576x576 with 2 Axes>"
            ],
            "image/png": "[encoded data removed]"
          },
          "metadata": {
            "needs_background": "light"
          }
        },
        {
          "output_type": "stream",
          "name": "stdout",
          "text": [
            "Note:\n",
            "1. The plots above show a ranking of the nodes (LHS) and the degree disribution (RHS) for Figure 1(a)\n",
            "2. We should divide each bar by |V| to obtain a probability distribution\n"
          ]
        }
      ]
    },
    {
      "cell_type": "markdown",
      "source": [
        "In the above example the distribution is obtained via empirical data, however, a degree distribution can also be given directly by a formula, that is by a probability distribution such as the binomial or Poisson distribution.\n",
        "\n",
        "```{figure} ../../images/DegDistCelegans.png\n",
        "---\n",
        "height: 350px\n",
        "name: FigExample121\n",
        "---\n",
        "Degree distribution for the neuronal network of *C. elegans*\n",
        "``` \n",
        "\n",
        "Many real-world networks have so-called *heavy-tailed degree distributions* which are skewed such that extreme events become more likely. Figure {numref}`FigExample121` shows a plot of the degree distribution for the neuronal network of *C. elegans* displayed in Figure {numref}`FigExample121`. Note that the distribution is not normalised and so strictly speaking is not a probability distribution. Distributions such as that in Figure {numref}`FigExample121` are often termed *power-law distributions* since they approximately follow a power law of the form\n",
        "\n",
        "$$\n",
        " p_k = Ck^{-\\alpha},\n",
        "$$\n",
        "\n",
        "with $C$ a normalising constant and $\\alpha$ the exponent of the power law. \n",
        "\n",
        "For us, the most important properties of power law distributions are the following:\n",
        "\n",
        " 1. if you plot $p_k = Ck^{-\\alpha}$ on a doubly logarithmic scale then the result is a straight line with slope $\\alpha$ (this is a useful, but non-rigorous, way of spotting a power law distribution);\n",
        "\n",
        " 2. in the network literature power law distributions are frequently referred to as being *scale-free*; this is due to the fact the effect of scaling the degree by a constant factor $b$ produces only a proportionate scaling of the function, i.e.\n",
        "\n",
        "$$\n",
        "C\\left(bk\\right)^{-\\alpha} = Cb^{-\\alpha} k^{-\\alpha};\n",
        "$$\n",
        " 3. it is often convenient to consider the *cumulative degree distribution*\n",
        "\n",
        " $$\n",
        "  P_k = \\sum_{k'=k}^\\infty p_{k'} ,  \n",
        " $$ (cumPL)\n",
        "\n",
        " that is the fraction of nodes with degree greater than or equal to $k$. Suppose that $p_k = Ck^{-\\alpha}$ then we can formulate an analytic approximation of Equation {eq}`cumPL` as follows:\n",
        "\n",
        " $$\n",
        "  P_k &= C\\sum_{k'=k}^\\infty \\left(k'\\right)^{-\\alpha} \\approx C\\int_k^\\infty \\left(k'\\right)^{-\\alpha}dk' \\\\\n",
        "         &= \\frac{-C}{1-\\alpha}k^{1-\\alpha};\n",
        " $$\n",
        "\n",
        " $\\alpha$ determines which moments of the distribution converge (i.e. how heavy the tail is).\n",
        "\n",
        "We shall consider a number of real-world networks that display power law distributions later on in the course."
      ],
      "metadata": {
        "id": "K-M44T3L5yV9"
      }
    }
  ]
}