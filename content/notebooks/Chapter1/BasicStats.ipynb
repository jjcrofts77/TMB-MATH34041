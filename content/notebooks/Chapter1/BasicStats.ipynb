{
  "nbformat": 4,
  "nbformat_minor": 0,
  "metadata": {
    "colab": {
      "name": "BasicStats.ipynb",
      "provenance": [],
      "authorship_tag": "ABX9TyPSbYvvBjeKAAv96qlKhjpa",
      "include_colab_link": true
    },
    "kernelspec": {
      "name": "python3",
      "display_name": "Python 3"
    },
    "language_info": {
      "name": "python"
    }
  },
  "cells": [
    {
      "cell_type": "markdown",
      "metadata": {
        "id": "view-in-github",
        "colab_type": "text"
      },
      "source": [
        "<a href=\"https://colab.research.google.com/github/jjcrofts77/TMB-MATH34041/blob/main/content/notebooks/Chapter1/BasicStats.ipynb\" target=\"_parent\"><img src=\"https://colab.research.google.com/assets/colab-badge.svg\" alt=\"Open In Colab\"/></a>"
      ]
    },
    {
      "cell_type": "markdown",
      "metadata": {
        "id": "pSYj6K-zBLJ9"
      },
      "source": [
        "# 1.2 Basic Statistics\n",
        "\n",
        "In this section we shall describe a number of basic network measures that allow us to characterize one or several aspects of *local* and/or *global* network architecture.\n",
        "\n",
        "## Degree, strength and their distributions\n",
        "\n",
        "Given an undirected network the \\emph{degree} of a node is simply the number of edges incident to it. For example, nodes 1 and 4 in the network of Figure \\ref{numref}`FigExample111`(a) have degree 2 and 4 respectively. This idea naturally generalises to the degree sequence of a network, which is simply the vector of degrees\n",
        "\n"
      ]
    }
  ]
}