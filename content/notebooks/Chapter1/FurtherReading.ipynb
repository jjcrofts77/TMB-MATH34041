{
  "nbformat": 4,
  "nbformat_minor": 0,
  "metadata": {
    "colab": {
      "name": "FurtherReading.ipynb",
      "provenance": [],
      "authorship_tag": "ABX9TyNEMeaCVbniu7g72WhcIK0r",
      "include_colab_link": true
    },
    "kernelspec": {
      "name": "python3",
      "display_name": "Python 3"
    },
    "language_info": {
      "name": "python"
    }
  },
  "cells": [
    {
      "cell_type": "markdown",
      "metadata": {
        "id": "view-in-github",
        "colab_type": "text"
      },
      "source": [
        "<a href=\"https://colab.research.google.com/github/jjcrofts77/TMB-MATH34041/blob/main/content/notebooks/Chapter1/FurtherReading.ipynb\" target=\"_parent\"><img src=\"https://colab.research.google.com/assets/colab-badge.svg\" alt=\"Open In Colab\"/></a>"
      ]
    },
    {
      "cell_type": "markdown",
      "metadata": {
        "id": "wCT1AFT6Bp_u"
      },
      "source": [
        "# 1.4 Further Reading\n",
        "\n",
        "After reading this section the reader will have a basic understanding of some of the mathematical prerequisites (i.e. graph theory) necessary to start studying the complex networks that arise in biology. However, due to time constraints many details have been omitted, for example, how does one go about computing the aforementioned metrics on the typically very large networks that result from biology? Clearly we can't perform matrix multiplications on a network with a million nodes! For this reason I have highlighted a number of books, papers and software packages below, that allows the interested reader (all of you!) to further explore this fascinating topic.\n",
        "\n",
        "\\\n",
        "\n",
        "**Books and review articles:**\n",
        "\n",
        "1. E. Estrada, \\textit{The Structure of Complex Networks}, Oxford University Press, 2011.\n",
        "\n",
        "2. M. E. J. Newman, \\textit{Networks: an introduction}, Oxford University Press, 2010.\n",
        "\n",
        "3. L. da F. Costa \\textit{et al.}, Characterisation of complex networks: a survey of measurements. \\emph{Advances in Physics} \\textbf{56}(1):167--242 (2007).\n",
        "\n",
        "4. M. Buchanan \\textit{et al.}, \\textit{Networks in Cell Biology},\n",
        "\n",
        "5. A. L. Barab\\'asi and Z. N. Oltvai, Network biology: understanding the cells functional organisation, \\emph{Nature Review Genetics}, \\textbf{5}(2):101--113 (2004).\n",
        "\n",
        "6. O. Sporns, \\textit{Networks of the Brain}, MIT Press, 2010.\n",
        "\n",
        "7. M. Kaiser, A tutorial in connectome analysis: topological and spatial features of brain networks. \\emph{NeuroImage} \\textbf{57}:982--907 (2011).\n",
        "\n",
        "\\\n",
        "\n",
        "**Popular Books:**\n",
        "\n",
        "1. D. J. Watts, \\textit{Six Degrees: The Science of a Connected Age}, W. W. Norton and Company, 2003.\n",
        "\n",
        "2. A. L. Bar\\'abasi, \\textit{Linked: The New Science of Networks}, Perseus, Cambridge, MA, 2002.\n",
        "\n",
        "\\\n",
        "\n",
        "**Open source network analysis and visualisation software:**\n",
        "\n",
        "1. Brain Connectivity Toolbox (BCT): is a MATLAB toolbox for complex-network analysis of structural and functional brain-connectivity data sets.\n",
        "\n",
        "2. MatlabBGL: a Matlab package for working with networks/graphs. It uses the Boost Graph Library to efficiently implement the graph algorithms.  MatlabBGL is designed to work with large sparse graphs with hundreds of thousands of nodes.\n",
        "\n",
        "3. Gephi: is a visualization and exploration software for all kinds of graphs and networks.\n",
        "\n",
        "4. Noedxl: is a free, open-source template for Microsoft Excel 2007, 2010, 2013 and 2016 that makes it easy to explore network graphs.\n"
      ]
    }
  ]
}