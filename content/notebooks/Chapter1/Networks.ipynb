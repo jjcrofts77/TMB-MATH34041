{
  "nbformat": 4,
  "nbformat_minor": 0,
  "metadata": {
    "colab": {
      "name": "IBVP.ipynb",
      "provenance": [],
      "include_colab_link": true
    },
    "kernelspec": {
      "name": "python3",
      "display_name": "Python 3"
    },
    "language_info": {
      "name": "python"
    }
  },
  "cells": [
    {
      "cell_type": "markdown",
      "metadata": {
        "id": "view-in-github",
        "colab_type": "text"
      },
      "source": [
        "<a href=\"https://colab.research.google.com/github/jjcrofts77/Advanced-Calculus-MATH20471/blob/main/content/notebooks/Part1/Chapter1/IBVP.ipynb\" target=\"_parent\"><img src=\"https://colab.research.google.com/assets/colab-badge.svg\" alt=\"Open In Colab\"/></a>"
      ]
    },
    {
      "cell_type": "markdown",
      "metadata": {
        "id": "wRE64k8Vrgri"
      },
      "source": [
        "# 1.1 Initial and Boundary Value Problems (IBVP)\n",
        "\n",
        "Consider a second-order ordinary differential equation (ODE)\n",
        " \n",
        "$$\n",
        "x'' = f(t,x,x') \n",
        "$$\n",
        "\n",
        "where $ x'=\\mathrm{d}x/\\mathrm{d}t $ and $ x''=\\mathrm{d}^2x/\\mathrm{d}t^2 $. The problem is to find $x(t)$ subject to appropriate additional information.\n",
        "\n",
        "Familiar examples of such equations include\n",
        "\n",
        "$$\n",
        " \\frac{\\mathrm{d}^2 x}{\\mathrm{d}t^2} &= \\sin{t}\\\\\n",
        " \\frac{\\mathrm{d}^2 x}{\\mathrm{d}t^2} &= -3\\frac{\\mathrm{d} x}{\\mathrm{d}t} - 2x \n",
        "$$\n",
        "\n",
        "## Initial-value problem (IVP)\n",
        "Suppose $x(0)$ and $x'(0)$ (or more generally $x(t_0)$ and $x'(t_0)$) are prescribed. Consider the second-order differential equation \n",
        "\n",
        "$$\n",
        "x''(t) = \\mu(1-x^2(t))x'(t) - x(t),\\quad t\\geq 0\n",
        "$$\n",
        "\n",
        "for a function $x(t)$, with initial data\n",
        "\n",
        "$$\n",
        " x(0) = x_0,~ x'(0) = \\nu_0.\n",
        "$$\n",
        "\n",
        "Here $\\mu, x_0, \\nu_0$ are constants. \n",
        "\n",
        "Because we specify sufficient conditions at an initial time $t=0$ ($t=t_0$) to fix the solution, this is called an *initial value problem* (IVP).\n",
        "\n",
        "Note that the example given above is the famed *Van der Pol equation*, which was originally proposed by the Dutch electrical engineer Balthasar \n",
        "van der Pol to model oscillations observed in certain types of electrical circuits. It is an example of a *nonlinear differential equation* and importantly does \n",
        "not admit an analytic solution. (It can however be analysed both numerically and by using the methods of dynamical systems -- see (take?) the third year module \n",
        "*Numerical Analysis and Dynamical Systems* for more details!)\n",
        "\n",
        "## Boundary value problem (BVP)\n",
        "Suppose $x(t)$ is defined on an interval $\\displaystyle [a, b]$ and $\\displaystyle x(a) = A$ and $\\displaystyle x(b) = B$ are prescribed. Consider, for example, the linear equation\n",
        "\n",
        "$$\n",
        "x''(t) = \\mu^2 x(t), ~~0 < t < 1,\\quad \\text{with}\\quad x(0) = A,~~ x(1) = B.\n",
        "$$\n",
        "\n",
        "Such equations are called *two-point boundary value problems*.\n",
        "\n",
        "In the simple case given above, we can solve in the usual way to obtain solutions\n",
        "\n",
        "$$\n",
        " x_1(t) = e^{\\mu t} \\quad\\text{and}\\quad x_2(t) = e^{-\\mu t}. \n",
        "$$\n",
        "\n",
        "Linearity then implies that the general solution is \n",
        "\n",
        "$$\n",
        "x(t) &= C_1x_1(t) + C_2x_2(t)\\\\\n",
        "&= C_1e^{\\mu t} + C_2e^{-\\mu t},\n",
        "$$ \n",
        "\n",
        "where $C_1$ and $C_2$ are constants. \n",
        "\n",
        "All that remains in order to solve our BVP is to determine for which values of $\\mu, C_1$ and $C_2$ the determined solution satisfies the boundary conditions. \n",
        "\n",
        "\n",
        "We shall return to this problem later on in the course, but it is worth noting that in general boundary value problems (BVPs) are much harder to solve than IVPs. (This follows due to their *global* as opposed to *local* nature.)\n",
        "\n",
        "<br>\n",
        "\n",
        "## Existence and uniquness\n",
        "Note that solutions may not exist, or if they exist they may not be unique.\n",
        "\n",
        "<br>\n",
        "\n",
        "- **IVP:** $\\displaystyle x''=6x^{1/3},~ x(0) = 0, x'(0)=0$ has solutions $x(t)=0$ and $\\displaystyle x(t)=t^3$ and so uniqueness breaks down.\n",
        "\n",
        "- **BVP1:** $\\displaystyle x''+x=0,~ x(0)=1, x(2\\pi)=0$ has no solution and so existence fails.\n",
        "\n",
        "- **BVP2:** $\\displaystyle x''+x=0,~ x(0)=x(2\\pi)=0$ has infinitely many solutions, $\\displaystyle x(t)=c\\sin{t}$, where $c$ is an arbitrary constant (non-uniqueness).\n"
      ]
    }
  ]
}
