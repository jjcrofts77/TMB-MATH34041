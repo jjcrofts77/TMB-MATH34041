{
  "nbformat": 4,
  "nbformat_minor": 0,
  "metadata": {
    "colab": {
      "name": "Untitled2.ipynb",
      "provenance": [],
      "authorship_tag": "ABX9TyNUp/JrY3aiwNX4uvmq/7w+",
      "include_colab_link": true
    },
    "kernelspec": {
      "name": "python3",
      "display_name": "Python 3"
    },
    "language_info": {
      "name": "python"
    }
  },
  "cells": [
    {
      "cell_type": "markdown",
      "metadata": {
        "id": "view-in-github",
        "colab_type": "text"
      },
      "source": [
        "<a href=\"https://colab.research.google.com/github/jjcrofts77/TMB-MATH34041/blob/main/content/notebooks/Chapter1/Network.ipynb\" target=\"_parent\"><img src=\"https://colab.research.google.com/assets/colab-badge.svg\" alt=\"Open In Colab\"/></a>"
      ]
    },
    {
      "cell_type": "markdown",
      "metadata": {
        "id": "CgwfzXwoA3vg"
      },
      "source": [
        "# 1.1 What are Networks?\n",
        "\n",
        "A network (or graph) is a set of nodes connected by links. Mathematically a network is represented by a pair $N = (V,E)$, such that $V = \\{v_1,v_2,\\ldots v_n\\}$ is a finite set of $n$ nodes and $E = \\{e_1,e_2,\\ldots e_m\\}$ the set of  $m$ edges representing links between node pairs. \n",
        "\n",
        "Given a network one may represent it in matrix form in a number of ways, the most popular of which is the *adjacency matrix* $A\\in\\mathbb{R}^{n\\times n}$ which is defined as\n",
        "\n",
        "$$\n",
        "a_{ij} = \\begin{cases}\n",
        "1& i\\sim j,\\\\\n",
        "0& \\text{otherwise.}\n",
        "\\end{cases}\n",
        "$$\n",
        "\n",
        "Here $i\\sim j$ denotes that nodes $i$ and $j$ are adjacent to each other (i.e. they are connected).\n",
        "\n",
        "```{note}\n",
        "The above describes an undirected network containing no self-loops (i.e. a node cannot be adjacent to itself) or multiple loops (i.e. at most one link exists between each pair of nodes). Such a network is termed a **simple network** and much of what we cover in this course is for this case -- see below for a few exceptions! \n",
        "```\n",
        "\n",
        "The size, or *order*, of the network is given by $|V| = n$.\n",
        "\n",
        "<br>\n",
        "\n",
        "**Example 1.1.1**  Consider the following network $N_1 = (V_1,E_1)$ where \n",
        "\n",
        "$$\n",
        " V_1 = \\{v_1,\\ldots, v_5\\} \\quad\\text{ and }\\quad E_1 = \\{(1,2),(1,4),(2,4),(3,4),(3,5),(4,5)\\}.\n",
        "$$\n",
        "\n",
        "The adjacency matrix of this network (see Figure \\ref{fig2:NetworkExamples}a) is given below:\n",
        "\n",
        "$$\n",
        "A = \\left(\n",
        "      \\begin{array}{ccccc}\n",
        "      0 & 1 & 0 &1 & 0\\\\\n",
        "      1 & 0 & 0 & 1 & 0\\\\\n",
        "      0 & 0 & 0 & 1 & 1\\\\\n",
        "      1 & 1 & 1 & 0 & 1\\\\\n",
        "      0 & 0 & 1 & 1 & 0\n",
        "      \\end{array}\n",
        "      \\right).\n",
        "$$\n",
        "\n",
        "Note that unless told otherwise it is assumed that $(i,j)\\in E$ implies $(j,i)\\in E$, that is we assume the network to be undirected.  An example of a directed network is shown in Figure \\ref{fig2:NetworkExamples}b; its adjacency matrix is given below\n",
        "\n",
        "$$\n",
        "A &= \\left(\n",
        "      \\begin{array}{ccccc}\n",
        "      0 & 1 & 0 &1 & 0\\\\\n",
        "      0 & 0 & 1 & 1 & 0\\\\\n",
        "      0 & 1 & 0 & 1 & 0\\\\\n",
        "      1 & 1 & 1 & 0 & 0\\\\\n",
        "      0 & 0 & 0 & 1 & 0\n",
        "      \\end{array}\n",
        "      \\right),\\\\ \\nonumber &\\neq A^T.\n",
        "$$\n",
        "\n",
        "In addition to undirected networks a number of other variants are possible. For example, the interaction might be weighted, i.e. interactions are not binary (0 or 1) but take values from the real number line. For example, an interaction might occur with a certain probability, or we might consider certain interactions to be more or less important than others, thus, it makes sense to attribute a `weight' to such connections. The result of which is a \\emph{weighted network}.  Note that other more complicated cases can occur but we are unlikely to come across them in this course.\n",
        "\n",
        "```{figure} ../../images/NetworkExamples111.png\n",
        "---\n",
        "height: 250px\n",
        "name: FigExample241\n",
        "---\n",
        "Representations of the directed and undirected networks given by the adjacency matrices of equations ? and ?, respectively.\n",
        "```\n",
        "\n",
        "<br>\n",
        "\n",
        "Another useful, but less popular matrix representation, is given by the so-called \\emph{incidence matrix}. The incidence matrix provides a more edge-centric view of a network  $N = \\{V, E\\}$, where as before, \n",
        "\n",
        "$$V=\\{v_1,v_2,\\ldots,v_n\\},~~ E=\\{e_1,e_2,\\ldots, e_m\\} ~\\text{ and }~ e_j=(v_{j_1},v_{j_2}) ~\\text{ with }~ 1\\leq j_1, j_2\\leq n,$$ \n",
        "\n",
        "and is given by the rectangular matrix $B=(b_{ij})$ whose $ij$th position is defined as  \n",
        "\n",
        "$$\n",
        "b_{ij} = \\begin{cases}\n",
        "1 & j_1 = i \\text{ or }j_2=i,\\\\\n",
        "0& \\text{otherwise.}\n",
        "\\end{cases} \n",
        "$$\n",
        "\n",
        "Here, $1\\leq i\\leq m$ and $1\\leq j\\leq n$ .  \n",
        "\n",
        "If the edge $(v_i, v_j)$ is present for a simple network then so is $(v_j, v_i)$, and so we only include one of each of these pairs in the incidence matrix (it doesn't matter which). The incidence matrix for the network in Figure \\ref{fig2:NetworkExamples}(a) is given by\n",
        "$$\n",
        "B = \\left(\n",
        "      \\begin{array}{rrrrrr}\n",
        "      1 & 1 & 0 &0 & 0 & 0\\\\\n",
        "      1 & 0 & 1 & 0 & 0 & 0\\\\\n",
        "      0 & 0 & 0 & 1 & 1 & 0\\\\\n",
        "      0 & 1 & 1 & 1 & 0 & 1\\\\\n",
        "      0 & 0 & 0 & 0 & 1 & 1\n",
        "      \\end{array}\n",
        "      \\right).\n",
        "$$\n",
        "\n",
        "<br>\n",
        "\n",
        "**Exercise** Write down the incidence matrix of the network given in Figure \\ref{fig2:NetworkExamples}(b). Note that you will need to distinguish between uni- and bi-directional edges. \n",
        "\n",
        "<br><br>\n",
        "\n",
        "**Computational Exercise** The Python code below uses the NetworkX package to plot the undirected network from Example 1.1.1. Adapt the code so as to display the directed version of the network (**Hint:** see here https://networkx.org/documentation/stable/reference/classes/digraph.html#networkx.DiGraph)"
      ]
    },
    {
      "cell_type": "code",
      "source": [
        "# plotting small networks using the NetworkX\n",
        "\n",
        "# import the NetworkX package\n",
        "import networkx as nx\n",
        "\n",
        "# defines empty graph object\n",
        "N = nx.Graph()\n",
        "\n",
        "# construct network by adding edges\n",
        "edges = [(1,2),(1,4),(2,4),(3,4),(3,5),(4,5)]\n",
        "N.add_edges_from(edges)\n",
        "\n",
        "# check basic properties of N\n",
        "V = N.number_of_nodes()\n",
        "m = N.number_of_edges()\n",
        "print(\"N has \", V, \"nodes and \", m, \"edges\")\n",
        "\n",
        "# plot the network N = (V,E)\n",
        "nx.draw(N, with_labels=True, font_weight='bold')\n",
        "\n",
        "# import pyvis\n",
        "!pip install pyvis\n",
        "from pyvis.network import Network\n",
        "\n",
        "# create vis network\n",
        "net = Network(notebook=True)\n",
        "# load the networkx graph\n",
        "net.from_nx(N)\n",
        "# show\n",
        "net.show(\"example.html\")"
      ],
      "metadata": {
        "id": "paN854TaKTwn",
        "outputId": "fd041137-3419-46a8-d506-6077768af1cf",
        "colab": {
          "base_uri": "https://localhost:8080/",
          "height": 1000
        }
      },
      "execution_count": 29,
      "outputs": [
        {
          "output_type": "stream",
          "name": "stdout",
          "text": [
            "N has  5 nodes and  6 edges\n",
            "Looking in indexes: https://pypi.org/simple, https://us-python.pkg.dev/colab-wheels/public/simple/\n",
            "Requirement already satisfied: pyvis in /usr/local/lib/python3.7/dist-packages (0.2.1)\n",
            "Requirement already satisfied: jsonpickle>=1.4.1 in /usr/local/lib/python3.7/dist-packages (from pyvis) (2.2.0)\n",
            "Requirement already satisfied: jinja2>=2.9.6 in /usr/local/lib/python3.7/dist-packages (from pyvis) (2.11.3)\n",
            "Requirement already satisfied: ipython>=5.3.0 in /usr/local/lib/python3.7/dist-packages (from pyvis) (5.5.0)\n",
            "Requirement already satisfied: networkx>=1.11 in /usr/local/lib/python3.7/dist-packages (from pyvis) (2.6.3)\n",
            "Requirement already satisfied: prompt-toolkit<2.0.0,>=1.0.4 in /usr/local/lib/python3.7/dist-packages (from ipython>=5.3.0->pyvis) (1.0.18)\n",
            "Requirement already satisfied: pickleshare in /usr/local/lib/python3.7/dist-packages (from ipython>=5.3.0->pyvis) (0.7.5)\n",
            "Requirement already satisfied: decorator in /usr/local/lib/python3.7/dist-packages (from ipython>=5.3.0->pyvis) (4.4.2)\n",
            "Requirement already satisfied: setuptools>=18.5 in /usr/local/lib/python3.7/dist-packages (from ipython>=5.3.0->pyvis) (57.4.0)\n",
            "Requirement already satisfied: pygments in /usr/local/lib/python3.7/dist-packages (from ipython>=5.3.0->pyvis) (2.6.1)\n",
            "Requirement already satisfied: traitlets>=4.2 in /usr/local/lib/python3.7/dist-packages (from ipython>=5.3.0->pyvis) (5.1.1)\n",
            "Requirement already satisfied: simplegeneric>0.8 in /usr/local/lib/python3.7/dist-packages (from ipython>=5.3.0->pyvis) (0.8.1)\n",
            "Requirement already satisfied: pexpect in /usr/local/lib/python3.7/dist-packages (from ipython>=5.3.0->pyvis) (4.8.0)\n",
            "Requirement already satisfied: MarkupSafe>=0.23 in /usr/local/lib/python3.7/dist-packages (from jinja2>=2.9.6->pyvis) (2.0.1)\n",
            "Requirement already satisfied: importlib-metadata in /usr/local/lib/python3.7/dist-packages (from jsonpickle>=1.4.1->pyvis) (4.12.0)\n",
            "Requirement already satisfied: wcwidth in /usr/local/lib/python3.7/dist-packages (from prompt-toolkit<2.0.0,>=1.0.4->ipython>=5.3.0->pyvis) (0.2.5)\n",
            "Requirement already satisfied: six>=1.9.0 in /usr/local/lib/python3.7/dist-packages (from prompt-toolkit<2.0.0,>=1.0.4->ipython>=5.3.0->pyvis) (1.15.0)\n",
            "Requirement already satisfied: zipp>=0.5 in /usr/local/lib/python3.7/dist-packages (from importlib-metadata->jsonpickle>=1.4.1->pyvis) (3.8.1)\n",
            "Requirement already satisfied: typing-extensions>=3.6.4 in /usr/local/lib/python3.7/dist-packages (from importlib-metadata->jsonpickle>=1.4.1->pyvis) (4.1.1)\n",
            "Requirement already satisfied: ptyprocess>=0.5 in /usr/local/lib/python3.7/dist-packages (from pexpect->ipython>=5.3.0->pyvis) (0.7.0)\n"
          ]
        },
        {
          "output_type": "execute_result",
          "data": {
            "text/plain": [
              "<IPython.lib.display.IFrame at 0x7f9c8033aad0>"
            ],
            "text/html": [
              "\n",
              "        <iframe\n",
              "            width=\"500px\"\n",
              "            height=\"500px\"\n",
              "            src=\"example.html\"\n",
              "            frameborder=\"0\"\n",
              "            allowfullscreen\n",
              "        ></iframe>\n",
              "        "
            ]
          },
          "metadata": {},
          "execution_count": 29
        },
        {
          "output_type": "display_data",
          "data": {
            "text/plain": [
              "<Figure size 432x288 with 1 Axes>"
            ],
            "image/png": "[encoded data removed]"
          },
          "metadata": {}
        }
      ]
    },
    {
      "cell_type": "code",
      "source": [
        "#!pip install pyvis\n",
        "from pyvis.network import Network\n",
        "import networkx as nx\n",
        "nx_graph = nx.cycle_graph(10)\n",
        "nx_graph.nodes[1]['title'] = 'Number 1'\n",
        "nx_graph.nodes[1]['group'] = 1\n",
        "nx_graph.nodes[3]['title'] = 'I belong to a different group!'\n",
        "nx_graph.nodes[3]['group'] = 10\n",
        "nx_graph.add_node(20, size=20, title='couple', group=2)\n",
        "nx_graph.add_node(21, size=15, title='couple', group=2)\n",
        "nx_graph.add_edge(20, 21, weight=5)\n",
        "nx_graph.add_node(25, size=25, label='lonely', title='lonely node', group=3)\n",
        "nt = Network('500px', '500px')\n",
        "# populates the nodes and edges data structures\n",
        "nt.from_nx(nx_graph)\n",
        "nt.show('nx.html')"
      ],
      "metadata": {
        "id": "wl7_Rc5aOYFj"
      },
      "execution_count": null,
      "outputs": []
    },
    {
      "cell_type": "markdown",
      "source": [
        ""
      ],
      "metadata": {
        "id": "ZOat-Rva3S4e"
      }
    },
    {
      "cell_type": "markdown",
      "source": [
        "## Pyvis\n",
        "\n",
        "Use Pyvis for better plots and marks!"
      ],
      "metadata": {
        "id": "UrkkaG2PUduz"
      }
    },
    {
      "cell_type": "code",
      "source": [
        "#!pip install pyvis\n",
        "from pyvis.network import Network\n",
        "\n",
        "# use this to read in .csv file\n",
        "import pandas as pd\n",
        "\n",
        "got_net = Network(notebook=True,height='750px', width='100%', bgcolor='#222222', font_color='white')\n",
        "\n",
        "# set the physics layout of the network\n",
        "got_net.barnes_hut()\n",
        "got_data = pd.read_csv('https://raw.githubusercontent.com/mathbeveridge/asoiaf/master/data/asoiaf-book1-edges.csv')\n",
        "\n",
        "sources = got_data['Source']\n",
        "targets = got_data['Target']\n",
        "weights = got_data['weight']\n",
        "\n",
        "edge_data = zip(sources, targets, weights)\n",
        "\n",
        "for e in edge_data:\n",
        "    src = e[0]\n",
        "    dst = e[1]\n",
        "    w = e[2]\n",
        "\n",
        "    got_net.add_node(src, src, title=src)\n",
        "    got_net.add_node(dst, dst, title=dst)\n",
        "    got_net.add_edge(src, dst, value=w)\n",
        "\n",
        "neighbor_map = got_net.get_adj_list()\n",
        "\n",
        "# add neighbor data to node hover data\n",
        "for node in got_net.nodes:\n",
        "    node['title'] += ' Neighbors:<br>' + '<br>'.join(neighbor_map[node['id']])\n",
        "    node['value'] = len(neighbor_map[node['id']])\n",
        "\n",
        "got_net.show_buttons(filter_=['physics'])\n",
        "got_net.show('gameofthrones.html')"
      ],
      "metadata": {
        "id": "YhYXjSZ8Tia4",
        "outputId": "85e639ad-69c4-4258-eca8-8c960e0a37ca",
        "colab": {
          "base_uri": "https://localhost:8080/",
          "height": 771
        }
      },
      "execution_count": 30,
      "outputs": [
        {
          "output_type": "execute_result",
          "data": {
            "text/plain": [
              "<IPython.lib.display.IFrame at 0x7f9c80371a90>"
            ],
            "text/html": [
              "\n",
              "        <iframe\n",
              "            width=\"100%\"\n",
              "            height=\"750px\"\n",
              "            src=\"gameofthrones.html\"\n",
              "            frameborder=\"0\"\n",
              "            allowfullscreen\n",
              "        ></iframe>\n",
              "        "
            ]
          },
          "metadata": {},
          "execution_count": 30
        }
      ]
    }
  ]
}