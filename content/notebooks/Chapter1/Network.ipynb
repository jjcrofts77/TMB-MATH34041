{
  "nbformat": 4,
  "nbformat_minor": 0,
  "metadata": {
    "colab": {
      "name": "Untitled2.ipynb",
      "provenance": [],
      "authorship_tag": "ABX9TyMy0qv7Xs26KEc8p9Axaa1F",
      "include_colab_link": true
    },
    "kernelspec": {
      "name": "python3",
      "display_name": "Python 3"
    },
    "language_info": {
      "name": "python"
    }
  },
  "cells": [
    {
      "cell_type": "markdown",
      "metadata": {
        "id": "view-in-github",
        "colab_type": "text"
      },
      "source": [
        "<a href=\"https://colab.research.google.com/github/jjcrofts77/TMB-MATH34041/blob/main/content/notebooks/Chapter1/Network.ipynb\" target=\"_parent\"><img src=\"https://colab.research.google.com/assets/colab-badge.svg\" alt=\"Open In Colab\"/></a>"
      ]
    },
    {
      "cell_type": "markdown",
      "metadata": {
        "id": "CgwfzXwoA3vg"
      },
      "source": [
        "# 1.1 What are Networks?\n",
        "\n",
        "A network (or graph) is a set of nodes connected by links. Mathematically a network is represented by a pair $N = (V,E)$, such that $V = \\{v_1,v_2,\\ldots v_n\\}$ is a finite set of $n$ nodes and $E = \\{e_1,e_2,\\ldots e_m\\}$ the set of  $m$ edges representing links between node pairs.\n",
        "\n",
        "Given a network one may represent it in matrix form in a number of ways, the most popular of which is the *adjacency matrix* $A\\in\\mathbb{R}^{n\\times n}$ which is defined as\n",
        "\n",
        "$$\n",
        "a_{ij} = \\begin{cases}\n",
        "1& i\\sim j,\\\\\n",
        "0& \\text{otherwise.}\n",
        "\\end{cases}\n",
        "$$\n",
        "\n",
        "Here $i\\sim j$ denotes that nodes $i$ and $j$ are adjacent to each other (i.e. they are connected).\n",
        "\n",
        "```{note}\n",
        "The above describes an undirected network containing no self-loops (i.e. a node cannot be adjacent to itself) or multiple loops (i.e. at most one link exists between each pair of nodes). Such a network is termed a **simple network** and much of what we cover in this course is for this case -- see below for a few exceptions!\n",
        "```\n",
        "\n",
        "The size, or *order*, of the network is given by $|V| = n$.\n",
        "\n",
        "<br>\n",
        "\n",
        "**Example 1.1.1**  Consider the following network $N_1 = (V_1,E_1)$ where\n",
        "\n",
        "$$\n",
        " V_1 = \\{v_1,\\ldots, v_5\\} \\quad\\text{ and }\\quad E_1 = \\{(1,2),(1,4),(2,4),(3,4),(3,5),(4,5)\\}.\n",
        "$$\n",
        "\n",
        "The adjacency matrix of this network (see {numref}`FigExample111`a) is given below:\n",
        "\n",
        "$$\n",
        "A = \\left(\n",
        "      \\begin{array}{ccccc}\n",
        "      0 & 1 & 0 &1 & 0\\\\\n",
        "      1 & 0 & 0 & 1 & 0\\\\\n",
        "      0 & 0 & 0 & 1 & 1\\\\\n",
        "      1 & 1 & 1 & 0 & 1\\\\\n",
        "      0 & 0 & 1 & 1 & 0\n",
        "      \\end{array}\n",
        "      \\right).\n",
        "$$ (Undir)\n",
        "\n",
        "Note that unless told otherwise it is assumed that $(i,j)\\in E$ implies $(j,i)\\in E$, that is we assume the network to be undirected.  An example of a directed network is shown in {numref}`FigExample111`b; its adjacency matrix is given below\n",
        "\n",
        "$$\n",
        "A &= \\left(\n",
        "      \\begin{array}{ccccc}\n",
        "      0 & 1 & 0 &1 & 0\\\\\n",
        "      0 & 0 & 1 & 1 & 0\\\\\n",
        "      0 & 1 & 0 & 1 & 0\\\\\n",
        "      1 & 1 & 1 & 0 & 0\\\\\n",
        "      0 & 0 & 0 & 1 & 0\n",
        "      \\end{array}\n",
        "      \\right),\\\\ \\nonumber &\\neq A^T.\n",
        "$$ (Dir)\n",
        "\n",
        "In addition to undirected networks a number of other variants are possible. For example, the interaction might be weighted, i.e. interactions are not binary (0 or 1) but take values from the real number line. For example, an interaction might occur with a certain probability, or we might consider certain interactions to be more or less important than others, thus, it makes sense to attribute a `weight' to such connections. The result of which is a *weighted network*.  Note that other more complicated cases can occur but we are unlikely to come across them in this course.\n",
        "\n",
        "```{figure} ../../images/NetworkExamples111.png\n",
        "---\n",
        "height: 350px\n",
        "name: FigExample111\n",
        "---\n",
        "Representations of the undirected and directed networks given by the adjacency matrices of equations {eq}`Undir` and {eq}`Dir`, respectively.\n",
        "```\n",
        "\n",
        "<br>\n",
        "\n",
        "Another useful, but less popular matrix representation, is given by the so-called *incidence matrix*. The incidence matrix provides a more edge-centric view of a network  $N = \\{V, E\\}$, where as before,\n",
        "\n",
        "$$V=\\{v_1,v_2,\\ldots,v_n\\},~~ E=\\{e_1,e_2,\\ldots, e_m\\} ~\\text{ and }~ e_j=(v_{j_1},v_{j_2}) ~\\text{ with }~ 1\\leq j_1, j_2\\leq n,$$\n",
        "\n",
        "and is given by the rectangular matrix $B=(b_{ij})$ whose $ij$th position is defined as  \n",
        "\n",
        "$$\n",
        "b_{ij} = \\begin{cases}\n",
        "1 & j_1 = i \\text{ or }j_2=i,\\\\\n",
        "0& \\text{otherwise.}\n",
        "\\end{cases}\n",
        "$$\n",
        "\n",
        "Here, $1\\leq i\\leq m$ and $1\\leq j\\leq n$ .  \n",
        "\n",
        "If the edge $(v_i, v_j)$ is present for a simple network then so is $(v_j, v_i)$, and so we only include one of each of these pairs in the incidence matrix (it doesn't matter which). The incidence matrix for the network in {numref}`FigExample111`(a) is given by\n",
        "\n",
        "$$\n",
        "B = \\left(\n",
        "      \\begin{array}{rrrrrr}\n",
        "      1 & 1 & 0 &0 & 0 & 0\\\\\n",
        "      1 & 0 & 1 & 0 & 0 & 0\\\\\n",
        "      0 & 0 & 0 & 1 & 1 & 0\\\\\n",
        "      0 & 1 & 1 & 1 & 0 & 1\\\\\n",
        "      0 & 0 & 0 & 0 & 1 & 1\n",
        "      \\end{array}\n",
        "      \\right).\n",
        "$$\n",
        "\n",
        "<br>\n",
        "\n",
        "**Exercise** Write down the incidence matrix of the network given in {numref}`FigExample111`(b). Note that you will need to distinguish between uni- and bi-directional edges.\n",
        "\n",
        "<br>\n",
        "\n",
        "**Computational Exercise** The Python code below uses the NetworkX package to create the undirected network from Example 1.1.1 and then plots the network. See if you can adapt the code so as to display the directed version of the network (**Hint:** see [here](https://networkx.org/documentation/stable/reference/classes/digraph.html#networkx.DiGraph))"
      ]
    },
    {
      "cell_type": "code",
      "source": [
        "# plotting small networks using the NetworkX and pyvis\n",
        "\n",
        "# 1. import the NetworkX package\n",
        "import networkx as nx\n",
        "N = nx.Graph()\n",
        "\n",
        "# construct network by adding edges\n",
        "edges = [(1,2),(1,4),(2,4),(3,4),(3,5),(4,5)]\n",
        "N.add_edges_from(edges)\n",
        "\n",
        "# check basic properties of N and plot it\n",
        "V = N.number_of_nodes()\n",
        "m = N.number_of_edges()\n",
        "print(\"A network N with\", V, \"nodes and\", m, \"edges\")\n",
        "nx.draw_networkx(N) # plot"
      ],
      "metadata": {
        "id": "paN854TaKTwn",
        "outputId": "496a7395-f7fd-41be-b0ec-ed9e6543cc28",
        "colab": {
          "base_uri": "https://localhost:8080/",
          "height": 423
        }
      },
      "execution_count": 7,
      "outputs": [
        {
          "output_type": "stream",
          "name": "stdout",
          "text": [
            "A network N with 5 nodes and 6 edges\n"
          ]
        },
        {
          "output_type": "display_data",
          "data": {
            "text/plain": [
              "<Figure size 640x480 with 1 Axes>"
            ],
            "image/png": "[encoded data removed]"
          },
          "metadata": {}
        }
      ]
    }
  ]
}