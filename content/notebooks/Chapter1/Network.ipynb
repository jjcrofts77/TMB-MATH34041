{
  "nbformat": 4,
  "nbformat_minor": 0,
  "metadata": {
    "colab": {
      "name": "Untitled2.ipynb",
      "provenance": [],
      "authorship_tag": "ABX9TyOGhbjhocTlOXa9upXWYoNZ",
      "include_colab_link": true
    },
    "kernelspec": {
      "name": "python3",
      "display_name": "Python 3"
    },
    "language_info": {
      "name": "python"
    }
  },
  "cells": [
    {
      "cell_type": "markdown",
      "metadata": {
        "id": "view-in-github",
        "colab_type": "text"
      },
      "source": [
        "<a href=\"https://colab.research.google.com/github/jjcrofts77/TMB-MATH34041/blob/main/content/notebooks/Chapter1/Network.ipynb\" target=\"_parent\"><img src=\"https://colab.research.google.com/assets/colab-badge.svg\" alt=\"Open In Colab\"/></a>"
      ]
    },
    {
      "cell_type": "markdown",
      "metadata": {
        "id": "CgwfzXwoA3vg"
      },
      "source": [
        "# 1.1 What are Networks?\n",
        "\n",
        "A network (or graph) is a set of nodes connected by links. Mathematically a network is represented by a pair $N = (V,E)$, such that $V = \\{v_1,v_2,\\ldots v_n\\}$ is a finite set of $n$ nodes and $E = \\{e_1,e_2,\\ldots e_m\\}$ the set of  $m$ edges representing links between node pairs. \n",
        "\n",
        "Given a network one may represent it in matrix form in a number of ways, the most popular of which is the *adjacency matrix* $A\\in\\mathbb{R}^{n\\times n}$ which is defined as\n",
        "\n",
        "$$\n",
        "a_{ij} = \\begin{cases}\n",
        "1& i\\sim j,\\\\\n",
        "0& \\text{otherwise.}\n",
        "\\end{cases}\n",
        "$$\n",
        "\n",
        "Here $i\\sim j$ denotes that nodes $i$ and $j$ are adjacent to each other (i.e. they are connected).\n",
        "\n",
        "```{note}\n",
        "The above describes an undirected network containing no self-loops (i.e. a node cannot be adjacent to itself) or multiple loops (i.e. at most one link exists between each pair of nodes). Such a network is termed a **simple network** and much of what we cover in this course is for this case -- see below for a few exceptions! \n",
        "```\n",
        "\n",
        "The size, or *order*, of the network is given by $|V| = n$.\n",
        "\n",
        "<br>\n",
        "\n",
        "**Example 1.1.1**  Consider the following network $N_1 = (V_1,E_1)$ where \n",
        "\n",
        "$$\n",
        " V_1 = \\{v_1,\\ldots, v_5\\} \\quad\\text{ and }\\quad E_1 = \\{(1,2),(1,4),(2,4),(3,4),(3,5),(4,5)\\}.\n",
        "$$\n",
        "\n",
        "The adjacency matrix of this network (see Figure \\ref{fig2:NetworkExamples}a) is given below:\n",
        "\n",
        "$$\n",
        "A = \\left(\n",
        "      \\begin{tabular}{ccccc}\n",
        "      0 & 1 & 0 &1 & 0\\\\\n",
        "      1 & 0 & 0 & 1 & 0\\\\\n",
        "      0 & 0 & 0 & 1 & 1\\\\\n",
        "      1 & 1 & 1 & 0 & 1\\\\\n",
        "      0 & 0 & 1 & 1 & 0\n",
        "      \\end{tabular}\n",
        "      \\right).\n",
        "$$\n",
        "\n",
        "Note that unless told otherwise it is assumed that $(i,j)\\in E$ implies $(j,i)\\in E$, that is we assume the network to be undirected.  An example of a directed network is shown in Figure \\ref{fig2:NetworkExamples}b; its adjacency matrix is given below\n",
        "\n",
        "$$\n",
        "A &= \\left(\n",
        "      \\begin{tabular}{ccccc}\n",
        "      0 & 1 & 0 &1 & 0\\\\\n",
        "      0 & 0 & 1 & 1 & 0\\\\\n",
        "      0 & 1 & 0 & 1 & 0\\\\\n",
        "      1 & 1 & 1 & 0 & 0\\\\\n",
        "      0 & 0 & 0 & 1 & 0\n",
        "      \\end{tabular}\n",
        "      \\right),\\\\ \\nonumber &\\neq A^T.\n",
        "$$\n",
        "\n",
        "In addition to undirected networks a number of other variants are possible. For example, the interaction might be weighted, i.e. interactions are not binary (0 or 1) but take values from the real number line. For example, an interaction might occur with a certain probability, or we might consider certain interactions to be more or less important than others, thus, it makes sense to attribute a `weight' to such connections. The result of which is a \\emph{weighted network}.  Note that other more complicated cases can occur but we are unlikely to come across them in this course.\n",
        "\n",
        "```{figure} ../../images/ToyNetworks.png\n",
        "---\n",
        "height: 250px\n",
        "name: FigExample241\n",
        "---\n",
        "Representations of the directed and undirected networks given by the adjacency matrices of equations ? and ?, respectively.\n",
        "```\n",
        "\n",
        "<br>\n",
        "\n",
        "Another useful, but less popular matrix representation, is given by the so-called \\emph{incidence matrix}. The incidence matrix provides a more edge-centric view of a network  $N = \\{V, E\\}$, where as before, \n",
        "\n",
        "$$V=\\{v_1,v_2,\\ldots,v_n\\},~~ E=\\{e_1,e_2,\\ldots, e_m\\} ~\\text{ and }~ e_j=(v_{j_1},v_{j_2}) ~\\text{ with }~ 1\\leq j_1, j_2\\leq n,$$ \n",
        "\n",
        "and is given by the rectangular matrix $B=(b_{ij})$ whose $ij$th position is defined as  \n",
        "\n",
        "$$\n",
        "b_{ij} = \\begin{cases}\n",
        "1 & j_1 = i \\text{ or }j_2=i,\\\\\n",
        "0& \\text{otherwise.}\n",
        "\\end{cases} \n",
        "$$\n",
        "\n",
        "Here, $1\\leq i\\leq m$ and $1\\leq j\\leq n$ .  \n",
        "\n",
        "If the edge $(v_i, v_j)$ is present for a simple network then so is $(v_j, v_i)$, and so we only include one of each of these pairs in the incidence matrix (it doesn't matter which). The incidence matrix for the network in Figure \\ref{fig2:NetworkExamples}(a) is given by\n",
        "$$\n",
        "B &= \\left(\n",
        "      \\begin{tabular}{rrrrrr}\n",
        "      1 & 1 & 0 &0 & 0 & 0\\\\\n",
        "      1 & 0 & 1 & 0 & 0 & 0\\\\\n",
        "      0 & 0 & 0 & 1 & 1 & 0\\\\\n",
        "      0 & 1 & 1 & 1 & 0 & 1\\\\\n",
        "      0 & 0 & 0 & 0 & 1 & 1\n",
        "      \\end{tabular}\n",
        "      \\right).\n",
        "$$\n",
        "\n",
        "<br>\n",
        "\n",
        "**Exercise** Write down the incidence matrix of the network given in Figure \\ref{fig2:NetworkExamples}(b). Note that you will need to distinguish between uni- and bi-directional edges. \n",
        "\n",
        "<br><br>\n",
        "\n",
        "**Computational Exercise** The Python code below uses the NetworkX package to plot the undirected network from Example 1.1.1. Adapt the code so as to display the directed version of the network (**Hint:** see here https://networkx.org/documentation/stable/reference/classes/digraph.html#networkx.DiGraph)"
      ]
    },
    {
      "cell_type": "code",
      "source": [
        "# plotting small networks using the NetworkX\n",
        "\n",
        "# import the NetworkX package\n",
        "import networkx as nx\n",
        "\n",
        "# defines empty graph object\n",
        "N = nx.Graph()\n",
        "\n",
        "# construct network by adding edges\n",
        "edges = [(1,2),(1,4),(2,4),(3,4),(3,5),(4,5)]\n",
        "N.add_edges_from(edges)\n",
        "\n",
        "# check basic properties of N\n",
        "V = N.number_of_nodes()\n",
        "m = N.number_of_edges()\n",
        "print(\"N has \", V, \"nodes and \", m, \"edges\")\n",
        "\n",
        "# plot the network N = (V,E)\n",
        "nx.draw(N, with_labels=True, font_weight='bold')"
      ],
      "metadata": {
        "id": "paN854TaKTwn",
        "outputId": "a7bac6cb-efe0-4da0-b52f-105e345a2c12",
        "colab": {
          "base_uri": "https://localhost:8080/",
          "height": 336
        }
      },
      "execution_count": null,
      "outputs": [
        {
          "output_type": "stream",
          "name": "stdout",
          "text": [
            "N has  5 nodes and  6 edges\n"
          ]
        },
        {
          "output_type": "display_data",
          "data": {
            "text/plain": [
              "<Figure size 432x288 with 1 Axes>"
            ],
            "image/png": "[encoded data removed]"
          },
          "metadata": {}
        }
      ]
    },
    {
      "cell_type": "code",
      "source": [
        "#!pip install pyvis\n",
        "from pyvis.network import Network\n",
        "import networkx as nx\n",
        "nx_graph = nx.cycle_graph(10)\n",
        "nx_graph.nodes[1]['title'] = 'Number 1'\n",
        "nx_graph.nodes[1]['group'] = 1\n",
        "nx_graph.nodes[3]['title'] = 'I belong to a different group!'\n",
        "nx_graph.nodes[3]['group'] = 10\n",
        "nx_graph.add_node(20, size=20, title='couple', group=2)\n",
        "nx_graph.add_node(21, size=15, title='couple', group=2)\n",
        "nx_graph.add_edge(20, 21, weight=5)\n",
        "nx_graph.add_node(25, size=25, label='lonely', title='lonely node', group=3)\n",
        "nt = Network('500px', '500px')\n",
        "# populates the nodes and edges data structures\n",
        "nt.from_nx(nx_graph)\n",
        "nt.show('nx.html')"
      ],
      "metadata": {
        "id": "wl7_Rc5aOYFj"
      },
      "execution_count": null,
      "outputs": []
    },
    {
      "cell_type": "markdown",
      "source": [
        ""
      ],
      "metadata": {
        "id": "ZOat-Rva3S4e"
      }
    },
    {
      "cell_type": "markdown",
      "source": [
        "## Pyvis\n",
        "\n",
        "Use Pyvis for better plots and marks!"
      ],
      "metadata": {
        "id": "UrkkaG2PUduz"
      }
    },
    {
      "cell_type": "code",
      "source": [
        "!pip install pyvis\n",
        "from pyvis.network import Network\n",
        "import pandas as pd\n",
        "\n",
        "got_net = Network(height='750px', width='100%', bgcolor='#222222', font_color='white')\n",
        "\n",
        "# set the physics layout of the network\n",
        "got_net.barnes_hut()\n",
        "got_data = pd.read_csv('https://github.com/mathbeveridge/asoiaf/blob/master/data/asoiaf-book1-edges.csv')\n",
        "\n",
        "sources = got_data['Source']\n",
        "targets = got_data['Target']\n",
        "weights = got_data['Weight']\n",
        "\n",
        "edge_data = zip(sources, targets, weights)\n",
        "\n",
        "for e in edge_data:\n",
        "    src = e[0]\n",
        "    dst = e[1]\n",
        "    w = e[2]\n",
        "\n",
        "    got_net.add_node(src, src, title=src)\n",
        "    got_net.add_node(dst, dst, title=dst)\n",
        "    got_net.add_edge(src, dst, value=w)\n",
        "\n",
        "neighbor_map = got_net.get_adj_list()\n",
        "\n",
        "# add neighbor data to node hover data\n",
        "for node in got_net.nodes:\n",
        "    node['title'] += ' Neighbors:<br>' + '<br>'.join(neighbor_map[node['id']])\n",
        "    node['value'] = len(neighbor_map[node['id']])\n",
        "\n",
        "got_net.show('gameofthrones.html')"
      ],
      "metadata": {
        "id": "YhYXjSZ8Tia4",
        "outputId": "f18875b2-ea13-437b-ee26-b632a189536f",
        "colab": {
          "base_uri": "https://localhost:8080/",
          "height": 814
        }
      },
      "execution_count": 2,
      "outputs": [
        {
          "output_type": "stream",
          "name": "stdout",
          "text": [
            "Looking in indexes: https://pypi.org/simple, https://us-python.pkg.dev/colab-wheels/public/simple/\n",
            "Collecting pyvis\n",
            "  Downloading pyvis-0.2.1.tar.gz (21 kB)\n",
            "Requirement already satisfied: jinja2>=2.9.6 in /usr/local/lib/python3.7/dist-packages (from pyvis) (2.11.3)\n",
            "Requirement already satisfied: networkx>=1.11 in /usr/local/lib/python3.7/dist-packages (from pyvis) (2.6.3)\n",
            "Requirement already satisfied: ipython>=5.3.0 in /usr/local/lib/python3.7/dist-packages (from pyvis) (5.5.0)\n",
            "Collecting jsonpickle>=1.4.1\n",
            "  Downloading jsonpickle-2.2.0-py2.py3-none-any.whl (39 kB)\n",
            "Requirement already satisfied: decorator in /usr/local/lib/python3.7/dist-packages (from ipython>=5.3.0->pyvis) (4.4.2)\n",
            "Requirement already satisfied: pygments in /usr/local/lib/python3.7/dist-packages (from ipython>=5.3.0->pyvis) (2.6.1)\n",
            "Requirement already satisfied: prompt-toolkit<2.0.0,>=1.0.4 in /usr/local/lib/python3.7/dist-packages (from ipython>=5.3.0->pyvis) (1.0.18)\n",
            "Requirement already satisfied: pickleshare in /usr/local/lib/python3.7/dist-packages (from ipython>=5.3.0->pyvis) (0.7.5)\n",
            "Requirement already satisfied: traitlets>=4.2 in /usr/local/lib/python3.7/dist-packages (from ipython>=5.3.0->pyvis) (5.1.1)\n",
            "Requirement already satisfied: simplegeneric>0.8 in /usr/local/lib/python3.7/dist-packages (from ipython>=5.3.0->pyvis) (0.8.1)\n",
            "Requirement already satisfied: setuptools>=18.5 in /usr/local/lib/python3.7/dist-packages (from ipython>=5.3.0->pyvis) (57.4.0)\n",
            "Requirement already satisfied: pexpect in /usr/local/lib/python3.7/dist-packages (from ipython>=5.3.0->pyvis) (4.8.0)\n",
            "Requirement already satisfied: MarkupSafe>=0.23 in /usr/local/lib/python3.7/dist-packages (from jinja2>=2.9.6->pyvis) (2.0.1)\n",
            "Requirement already satisfied: importlib-metadata in /usr/local/lib/python3.7/dist-packages (from jsonpickle>=1.4.1->pyvis) (4.12.0)\n",
            "Requirement already satisfied: six>=1.9.0 in /usr/local/lib/python3.7/dist-packages (from prompt-toolkit<2.0.0,>=1.0.4->ipython>=5.3.0->pyvis) (1.15.0)\n",
            "Requirement already satisfied: wcwidth in /usr/local/lib/python3.7/dist-packages (from prompt-toolkit<2.0.0,>=1.0.4->ipython>=5.3.0->pyvis) (0.2.5)\n",
            "Requirement already satisfied: typing-extensions>=3.6.4 in /usr/local/lib/python3.7/dist-packages (from importlib-metadata->jsonpickle>=1.4.1->pyvis) (4.1.1)\n",
            "Requirement already satisfied: zipp>=0.5 in /usr/local/lib/python3.7/dist-packages (from importlib-metadata->jsonpickle>=1.4.1->pyvis) (3.8.1)\n",
            "Requirement already satisfied: ptyprocess>=0.5 in /usr/local/lib/python3.7/dist-packages (from pexpect->ipython>=5.3.0->pyvis) (0.7.0)\n",
            "Building wheels for collected packages: pyvis\n",
            "  Building wheel for pyvis (setup.py) ... \u001b[?25l\u001b[?25hdone\n",
            "  Created wheel for pyvis: filename=pyvis-0.2.1-py3-none-any.whl size=23688 sha256=3dec5da58a2d1c59271631d6cb50baf24dd014b08e7a03ba6682fd21457c325d\n",
            "  Stored in directory: /root/.cache/pip/wheels/2a/8f/04/6340d46afc74f59cc857a594ca1a2a14a1f4cbd4fd6c2e9306\n",
            "Successfully built pyvis\n",
            "Installing collected packages: jsonpickle, pyvis\n",
            "Successfully installed jsonpickle-2.2.0 pyvis-0.2.1\n"
          ]
        },
        {
          "output_type": "error",
          "ename": "ParserError",
          "evalue": "ignored",
          "traceback": [
            "\u001b[0;31m---------------------------------------------------------------------------\u001b[0m",
            "\u001b[0;31mParserError\u001b[0m                               Traceback (most recent call last)",
            "\u001b[0;32m<ipython-input-2-08a104d85878>\u001b[0m in \u001b[0;36m<module>\u001b[0;34m()\u001b[0m\n\u001b[1;32m      7\u001b[0m \u001b[0;31m# set the physics layout of the network\u001b[0m\u001b[0;34m\u001b[0m\u001b[0;34m\u001b[0m\u001b[0;34m\u001b[0m\u001b[0m\n\u001b[1;32m      8\u001b[0m \u001b[0mgot_net\u001b[0m\u001b[0;34m.\u001b[0m\u001b[0mbarnes_hut\u001b[0m\u001b[0;34m(\u001b[0m\u001b[0;34m)\u001b[0m\u001b[0;34m\u001b[0m\u001b[0;34m\u001b[0m\u001b[0m\n\u001b[0;32m----> 9\u001b[0;31m \u001b[0mgot_data\u001b[0m \u001b[0;34m=\u001b[0m \u001b[0mpd\u001b[0m\u001b[0;34m.\u001b[0m\u001b[0mread_csv\u001b[0m\u001b[0;34m(\u001b[0m\u001b[0;34m'https://github.com/mathbeveridge/asoiaf/blob/master/data/asoiaf-book1-edges.csv'\u001b[0m\u001b[0;34m)\u001b[0m\u001b[0;34m\u001b[0m\u001b[0;34m\u001b[0m\u001b[0m\n\u001b[0m\u001b[1;32m     10\u001b[0m \u001b[0;34m\u001b[0m\u001b[0m\n\u001b[1;32m     11\u001b[0m \u001b[0msources\u001b[0m \u001b[0;34m=\u001b[0m \u001b[0mgot_data\u001b[0m\u001b[0;34m[\u001b[0m\u001b[0;34m'Source'\u001b[0m\u001b[0;34m]\u001b[0m\u001b[0;34m\u001b[0m\u001b[0;34m\u001b[0m\u001b[0m\n",
            "\u001b[0;32m/usr/local/lib/python3.7/dist-packages/pandas/util/_decorators.py\u001b[0m in \u001b[0;36mwrapper\u001b[0;34m(*args, **kwargs)\u001b[0m\n\u001b[1;32m    309\u001b[0m                     \u001b[0mstacklevel\u001b[0m\u001b[0;34m=\u001b[0m\u001b[0mstacklevel\u001b[0m\u001b[0;34m,\u001b[0m\u001b[0;34m\u001b[0m\u001b[0;34m\u001b[0m\u001b[0m\n\u001b[1;32m    310\u001b[0m                 )\n\u001b[0;32m--> 311\u001b[0;31m             \u001b[0;32mreturn\u001b[0m \u001b[0mfunc\u001b[0m\u001b[0;34m(\u001b[0m\u001b[0;34m*\u001b[0m\u001b[0margs\u001b[0m\u001b[0;34m,\u001b[0m \u001b[0;34m**\u001b[0m\u001b[0mkwargs\u001b[0m\u001b[0;34m)\u001b[0m\u001b[0;34m\u001b[0m\u001b[0;34m\u001b[0m\u001b[0m\n\u001b[0m\u001b[1;32m    312\u001b[0m \u001b[0;34m\u001b[0m\u001b[0m\n\u001b[1;32m    313\u001b[0m         \u001b[0;32mreturn\u001b[0m \u001b[0mwrapper\u001b[0m\u001b[0;34m\u001b[0m\u001b[0;34m\u001b[0m\u001b[0m\n",
            "\u001b[0;32m/usr/local/lib/python3.7/dist-packages/pandas/io/parsers/readers.py\u001b[0m in \u001b[0;36mread_csv\u001b[0;34m(filepath_or_buffer, sep, delimiter, header, names, index_col, usecols, squeeze, prefix, mangle_dupe_cols, dtype, engine, converters, true_values, false_values, skipinitialspace, skiprows, skipfooter, nrows, na_values, keep_default_na, na_filter, verbose, skip_blank_lines, parse_dates, infer_datetime_format, keep_date_col, date_parser, dayfirst, cache_dates, iterator, chunksize, compression, thousands, decimal, lineterminator, quotechar, quoting, doublequote, escapechar, comment, encoding, encoding_errors, dialect, error_bad_lines, warn_bad_lines, on_bad_lines, delim_whitespace, low_memory, memory_map, float_precision, storage_options)\u001b[0m\n\u001b[1;32m    584\u001b[0m     \u001b[0mkwds\u001b[0m\u001b[0;34m.\u001b[0m\u001b[0mupdate\u001b[0m\u001b[0;34m(\u001b[0m\u001b[0mkwds_defaults\u001b[0m\u001b[0;34m)\u001b[0m\u001b[0;34m\u001b[0m\u001b[0;34m\u001b[0m\u001b[0m\n\u001b[1;32m    585\u001b[0m \u001b[0;34m\u001b[0m\u001b[0m\n\u001b[0;32m--> 586\u001b[0;31m     \u001b[0;32mreturn\u001b[0m \u001b[0m_read\u001b[0m\u001b[0;34m(\u001b[0m\u001b[0mfilepath_or_buffer\u001b[0m\u001b[0;34m,\u001b[0m \u001b[0mkwds\u001b[0m\u001b[0;34m)\u001b[0m\u001b[0;34m\u001b[0m\u001b[0;34m\u001b[0m\u001b[0m\n\u001b[0m\u001b[1;32m    587\u001b[0m \u001b[0;34m\u001b[0m\u001b[0m\n\u001b[1;32m    588\u001b[0m \u001b[0;34m\u001b[0m\u001b[0m\n",
            "\u001b[0;32m/usr/local/lib/python3.7/dist-packages/pandas/io/parsers/readers.py\u001b[0m in \u001b[0;36m_read\u001b[0;34m(filepath_or_buffer, kwds)\u001b[0m\n\u001b[1;32m    486\u001b[0m \u001b[0;34m\u001b[0m\u001b[0m\n\u001b[1;32m    487\u001b[0m     \u001b[0;32mwith\u001b[0m \u001b[0mparser\u001b[0m\u001b[0;34m:\u001b[0m\u001b[0;34m\u001b[0m\u001b[0;34m\u001b[0m\u001b[0m\n\u001b[0;32m--> 488\u001b[0;31m         \u001b[0;32mreturn\u001b[0m \u001b[0mparser\u001b[0m\u001b[0;34m.\u001b[0m\u001b[0mread\u001b[0m\u001b[0;34m(\u001b[0m\u001b[0mnrows\u001b[0m\u001b[0;34m)\u001b[0m\u001b[0;34m\u001b[0m\u001b[0;34m\u001b[0m\u001b[0m\n\u001b[0m\u001b[1;32m    489\u001b[0m \u001b[0;34m\u001b[0m\u001b[0m\n\u001b[1;32m    490\u001b[0m \u001b[0;34m\u001b[0m\u001b[0m\n",
            "\u001b[0;32m/usr/local/lib/python3.7/dist-packages/pandas/io/parsers/readers.py\u001b[0m in \u001b[0;36mread\u001b[0;34m(self, nrows)\u001b[0m\n\u001b[1;32m   1045\u001b[0m     \u001b[0;32mdef\u001b[0m \u001b[0mread\u001b[0m\u001b[0;34m(\u001b[0m\u001b[0mself\u001b[0m\u001b[0;34m,\u001b[0m \u001b[0mnrows\u001b[0m\u001b[0;34m=\u001b[0m\u001b[0;32mNone\u001b[0m\u001b[0;34m)\u001b[0m\u001b[0;34m:\u001b[0m\u001b[0;34m\u001b[0m\u001b[0;34m\u001b[0m\u001b[0m\n\u001b[1;32m   1046\u001b[0m         \u001b[0mnrows\u001b[0m \u001b[0;34m=\u001b[0m \u001b[0mvalidate_integer\u001b[0m\u001b[0;34m(\u001b[0m\u001b[0;34m\"nrows\"\u001b[0m\u001b[0;34m,\u001b[0m \u001b[0mnrows\u001b[0m\u001b[0;34m)\u001b[0m\u001b[0;34m\u001b[0m\u001b[0;34m\u001b[0m\u001b[0m\n\u001b[0;32m-> 1047\u001b[0;31m         \u001b[0mindex\u001b[0m\u001b[0;34m,\u001b[0m \u001b[0mcolumns\u001b[0m\u001b[0;34m,\u001b[0m \u001b[0mcol_dict\u001b[0m \u001b[0;34m=\u001b[0m \u001b[0mself\u001b[0m\u001b[0;34m.\u001b[0m\u001b[0m_engine\u001b[0m\u001b[0;34m.\u001b[0m\u001b[0mread\u001b[0m\u001b[0;34m(\u001b[0m\u001b[0mnrows\u001b[0m\u001b[0;34m)\u001b[0m\u001b[0;34m\u001b[0m\u001b[0;34m\u001b[0m\u001b[0m\n\u001b[0m\u001b[1;32m   1048\u001b[0m \u001b[0;34m\u001b[0m\u001b[0m\n\u001b[1;32m   1049\u001b[0m         \u001b[0;32mif\u001b[0m \u001b[0mindex\u001b[0m \u001b[0;32mis\u001b[0m \u001b[0;32mNone\u001b[0m\u001b[0;34m:\u001b[0m\u001b[0;34m\u001b[0m\u001b[0;34m\u001b[0m\u001b[0m\n",
            "\u001b[0;32m/usr/local/lib/python3.7/dist-packages/pandas/io/parsers/c_parser_wrapper.py\u001b[0m in \u001b[0;36mread\u001b[0;34m(self, nrows)\u001b[0m\n\u001b[1;32m    222\u001b[0m         \u001b[0;32mtry\u001b[0m\u001b[0;34m:\u001b[0m\u001b[0;34m\u001b[0m\u001b[0;34m\u001b[0m\u001b[0m\n\u001b[1;32m    223\u001b[0m             \u001b[0;32mif\u001b[0m \u001b[0mself\u001b[0m\u001b[0;34m.\u001b[0m\u001b[0mlow_memory\u001b[0m\u001b[0;34m:\u001b[0m\u001b[0;34m\u001b[0m\u001b[0;34m\u001b[0m\u001b[0m\n\u001b[0;32m--> 224\u001b[0;31m                 \u001b[0mchunks\u001b[0m \u001b[0;34m=\u001b[0m \u001b[0mself\u001b[0m\u001b[0;34m.\u001b[0m\u001b[0m_reader\u001b[0m\u001b[0;34m.\u001b[0m\u001b[0mread_low_memory\u001b[0m\u001b[0;34m(\u001b[0m\u001b[0mnrows\u001b[0m\u001b[0;34m)\u001b[0m\u001b[0;34m\u001b[0m\u001b[0;34m\u001b[0m\u001b[0m\n\u001b[0m\u001b[1;32m    225\u001b[0m                 \u001b[0;31m# destructive to chunks\u001b[0m\u001b[0;34m\u001b[0m\u001b[0;34m\u001b[0m\u001b[0;34m\u001b[0m\u001b[0m\n\u001b[1;32m    226\u001b[0m                 \u001b[0mdata\u001b[0m \u001b[0;34m=\u001b[0m \u001b[0m_concatenate_chunks\u001b[0m\u001b[0;34m(\u001b[0m\u001b[0mchunks\u001b[0m\u001b[0;34m)\u001b[0m\u001b[0;34m\u001b[0m\u001b[0;34m\u001b[0m\u001b[0m\n",
            "\u001b[0;32m/usr/local/lib/python3.7/dist-packages/pandas/_libs/parsers.pyx\u001b[0m in \u001b[0;36mpandas._libs.parsers.TextReader.read_low_memory\u001b[0;34m()\u001b[0m\n",
            "\u001b[0;32m/usr/local/lib/python3.7/dist-packages/pandas/_libs/parsers.pyx\u001b[0m in \u001b[0;36mpandas._libs.parsers.TextReader._read_rows\u001b[0;34m()\u001b[0m\n",
            "\u001b[0;32m/usr/local/lib/python3.7/dist-packages/pandas/_libs/parsers.pyx\u001b[0m in \u001b[0;36mpandas._libs.parsers.TextReader._tokenize_rows\u001b[0;34m()\u001b[0m\n",
            "\u001b[0;32m/usr/local/lib/python3.7/dist-packages/pandas/_libs/parsers.pyx\u001b[0m in \u001b[0;36mpandas._libs.parsers.raise_parser_error\u001b[0;34m()\u001b[0m\n",
            "\u001b[0;31mParserError\u001b[0m: Error tokenizing data. C error: Expected 1 fields in line 28, saw 509\n"
          ]
        }
      ]
    }
  ]
}