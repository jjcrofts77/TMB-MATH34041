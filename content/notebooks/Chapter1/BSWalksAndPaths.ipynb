{
  "nbformat": 4,
  "nbformat_minor": 0,
  "metadata": {
    "colab": {
      "name": "BSWalksAndPaths.ipynb",
      "provenance": [],
      "authorship_tag": "ABX9TyM0x6bU8cCkdlim4q82xJGK",
      "include_colab_link": true
    },
    "kernelspec": {
      "name": "python3",
      "display_name": "Python 3"
    },
    "language_info": {
      "name": "python"
    }
  },
  "cells": [
    {
      "cell_type": "markdown",
      "metadata": {
        "id": "view-in-github",
        "colab_type": "text"
      },
      "source": [
        "<a href=\"https://colab.research.google.com/github/jjcrofts77/TMB-MATH34041/blob/main/content/notebooks/Chapter1/BSWalksAndPaths.ipynb\" target=\"_parent\"><img src=\"https://colab.research.google.com/assets/colab-badge.svg\" alt=\"Open In Colab\"/></a>"
      ]
    },
    {
      "cell_type": "code",
      "execution_count": null,
      "metadata": {
        "id": "b7ehZthBMsFQ"
      },
      "outputs": [],
      "source": [
        ""
      ]
    },
    {
      "cell_type": "markdown",
      "source": [
        "# 1.2 Basic Statistics (Ctd)\n",
        "\n",
        "## 1.2.2 Traversing a network: walks and paths"
      ],
      "metadata": {
        "id": "DQNPbS7EMzst"
      }
    }
  ]
}