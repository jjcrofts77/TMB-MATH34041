{
  "nbformat": 4,
  "nbformat_minor": 0,
  "metadata": {
    "colab": {
      "name": "BSWalksAndPaths.ipynb",
      "provenance": [],
      "authorship_tag": "ABX9TyPJgu9xgI6tTdm7jmxSL4JX",
      "include_colab_link": true
    },
    "kernelspec": {
      "name": "python3",
      "display_name": "Python 3"
    },
    "language_info": {
      "name": "python"
    }
  },
  "cells": [
    {
      "cell_type": "markdown",
      "metadata": {
        "id": "view-in-github",
        "colab_type": "text"
      },
      "source": [
        "<a href=\"https://colab.research.google.com/github/jjcrofts77/TMB-MATH34041/blob/main/content/notebooks/Chapter1/BSWalksAndPaths.ipynb\" target=\"_parent\"><img src=\"https://colab.research.google.com/assets/colab-badge.svg\" alt=\"Open In Colab\"/></a>"
      ]
    },
    {
      "cell_type": "markdown",
      "source": [
        "# 1.2 Basic Statistics (Ctd)\n",
        "\n",
        "## 1.2.2 Traversing a network: walks and paths\n",
        "\n",
        "Network traversal refers to the process of visiting (potentially examining and/or updating) the nodes in a network. Integral to network traversal is the concept of a \\emph{walk} which provides information on indirect connections within the network (in contrast the adjacency matrix or network structure highlights direct connections). A walk of length $k$ is simply a series of edges $(v_{i_1}, v_{i_2}), (v_{i_2}, v_{i_3}),\\ldots (v_{i_k},v_{i_{k+1}})$, that is, any traversal of the network that follows $k$ edges. If $v_{i_1}=v_{i_{k+1}}$ then the walk is said to be closed. A \\emph{trail} is a walk in which all edges are distinct. A \\emph{path} is a trail in which all nodes are distinct. A closed path is called a \\emph{cycle} or \\emph{circuit}. Finally, a cycle of length 3 is called a \\emph{triangle}. Note that a network with no cycles is called a \\emph{tree}.\n",
        "\n",
        "\\begin{figure}\n",
        "\\centering\n",
        " \\includegraphics[scale=0.4]{Figures/PathExample}\n",
        " \\caption{An example of a (non-shortest) path between 2 nodes in a network.}\\label{fig4:PathExample}\n",
        "\\end{figure}\n",
        "\n",
        "Perhaps one of the most useful properties of the network adjacency matrix is that it can be used to count the number of walks in a network.\n",
        "\n",
        "\\begin{theorem}\\label{Theorem:Walks}\n",
        " The number of walks of length $k$ in a network $N=\\{V,E\\}$ from node $v_i$ to $v_j$ is given by the entry in position $(i,j)$ of the matrix $A^k$.\n",
        "\\end{theorem}\n",
        "\n",
        "\\bigskip\n",
        "\n",
        "\\noindent\\textbf{Exercise:} Prove the above theorem by induction.\n",
        "\n",
        "\\bigskip\n",
        "\n",
        "A network is said to be \\emph{connected} if each pair of vertices is connected by a walk. The number of edges traversed in the shortest walk (or path) joining $v_i$ and $v_j$ is called the \\emph{distance} in $N$ between $v_i$ and $v_j$. The maximum value of the distance function in a connected network $N$ is called the \\emph{diameter} of $N$. \n",
        "\n",
        "One of the most commonly employed network metrics used to describe a network is the \\emph{characteristic} or \\emph{average path-length} which is defined as \n",
        "\\begin{equation}\n",
        " \\langle l \\rangle = \\frac{1}{n(n-1)}\\sum_{i,j}d(v_i,v_j),\n",
        "\\end{equation}\n",
        "where $d(v_i,v_j)$ denotes the distance function. As with most of the definitions in this course the above can be extended to more general networks including both weighted and directed networks.\n",
        "\n",
        "\\bigskip\n",
        "\\noindent\\textbf{Exercise:} Compute $\\langle l\\rangle$ for the network in Figure \\ref{fig2:NetworkExamples}(a)."
      ],
      "metadata": {
        "id": "DQNPbS7EMzst"
      }
    }
  ]
}