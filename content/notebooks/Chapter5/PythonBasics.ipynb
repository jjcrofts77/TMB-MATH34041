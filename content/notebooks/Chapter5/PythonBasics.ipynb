{
  "nbformat": 4,
  "nbformat_minor": 0,
  "metadata": {
    "colab": {
      "provenance": [],
      "authorship_tag": "ABX9TyP3KEWW9UPHAPU5te4FL4Au",
      "include_colab_link": true
    },
    "kernelspec": {
      "name": "python3",
      "display_name": "Python 3"
    },
    "language_info": {
      "name": "python"
    }
  },
  "cells": [
    {
      "cell_type": "markdown",
      "metadata": {
        "id": "view-in-github",
        "colab_type": "text"
      },
      "source": [
        "<a href=\"https://colab.research.google.com/github/jjcrofts77/TMB-MATH34041/blob/main/content/notebooks/Chapter5/PythonBasics.ipynb\" target=\"_parent\"><img src=\"https://colab.research.google.com/assets/colab-badge.svg\" alt=\"Open In Colab\"/></a>"
      ]
    },
    {
      "cell_type": "markdown",
      "source": [
        "# Basics in Python\n",
        "\n",
        "This section aims to cover ...\n",
        "\n",
        "## Installing Python and add-ons\n",
        "If you wish to install Python on your own computer it is advisable to use an integrated system (IS) to avoid compatability issues. For this course the recommended IS is Anaconda, which is free to use and ships with "
      ],
      "metadata": {
        "id": "U-2RmyWJQlEu"
      }
    }
  ]
}