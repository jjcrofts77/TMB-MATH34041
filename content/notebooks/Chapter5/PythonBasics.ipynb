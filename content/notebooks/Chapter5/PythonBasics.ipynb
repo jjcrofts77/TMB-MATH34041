{
  "nbformat": 4,
  "nbformat_minor": 0,
  "metadata": {
    "colab": {
      "provenance": [],
      "authorship_tag": "ABX9TyMrSPrGa8EWgJG9Jn1wxtDp",
      "include_colab_link": true
    },
    "kernelspec": {
      "name": "python3",
      "display_name": "Python 3"
    },
    "language_info": {
      "name": "python"
    }
  },
  "cells": [
    {
      "cell_type": "markdown",
      "metadata": {
        "id": "view-in-github",
        "colab_type": "text"
      },
      "source": [
        "<a href=\"https://colab.research.google.com/github/jjcrofts77/TMB-MATH34041/blob/main/content/notebooks/Chapter5/PythonBasics.ipynb\" target=\"_parent\"><img src=\"https://colab.research.google.com/assets/colab-badge.svg\" alt=\"Open In Colab\"/></a>"
      ]
    },
    {
      "cell_type": "markdown",
      "source": [
        "# Basics in Python\n",
        "\n",
        "This section aims to cover ...\n",
        "\n",
        "## Installing Python and add-ons\n",
        "If you wish to install Python on your own computer it is advisable to use an integrated system (IS) to avoid compatability issues. For this course the recommended IS is [Anaconda](https://www.anaconda.com/), which is free to use and ships with [Spyder](https://www.spyder-ide.org/) a scientific Python development environment (see Figure {numref}`FigSpyderIDE3` for an example of the Spyder environment).\n",
        "\n",
        "```{figure} ../../images/SpyderIDEExample.png\n",
        "---\n",
        "height: 450px\n",
        "name: FigSpyderIDE3\n",
        "---\n",
        "Illustration of a Python script as seen in the Anaconda Spyder IDE\n",
        "```\n",
        "\n",
        "Once installed, you can launch Spyder through the Anaconda Navigator, which can be found under the list of programs prompted by opening Windows Start menu.\n",
        "\n",
        "The IDE consists of an Editor Window, an Object Inspector Window and The Console. The Editor Window is where we write our Python scripts; the Object Inspector is where we browse files, explore variables in the workspace and visulise plots; whilst the Console is where we access the iPython shell and see the results of our scripts.\n",
        "\n",
        "To create a Python script we enter commands into the editor, save our progam and run it by clicking on the green triangle in the upper-lefthand corner of the IDE; the results will displayed in the Python console in the lower-righthand pane of the IDE. (Again, see Figure {numref}`FigSpyderIDE3`)\n",
        "\n",
        "## Python as a calculator\n",
        "Python can be used as a calculator to perform basic and advanced arithmetic operations. Here are some examples of how to use Python as a calculator:\n",
        "\n",
        "  **Basic arithmetic operations:** Python can be used to perform basic arithmetic operations such as addition, subtraction, multiplication, and division. For example, the following code would add two numbers and print the result:"
      ],
      "metadata": {
        "id": "U-2RmyWJQlEu"
      }
    },
    {
      "cell_type": "code",
      "source": [
        "a = 10\n",
        "b = 5\n",
        "\n",
        "print(a + b)"
      ],
      "metadata": {
        "id": "DVCAfkzRc2fz",
        "outputId": "89f25670-6073-4e09-9199-bfc092ab3342",
        "colab": {
          "base_uri": "https://localhost:8080/"
        }
      },
      "execution_count": 1,
      "outputs": [
        {
          "output_type": "stream",
          "name": "stdout",
          "text": [
            "15\n"
          ]
        }
      ]
    },
    {
      "cell_type": "markdown",
      "source": [
        "  **Advanced arithmetic operations:** Python can also be used to perform more advanced arithmetic operations such as exponentiation, logarithms, and trigonometric functions. For example, the following code would calculate the square root of a number and print the result:"
      ],
      "metadata": {
        "id": "uJ_8D0MQdOkL"
      }
    },
    {
      "cell_type": "code",
      "source": [
        "import math\n",
        "\n",
        "number = 16\n",
        "\n",
        "print(math.sqrt(number))"
      ],
      "metadata": {
        "id": "4f0Do99wda_5",
        "outputId": "f17f2137-7ce4-4944-ea4c-c0d1d23c9333",
        "colab": {
          "base_uri": "https://localhost:8080/"
        }
      },
      "execution_count": 2,
      "outputs": [
        {
          "output_type": "stream",
          "name": "stdout",
          "text": [
            "4.0\n"
          ]
        }
      ]
    },
    {
      "cell_type": "markdown",
      "source": [
        "In the above we have imported the Python math module."
      ],
      "metadata": {
        "id": "wpzWHPkMdewE"
      }
    },
    {
      "cell_type": "markdown",
      "source": [
        "\n",
        "# Basic programming in Python\n",
        "\n",
        "In this section we shall see how Python can be used to write simple Python programs. We shall focus on three programming structures:\n",
        "\n",
        "  1. defining functions\n",
        "  2. using for and while loops\n",
        "  3. if, elif, else constructs\n",
        "\n",
        "We have seen versions of these structures when learning Matlab in Years 1 and 2.\n",
        "\n",
        "## Defining functions\n",
        "\n",
        "## Using loops\n",
        "\n",
        "## Conditional statements using if, elif, else"
      ],
      "metadata": {
        "id": "3VfEaO4wc5Yy"
      }
    }
  ]
}