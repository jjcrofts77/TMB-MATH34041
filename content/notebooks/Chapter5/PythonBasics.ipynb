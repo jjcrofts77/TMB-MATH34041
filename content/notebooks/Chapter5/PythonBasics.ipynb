{
  "nbformat": 4,
  "nbformat_minor": 0,
  "metadata": {
    "colab": {
      "provenance": [],
      "authorship_tag": "ABX9TyNd41n9tY0HOH2EFF2z9pIY",
      "include_colab_link": true
    },
    "kernelspec": {
      "name": "python3",
      "display_name": "Python 3"
    },
    "language_info": {
      "name": "python"
    }
  },
  "cells": [
    {
      "cell_type": "markdown",
      "metadata": {
        "id": "view-in-github",
        "colab_type": "text"
      },
      "source": [
        "<a href=\"https://colab.research.google.com/github/jjcrofts77/TMB-MATH34041/blob/main/content/notebooks/Chapter5/PythonBasics.ipynb\" target=\"_parent\"><img src=\"https://colab.research.google.com/assets/colab-badge.svg\" alt=\"Open In Colab\"/></a>"
      ]
    },
    {
      "cell_type": "markdown",
      "source": [
        "# Basics in Python\n",
        "\n",
        "This section aims to cover ...\n",
        "\n",
        "## Installing Python and add-ons\n",
        "If you wish to install Python on your own computer it is advisable to use an integrated system (IS) to avoid compatability issues. For this course the recommended IS is [Anaconda](https://www.anaconda.com/), which is free to use and ships with [Spyder](https://www.spyder-ide.org/) a scientific Python development environment (see Figure ... for an example of the Spyder environment).\n",
        "\n",
        "```{figure} ../../images/Spyder.png\n",
        "---\n",
        "height: 350px\n",
        "name: FigSpyder\n",
        "---\n",
        "Illustration of a Python script as seen in the Anaconda Spyder IDE\n",
        "```\n",
        "\n",
        "Once installed, we can launch Spyder through the Anaconda Navigator, which can be found under the list of programs available upon opening the Start menu. \n"
      ],
      "metadata": {
        "id": "U-2RmyWJQlEu"
      }
    }
  ]
}