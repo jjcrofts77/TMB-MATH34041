{
  "nbformat": 4,
  "nbformat_minor": 0,
  "metadata": {
    "colab": {
      "provenance": [],
      "authorship_tag": "ABX9TyNKfcBfQPSDM4pDyG/10yj1",
      "include_colab_link": true
    },
    "kernelspec": {
      "name": "python3",
      "display_name": "Python 3"
    },
    "language_info": {
      "name": "python"
    }
  },
  "cells": [
    {
      "cell_type": "markdown",
      "metadata": {
        "id": "view-in-github",
        "colab_type": "text"
      },
      "source": [
        "<a href=\"https://colab.research.google.com/github/jjcrofts77/TMB-MATH34041/blob/main/content/notebooks/Chapter5/PythonBasics.ipynb\" target=\"_parent\"><img src=\"https://colab.research.google.com/assets/colab-badge.svg\" alt=\"Open In Colab\"/></a>"
      ]
    },
    {
      "cell_type": "markdown",
      "source": [
        "# Basics in Python\n",
        "\n",
        "This section aims to cover ...\n",
        "\n",
        "## Installing Python and add-ons\n",
        "If you wish to install Python on your own computer it is advisable to use an integrated system (IS) to avoid compatability issues. For this course the recommended IS is [Anaconda](https://www.anaconda.com/), which is free to use and ships with [Spyder](https://www.spyder-ide.org/) a scientific Python development environment (see Figure {numref}`FigSpyderIDE3` for an example of the Spyder environment).\n",
        "\n",
        "```{figure} ../../images/SpyderIDEExample.png\n",
        "---\n",
        "height: 450px\n",
        "name: FigSpyderIDE3\n",
        "---\n",
        "Illustration of a Python script as seen in the Anaconda Spyder IDE\n",
        "```\n",
        "\n",
        "Once installed, you can launch Spyder through the Anaconda Navigator, which can be found under the list of programs prompted by opening Windows Start menu.\n",
        "\n",
        "The IDE consists of an Editor Window, an Object Inspector Window and The Console. The Editor Window is where we write our Python scripts; the Object Inspector is where we browse files, explore variables in the workspace and visulise plots; whilst the Console is where we access the iPython shell and see the results of our scripts.\n",
        "\n",
        "To create a Python script we enter commands into the editor, save our progam and run it by clicking on the green triangle in the upper-lefthand corner of the IDE; the results will displayed in the Python console in the lower-righthand pane of the IDE. (Again, see Figure {numref}`FigSpyderIDE3`)\n",
        "\n",
        "## Python as a calculator\n",
        "Python can be used as a calculator to perform basic and advanced arithmetic operations. Here are some examples of how to use Python as a calculator:\n",
        "\n",
        "  **Basic arithmetic operations:** Python can be used to perform basic arithmetic operations such as addition, subtraction, multiplication, and division. For example, the following code would add two numbers and print the result:"
      ],
      "metadata": {
        "id": "U-2RmyWJQlEu"
      }
    },
    {
      "cell_type": "code",
      "source": [
        "a = 10\n",
        "b = 5\n",
        "\n",
        "print(a + b)"
      ],
      "metadata": {
        "colab": {
          "base_uri": "https://localhost:8080/"
        },
        "id": "DVCAfkzRc2fz",
        "outputId": "89f25670-6073-4e09-9199-bfc092ab3342"
      },
      "execution_count": 1,
      "outputs": [
        {
          "output_type": "stream",
          "name": "stdout",
          "text": [
            "15\n"
          ]
        }
      ]
    },
    {
      "cell_type": "markdown",
      "source": [
        "  **Advanced arithmetic operations:** Python can also be used to perform more advanced arithmetic operations such as exponentiation, logarithms, and trigonometric functions. For example, the following code would calculate the square root of a number and print the result:"
      ],
      "metadata": {
        "id": "uJ_8D0MQdOkL"
      }
    },
    {
      "cell_type": "code",
      "source": [
        "import math\n",
        "\n",
        "number = 16\n",
        "\n",
        "print(math.sqrt(number))"
      ],
      "metadata": {
        "colab": {
          "base_uri": "https://localhost:8080/"
        },
        "id": "4f0Do99wda_5",
        "outputId": "f17f2137-7ce4-4944-ea4c-c0d1d23c9333"
      },
      "execution_count": 2,
      "outputs": [
        {
          "output_type": "stream",
          "name": "stdout",
          "text": [
            "4.0\n"
          ]
        }
      ]
    },
    {
      "cell_type": "markdown",
      "source": [
        "In the above we have imported the Python math module."
      ],
      "metadata": {
        "id": "wpzWHPkMdewE"
      }
    },
    {
      "cell_type": "markdown",
      "source": [
        "\n",
        "# Basic programming in Python\n",
        "\n",
        "In this section we shall see how Python can be used to write simple Python programs. We shall focus on three programming structures:\n",
        "\n",
        "  1. defining functions\n",
        "  2. using for and while loops\n",
        "  3. if, elif, else constructs\n",
        "\n",
        "We have seen versions of these structures when learning Matlab in Years 1 and 2.\n",
        "\n",
        "## Defining functions\n",
        "Below I have written a function for converting degrees Celsius to Kelvin.\n"
      ],
      "metadata": {
        "id": "3VfEaO4wc5Yy"
      }
    },
    {
      "cell_type": "code",
      "source": [
        "# A function to convert degrees Celsius to Kelvin\n",
        "# Save file as C2K.py\n",
        "# Run the module\n",
        "def C2K():\n",
        "  C = int(input('Enter temperature in degrees Celsius: '))\n",
        "  K = C + 273.15\n",
        "  print('Temperature in Kelvin is {} K'.format(K))\n",
        "\n",
        "# run the function\n",
        "C2K()"
      ],
      "metadata": {
        "id": "AZ_c304MQwLB"
      },
      "execution_count": null,
      "outputs": []
    },
    {
      "cell_type": "markdown",
      "source": [
        "Suppose we want to write a program that defines the *logistic equation* given by\n",
        "\n",
        "$$f(x) = \\mu x(1-x)$$\n",
        "\n",
        "Then we would define a function as follows"
      ],
      "metadata": {
        "id": "2E-wisneR100"
      }
    },
    {
      "cell_type": "code",
      "source": [
        "# The logistic equation - save as f_mu.py\n",
        "\n",
        "\"\"\"\n",
        "Created on Wednesday July 12th 14:29\n",
        "@author: JJCrofts\n",
        "\"\"\"\n",
        "def f_mu(mu, x):\n",
        "  return mu*x*(1-x)\n",
        "\n",
        "mu, x = 1, 0.25\n",
        "fm = f_mu(mu, x)\n",
        "print('fm = {}'.format(fm))"
      ],
      "metadata": {
        "id": "fsWScmSYSipu"
      },
      "execution_count": null,
      "outputs": []
    },
    {
      "cell_type": "markdown",
      "source": [
        "## Using loops\n",
        "The following examples illustrate how for and while loops can be used to speed up repetitive tasks.\n",
        "\n",
        "Let us write a program that list the first $n$ terms of the Fibonacci sequence\n",
        "\n",
        "$$\n",
        "x_{k+2} = x_{k+1}+x_k: \\quad x_0 = 0, x_1 = 1\n",
        "$$\n"
      ],
      "metadata": {
        "id": "8suGnMmDSDeD"
      }
    },
    {
      "cell_type": "code",
      "source": [
        "# A function to list the first n terms of the Fibonacci sequence\n",
        "\n",
        "def fibonacci(n):\n",
        "  a, b = 0, 1\n",
        "  print(a)\n",
        "  print(b)\n",
        "  print(a+b)\n",
        "  for i in range(n-3):\n",
        "    a, b = b, a+b\n",
        "    print(a+b)\n",
        "\n",
        "fibonacci(20)"
      ],
      "metadata": {
        "id": "542sQ-f-UFcA"
      },
      "execution_count": null,
      "outputs": []
    },
    {
      "cell_type": "markdown",
      "source": [
        "Recall that the above Fibonacci sequence can be solved analytically to obtain\n",
        "\n",
        "$$\n",
        "x_k =\n",
        "$$\n",
        "\n",
        "so we can check our result."
      ],
      "metadata": {
        "id": "cHvt48DHUpUh"
      }
    },
    {
      "cell_type": "markdown",
      "source": [
        "Next lets use loops to sum the first $n$ natual numbers"
      ],
      "metadata": {
        "id": "4LHbrmoeVBgg"
      }
    },
    {
      "cell_type": "code",
      "source": [
        "# A function to sum the first n natural numbers\n",
        "\n",
        "def sum_n(n):\n",
        "  sum = 0\n",
        "  i = 1\n",
        "  while i <= n:\n",
        "    sum += i\n",
        "    i += 1   # increment counter\n",
        "  print('The sum is', sum)\n",
        "\n",
        "# run function\n",
        "sum_n(100)"
      ],
      "metadata": {
        "id": "slgOKTuKVIF6"
      },
      "execution_count": null,
      "outputs": []
    },
    {
      "cell_type": "markdown",
      "source": [
        "## Conditional statements using if, elif, else"
      ],
      "metadata": {
        "id": "QOB52HD3Uq1v"
      }
    }
  ]
}