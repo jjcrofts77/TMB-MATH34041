{
  "nbformat": 4,
  "nbformat_minor": 0,
  "metadata": {
    "colab": {
      "provenance": [],
      "authorship_tag": "ABX9TyO2OYeyb/+6ZQKY4TPutmaD",
      "include_colab_link": true
    },
    "kernelspec": {
      "name": "python3",
      "display_name": "Python 3"
    },
    "language_info": {
      "name": "python"
    }
  },
  "cells": [
    {
      "cell_type": "markdown",
      "metadata": {
        "id": "view-in-github",
        "colab_type": "text"
      },
      "source": [
        "<a href=\"https://colab.research.google.com/github/jjcrofts77/TMB-MATH34041/blob/main/content/notebooks/Chapter5/PythonNetworkX.ipynb\" target=\"_parent\"><img src=\"https://colab.research.google.com/assets/colab-badge.svg\" alt=\"Open In Colab\"/></a>"
      ]
    },
    {
      "cell_type": "markdown",
      "source": [
        "# Introduction to the NetworkX Package\n",
        "\n",
        "This tutorial will cover the basics of networks, using Python and Networkx, on Jupyter Notebooks. Students are requested to download the [Anaconda distribution](https://docs.anaconda.com/anaconda/install/) of Python (which bundles together many Python libraries and packages) prior to the course beginning. Alternatively, a [Google Colab Notebook](https://colab.research.google.com/notebooks/intro.ipynb) can be used."
      ],
      "metadata": {
        "id": "Xte7Cph0O0vN"
      }
    }
  ]
}